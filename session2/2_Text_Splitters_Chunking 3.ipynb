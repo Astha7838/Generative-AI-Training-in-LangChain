{
 "cells": [
  {
   "cell_type": "markdown",
   "id": "728f1747-b8fc-4d31-96c2-047fc83c079d",
   "metadata": {},
   "source": [
    "#  **2. Text splitters (Chunking)**\n",
    "\n",
    "LLMs and embedding models are designed with a hard limit on the size of input and output tokens they can handle. This limit is usually called context window, and usually applies to the combination of input and output; Context windows are usually measured in number of tokens, for instance 8,192 tokens. Tokens, as mentioned in the Preface, are a representation of text as numbers, with each token usually covering between three and four characters of English text.\n",
    "\n",
    "\n",
    "- https://python.langchain.com/docs/concepts/text_splitters/"
   ]
  },
  {
   "cell_type": "markdown",
   "id": "2965da4b",
   "metadata": {},
   "source": [
    "## 📌 Why Do We Need to Break Text into Chunks?\n",
    "\n",
    "\n",
    "## **1️⃣ LLM Token Limits**\n",
    "✅ **LLMs like GPT-4 have a token limit** (e.g., 4,096 or 8,192 tokens).  \n",
    "✅ If a document **exceeds this limit**, it **cannot be processed** in a single request.  \n",
    "✅ **Chunking ensures text fits within token constraints**, allowing LLMs to process long documents efficiently.\n",
    "\n",
    "🔹 **Example Use Case:**  \n",
    "- A **50-page legal document** needs to be **split into smaller sections** for question-answering with GPT.\n",
    "\n",
    "---\n",
    "\n",
    "## **2️⃣ Improves Retrieval Accuracy in Vector Databases**\n",
    "✅ **Vector search systems (e.g., ChromaDB, FAISS, Pinecone) store text embeddings**.  \n",
    "✅ **If chunks are too large**, embeddings lose specificity, reducing **search accuracy**.  \n",
    "✅ Chunking creates **smaller, more precise embeddings**, improving **semantic search and RAG (Retrieval-Augmented Generation).**\n",
    "\n",
    "🔹 **Example Use Case:**  \n",
    "- Searching for **a specific legal clause** is easier if the text is chunked properly.\n",
    "\n",
    "---\n",
    "\n",
    "## **3️⃣ Keeps Context While Preventing Data Loss**\n",
    "✅ **If chunks are too small**, they lose meaning because context is missing.  \n",
    "✅ **If chunks are too large**, important details might be **buried** or **not retrieved efficiently**.  \n",
    "✅ **Balanced chunking** ensures **each chunk contains enough information** while staying manageable.\n",
    "\n",
    "🔹 **Example Use Case:**  \n",
    "- A chatbot answering **medical questions** needs to **retain enough context** per chunk.\n",
    "\n",
    "---\n",
    "\n",
    "## **🚀 Why Break Text into Chunks?**\n",
    "| **Problem** | **Solution with Chunking** |\n",
    "|------------|--------------------------|\n",
    "| LLM token limit exceeded | Splits long text into **manageable sections** |\n",
    "| Poor search accuracy | Creates **smaller, precise embeddings** |\n",
    "| Mid-sentence breaks lose meaning | Preserves **logical structure** |\n",
    "| Inefficient processing | Allows **efficient streaming & indexing** |\n",
    "\n",
    "📌 **Chunking ensures LLMs handle large texts effectively, improving retrieval, search, and contextual understanding!** 🚀😊\n"
   ]
  },
  {
   "cell_type": "code",
   "execution_count": null,
   "id": "fbc42d0e-f2c4-4a31-ab3f-dc38ef6b8fe4",
   "metadata": {},
   "outputs": [],
   "source": [
    "with open('some_data/FDR_State_of_Union_1944.txt') as file:\n",
    "    speech_text = file.read()\n"
   ]
  },
  {
   "cell_type": "code",
   "execution_count": 175,
   "id": "ec14194a-c4ca-43c0-bb97-f8e0b514b30c",
   "metadata": {},
   "outputs": [
    {
     "data": {
      "text/plain": [
       "21927"
      ]
     },
     "execution_count": 175,
     "metadata": {},
     "output_type": "execute_result"
    }
   ],
   "source": [
    "# Characters\n",
    "len(speech_text)"
   ]
  },
  {
   "cell_type": "code",
   "execution_count": 176,
   "id": "9c45c0e1-41b6-459a-83bb-1a81f851b07f",
   "metadata": {},
   "outputs": [
    {
     "data": {
      "text/plain": [
       "3750"
      ]
     },
     "execution_count": 176,
     "metadata": {},
     "output_type": "execute_result"
    }
   ],
   "source": [
    "# Words\n",
    "len(speech_text.split())"
   ]
  },
  {
   "cell_type": "markdown",
   "id": "04e92942",
   "metadata": {},
   "source": [
    "## **🚀 Which Text Splitter Should You Use?**\n",
    "| **Splitter** | **How It Works** | **Best For** |\n",
    "|-------------|----------------|--------------|\n",
    "| **CharacterTextSplitter** | Splits by raw characters (simple but naive) | Basic text chunking |\n",
    "| **CharacterTextSplitter.from_tiktoken_encoder()** | Splits by OpenAI `tiktoken` tokens | GPT/OpenAI token efficiency |\n",
    "| **RecursiveCharacterTextSplitter** | Smart recursive splitting (best for structured text) | Most use cases (retrieval, search, chatbots) |\n",
    "| **RecursiveCharacterTextSplitter.from_tiktoken_encoder()** | Smart recursive splitting Splits by OpenAI `tiktoken` tokens | Most use cases (retrieval, search, chatbots) |\n",
    "\n",
    "✔ **Use `CharacterTextSplitter`** → If you want a **basic and fast** approach.  \n",
    "✔ **Use `CharacterTextSplitter.from_tiktoken_encoder()`** → If working with **OpenAI models** to ensure **token-aware chunking**.  \n",
    "✔ **Use `RecursiveCharacterTextSplitter`** → If you need **structured, smart splitting** (recommended for most cases).  \n",
    "✔ **Use `RecursiveCharacterTextSplitter.from_tiktoken_encoder()`** → If you need **structured, smart splitting** If working with **OpenAI models** to ensure **token-aware chunking**).  \n"
   ]
  },
  {
   "cell_type": "markdown",
   "id": "8e61116e",
   "metadata": {},
   "source": [
    "## **1️⃣ CharacterTextSplitter (Length Based)**\n",
    "✅ Splits text based on **characters** (e.g., `\\n\\n` for paragraphs, `.` for sentences).  \n",
    "✅ Simple and fast, good for **small texts**.  \n",
    "❌ May **split mid-sentence** or **lose context** if not tuned properly.  \n",
    "\n",
    "🔹 **Best For:** Simple **text splitting when structure isn’t a concern**.\n",
    "\n",
    "- https://python.langchain.com/docs/how_to/character_text_splitter/\n",
    "\n",
    "---"
   ]
  },
  {
   "cell_type": "code",
   "execution_count": 177,
   "id": "1fe8da09-e689-4dcc-9a7d-83a1c9bd37b1",
   "metadata": {},
   "outputs": [],
   "source": [
    "from langchain_openai import ChatOpenAI\n",
    "from langchain_text_splitters import CharacterTextSplitter"
   ]
  },
  {
   "cell_type": "code",
   "execution_count": 41,
   "id": "2115b341-b681-4aca-963e-e4fbd0ea1966",
   "metadata": {},
   "outputs": [],
   "source": [
    "text_splitter = CharacterTextSplitter(separator=\"\\n\\n\",\n",
    "                                       chunk_size=1000, # max number of characters\n",
    "                                       chunk_overlap=100\n",
    "                                       ) "
   ]
  },
  {
   "cell_type": "code",
   "execution_count": 42,
   "id": "be91bcce-f209-452c-988c-574d80d3ee97",
   "metadata": {},
   "outputs": [
    {
     "name": "stdout",
     "output_type": "stream",
     "text": [
      "27\n"
     ]
    },
    {
     "data": {
      "text/plain": [
       "[Document(page_content=\"This Nation in the past two years has become an active partner in the world's greatest war against human slavery. We have joined with like-minded people in order to defend ourselves in a world that has been gravely threatened with gangster rule. But I do not think that any of us Americans can be content with mere survival. Sacrifices that we and our allies are making impose upon us all a sacred obligation to see to it that out of this war we and our children will gain something better than mere survival.\\n\\nWe are united in determination that this war shall not be followed by another interim which leads to new disaster- that we shall not repeat the tragic errors of ostrich isolationism—that we shall not repeat the excesses of the wild twenties when this Nation went for a joy ride on a roller coaster which ended in a tragic crash.\"),\n",
       " Document(page_content='When Mr. Hull went to Moscow in October, and when I went to Cairo and Teheran in November, we knew that we were in agreement with our allies in our common determination to fight and win this war. But there were many vital questions concerning the future peace, and they were discussed in an atmosphere of complete candor and harmony.\\n\\nIn the last war such discussions, such meetings, did not even begin until the shooting had stopped and the delegates began to assemble at the peace table. There had been no previous opportunities for man-to-man discussions which lead to meetings of minds. The result was a peace which was not a peace. That was a mistake which we are not repeating in this war.\\n\\nAnd right here I want to address a word or two to some suspicious souls who are fearful that Mr. Hull or I have made \"commitments\" for the future which might pledge this Nation to secret treaties, or to enacting the role of Santa Claus.'),\n",
       " Document(page_content='To such suspicious souls—using a polite terminology—I wish to say that Mr. Churchill, and Marshal Stalin, and Generalissimo Chiang Kai-shek are all thoroughly conversant with the provisions of our Constitution. And so is Mr. Hull. And so am I.\\n\\nOf course we made some commitments. We most certainly committed ourselves to very large and very specific military plans which require the use of all Allied forces to bring about the defeat of our enemies at the earliest possible time.\\n\\nBut there were no secret treaties or political or financial commitments.\\n\\nThe one supreme objective for the future, which we discussed for each Nation individually, and for all the United Nations, can be summed up in one word: Security.\\n\\nAnd that means not only physical security which provides safety from attacks by aggressors. It means also economic security, social security, moral security—in a family of Nations.'),\n",
       " Document(page_content='In the plain down-to-earth talks that I had with the Generalissimo and Marshal Stalin and Prime Minister Churchill, it was abundantly clear that they are all most deeply interested in the resumption of peaceful progress by their own peoples—progress toward a better life. All our allies want freedom to develop their lands and resources, to build up industry, to increase education and individual opportunity, and to raise standards of living.\\n\\nAll our allies have learned by bitter experience that real development will not be possible if they are to be diverted from their purpose by repeated wars—or even threats of war.\\n\\nChina and Russia are truly united with Britain and America in recognition of this essential fact:'),\n",
       " Document(page_content='China and Russia are truly united with Britain and America in recognition of this essential fact:\\n\\nThe best interests of each Nation, large and small, demand that all freedom-loving Nations shall join together in a just and durable system of peace. In the present world situation, evidenced by the actions of Germany, Italy, and Japan, unquestioned military control over disturbers of the peace is as necessary among Nations as it is among citizens in a community. And an equally basic essential to peace is a decent standard of living for all individual men and women and children in all Nations. Freedom from fear is eternally linked with freedom from want.\\n\\nThere are people who burrow through our Nation like unseeing moles, and attempt to spread the suspicion that if other Nations are encouraged to raise their standards of living, our own American standard of living must of necessity be depressed.'),\n",
       " Document(page_content='The fact is the very contrary. It has been shown time and again that if the standard of living of any country goes up, so does its purchasing power- and that such a rise encourages a better standard of living in neighboring countries with whom it trades. That is just plain common sense—and it is the kind of plain common sense that provided the basis for our discussions at Moscow, Cairo, and Teheran.\\n\\nReturning from my journeyings, I must confess to a sense of \"let-down\" when I found many evidences of faulty perspective here in Washington. The faulty perspective consists in overemphasizing lesser problems and thereby underemphasizing the first and greatest problem.'),\n",
       " Document(page_content='The overwhelming majority of our people have met the demands of this war with magnificent courage and understanding. They have accepted inconveniences; they have accepted hardships; they have accepted tragic sacrifices. And they are ready and eager to make whatever further contributions are needed to win the war as quickly as possible- if only they are given the chance to know what is required of them.\\n\\nHowever, while the majority goes on about its great work without complaint, a noisy minority maintains an uproar of demands for special favors for special groups. There are pests who swarm through the lobbies of the Congress and the cocktail bars of Washington, representing these special groups as opposed to the basic interests of the Nation as a whole. They have come to look upon the war primarily as a chance to make profits for themselves at the expense of their neighbors- profits in money or in terms of political or social preferment.'),\n",
       " Document(page_content='Such selfish agitation can be highly dangerous in wartime. It creates confusion. It damages morale. It hampers our national effort. It muddies the waters and therefore prolongs the war.\\n\\nIf we analyze American history impartially, we cannot escape the fact that in our past we have not always forgotten individual and selfish and partisan interests in time of war—we have not always been united in purpose and direction. We cannot overlook the serious dissensions and the lack of unity in our war of the Revolution, in our War of 1812, or in our War Between the States, when the survival of the Union itself was at stake.\\n\\nIn the first World War we came closer to national unity than in any previous war. But that war lasted only a year and a half, and increasing signs of disunity began to appear during the final months of the conflict.\\n\\nIn this war, we have been compelled to learn how interdependent upon each other are all groups and sections of the population of America.'),\n",
       " Document(page_content='Increased food costs, for example, will bring new demands for wage increases from all war workers, which will in turn raise all prices of all things including those things which the farmers themselves have to buy. Increased wages or prices will each in turn produce the same results. They all have a particularly disastrous result on all fixed income groups.\\n\\nAnd I hope you will remember that all of us in this Government represent the fixed income group just as much as we represent business owners, workers, and farmers. This group of fixed income people includes: teachers, clergy, policemen, firemen, widows and minors on fixed incomes, wives and dependents of our soldiers and sailors, and old-age pensioners. They and their families add up to one-quarter of our one hundred and thirty million people. They have few or no high pressure representatives at the Capitol. In a period of gross inflation they would be the worst sufferers.'),\n",
       " Document(page_content='If ever there was a time to subordinate individual or group selfishness to the national good, that time is now. Disunity at home—bickerings, self-seeking partisanship, stoppages of work, inflation, business as usual, politics as usual, luxury as usual these are the influences which can undermine the morale of the brave men ready to die at the front for us here.\\n\\nThose who are doing most of the complaining are not deliberately striving to sabotage the national war effort. They are laboring under the delusion that the time is past when we must make prodigious sacrifices- that the war is already won and we can begin to slacken off. But the dangerous folly of that point of view can be measured by the distance that separates our troops from their ultimate objectives in Berlin and Tokyo—and by the sum of all the perils that lie along the way.'),\n",
       " Document(page_content='Overconfidence and complacency are among our deadliest enemies. Last spring—after notable victories at Stalingrad and in Tunisia and against the U-boats on the high seas—overconfidence became so pronounced that war production fell off. In two months, June and July, 1943, more than a thousand airplanes that could have been made and should have been made were not made. Those who failed to make them were not on strike. They were merely saying, \"The war\\'s in the bag- so let\\'s relax.\"\\n\\nThat attitude on the part of anyone—Government or management or labor—can lengthen this war. It can kill American boys.\\n\\nLet us remember the lessons of 1918. In the summer of that year the tide turned in favor of the allies. But this Government did not relax. In fact, our national effort was stepped up. In August, 1918, the draft age limits were broadened from 21-31 to 18-45. The President called for \"force to the utmost,\" and his call was heeded. And in November, only three months later, Germany surrendered.'),\n",
       " Document(page_content='That is the way to fight and win a war—all out—and not with half-an-eye on the battlefronts abroad and the other eye-and-a-half on personal, selfish, or political interests here at home.\\n\\nTherefore, in order to concentrate all our energies and resources on winning the war, and to maintain a fair and stable economy at home, I recommend that the Congress adopt:\\n\\n(1) A realistic tax law—which will tax all unreasonable profits, both individual and corporate, and reduce the ultimate cost of the war to our sons and daughters. The tax bill now under consideration by the Congress does not begin to meet this test.\\n\\n(2) A continuation of the law for the renegotiation of war contracts—which will prevent exorbitant profits and assure fair prices to the Government. For two long years I have pleaded with the Congress to take undue profits out of war.'),\n",
       " Document(page_content='(3) A cost of food law—which will enable the Government (a) to place a reasonable floor under the prices the farmer may expect for his production; and (b) to place a ceiling on the prices a consumer will have to pay for the food he buys. This should apply to necessities only; and will require public funds to carry out. It will cost in appropriations about one percent of the present annual cost of the war.\\n\\n(4) Early reenactment of. the stabilization statute of October, 1942. This expires June 30, 1944, and if it is not extended well in advance, the country might just as well expect price chaos by summer.\\n\\n(5) A national service law- which, for the duration of the war, will prevent strikes, and, with certain appropriate exceptions, will make available for war production or for any other essential services every able-bodied adult in this Nation.'),\n",
       " Document(page_content='These five measures together form a just and equitable whole. I would not recommend a national service law unless the other laws were passed to keep down the cost of living, to share equitably the burdens of taxation, to hold the stabilization line, and to prevent undue profits.\\n\\nThe Federal Government already has the basic power to draft capital and property of all kinds for war purposes on a basis of just compensation.\\n\\nAs you know, I have for three years hesitated to recommend a national service act. Today, however, I am convinced of its necessity. Although I believe that we and our allies can win the war without such a measure, I am certain that nothing less than total mobilization of all our resources of manpower and capital will guarantee an earlier victory, and reduce the toll of suffering and sorrow and blood.'),\n",
       " Document(page_content='I have received a joint recommendation for this law from the heads of the War Department, the Navy Department, and the Maritime Commission. These are the men who bear responsibility for the procurement of the necessary arms and equipment, and for the successful prosecution of the war in the field. They say:\\n\\n\"When the very life of the Nation is in peril the responsibility for service is common to all men and women. In such a time there can be no discrimination between the men and women who are assigned by the Government to its defense at the battlefront and the men and women assigned to producing the vital materials essential to successful military operations. A prompt enactment of a National Service Law would be merely an expression of the universality of this responsibility.\"\\n\\nI believe the country will agree that those statements are the solemn truth.'),\n",
       " Document(page_content='I believe the country will agree that those statements are the solemn truth.\\n\\nNational service is the most democratic way to wage a war. Like selective service for the armed forces, it rests on the obligation of each citizen to serve his Nation to his utmost where he is best qualified.\\n\\nIt does not mean reduction in wages. It does not mean loss of retirement and seniority rights and benefits. It does not mean that any substantial numbers of war workers will be disturbed in their present jobs. Let these facts be wholly clear.\\n\\nExperience in other democratic Nations at war—Britain, Canada, Australia, and New Zealand- has shown that the very existence of national service makes unnecessary the widespread use of compulsory power. National service has proven to be a unifying moral force based on an equal and comprehensive legal obligation of all people in a Nation at war.'),\n",
       " Document(page_content='There are millions of American men and women who are not in this war at all. It is not because they do not want to be in it. But they want to know where they can best do their share. National service provides that direction. It will be a means by which every man and woman can find that inner satisfaction which comes from making the fullest possible contribution to victory.\\n\\nI know that all civilian war workers will be glad to be able to say many years hence to their grandchildren: \"Yes, I, too, was in service in the great war. I was on duty in an airplane factory, and I helped make hundreds of fighting planes. The Government told me that in doing that I was performing my most useful work in the service of my country.\"'),\n",
       " Document(page_content='It is argued that we have passed the stage in the war where national service is necessary. But our soldiers and sailors know that this is not true. We are going forward on a long, rough road- and, in all journeys, the last miles are the hardest. And it is for that final effort—for the total defeat of our enemies-that we must mobilize our total resources. The national war program calls for the employment of more people in 1944 than in 1943.\\n\\nIt is my conviction that the American people will welcome this win-the-war measure which is based on the eternally just principle of \"fair for one, fair for all.\"\\n\\nIt will give our people at home the assurance that they are standing four-square behind our soldiers and sailors. And it will give our enemies demoralizing assurance that we mean business -that we, 130,000,000 Americans, are on the march to Rome, Berlin, and Tokyo.'),\n",
       " Document(page_content=\"I hope that the Congress will recognize that, although this is a political year, national service is an issue which transcends politics. Great power must be used for great purposes.\\n\\nAs to the machinery for this measure, the Congress itself should determine its nature—but it should be wholly nonpartisan in its make-up.\\n\\nOur armed forces are valiantly fulfilling their responsibilities to our country and our people. Now the Congress faces the responsibility for taking those measures which are essential to national security in this the most decisive phase of the Nation's greatest war.\"),\n",
       " Document(page_content='Several alleged reasons have prevented the enactment of legislation which would preserve for our soldiers and sailors and marines the fundamental prerogative of citizenship—the right to vote. No amount of legalistic argument can becloud this issue in the eyes of these ten million American citizens. Surely the signers of the Constitution did not intend a document which, even in wartime, would be construed to take away the franchise of any of those who are fighting to preserve the Constitution itself.'),\n",
       " Document(page_content='Our soldiers and sailors and marines know that the overwhelming majority of them will be deprived of the opportunity to vote, if the voting machinery is left exclusively to the States under existing State laws—and that there is no likelihood of these laws being changed in time to enable them to vote at the next election. The Army and Navy have reported that it will be impossible effectively to administer forty-eight different soldier voting laws. It is the duty of the Congress to remove this unjustifiable discrimination against the men and women in our armed forces- and to do it as quickly as possible.'),\n",
       " Document(page_content='It is our duty now to begin to lay the plans and determine the strategy for the winning of a lasting peace and the establishment of an American standard of living higher than ever before known. We cannot be content, no matter how high that general standard of living may be, if some fraction of our people—whether it be one-third or one-fifth or one-tenth- is ill-fed, ill-clothed, ill housed, and insecure.\\n\\nThis Republic had its beginning, and grew to its present strength, under the protection of certain inalienable political rights—among them the right of free speech, free press, free worship, trial by jury, freedom from unreasonable searches and seizures. They were our rights to life and liberty.\\n\\nAs our Nation has grown in size and stature, however—as our industrial economy expanded—these political rights proved inadequate to assure us equality in the pursuit of happiness.'),\n",
       " Document(page_content='We have come to a clear realization of the fact that true individual freedom cannot exist without economic security and independence. \"Necessitous men are not free men.\" People who are hungry and out of a job are the stuff of which dictatorships are made.\\n\\nIn our day these economic truths have become accepted as self-evident. We have accepted, so to speak, a second Bill of Rights under which a new basis of security and prosperity can be established for all regardless of station, race, or creed.\\n\\nAmong these are:\\n\\nThe right to a useful and remunerative job in the industries or shops or farms or mines of the Nation;\\n\\nThe right to earn enough to provide adequate food and clothing and recreation;\\n\\nThe right of every farmer to raise and sell his products at a return which will give him and his family a decent living;\\n\\nThe right of every businessman, large and small, to trade in an atmosphere of freedom from unfair competition and domination by monopolies at home or abroad;'),\n",
       " Document(page_content=\"The right of every family to a decent home;\\n\\nThe right to adequate medical care and the opportunity to achieve and enjoy good health;\\n\\nThe right to adequate protection from the economic fears of old age, sickness, accident, and unemployment;\\n\\nThe right to a good education.\\n\\nAll of these rights spell security. And after this war is won we must be prepared to move forward, in the implementation of these rights, to new goals of human happiness and well-being.\\n\\nAmerica's own rightful place in the world depends in large part upon how fully these and similar rights have been carried into practice for our citizens. For unless there is security here at home there cannot be lasting peace in the world.\"),\n",
       " Document(page_content='One of the great American industrialists of our day—a man who has rendered yeoman service to his country in this crisis-recently emphasized the grave dangers of \"rightist reaction\" in this Nation. All clear-thinking businessmen share his concern. Indeed, if such reaction should develop—if history were to repeat itself and we were to return to the so-called \"normalcy\" of the 1920\\'s—then it is certain that even though we shall have conquered our enemies on the battlefields abroad, we shall have yielded to the spirit of Fascism here at home.'),\n",
       " Document(page_content='I ask the Congress to explore the means for implementing this economic bill of rights- for it is definitely the responsibility of the Congress so to do. Many of these problems are already before committees of the Congress in the form of proposed legislation. I shall from time to time communicate with the Congress with respect to these and further proposals. In the event that no adequate program of progress is evolved, I am certain that the Nation will be conscious of the fact.\\n\\nOur fighting men abroad- and their families at home- expect such a program and have the right to insist upon it. It is to their demands that this Government should pay heed rather than to the whining demands of selfish pressure groups who seek to feather their nests while young Americans are dying.'),\n",
       " Document(page_content='The foreign policy that we have been following—the policy that guided us at Moscow, Cairo, and Teheran—is based on the common sense principle which was best expressed by Benjamin Franklin on July 4, 1776: \"We must all hang together, or assuredly we shall all hang separately.\"\\n\\nI have often said that there are no two fronts for America in this war. There is only one front. There is one line of unity which extends from the hearts of the people at home to the men of our attacking forces in our farthest outposts. When we speak of our total effort, we speak of the factory and the field, and the mine as well as of the battleground -- we speak of the soldier and the civilian, the citizen and his Government.\\n\\nEach and every one of us has a solemn obligation under God to serve this Nation in its most critical hour—to keep this Nation great -- to make this Nation greater in a better world.')]"
      ]
     },
     "execution_count": 42,
     "metadata": {},
     "output_type": "execute_result"
    }
   ],
   "source": [
    "texts = text_splitter.create_documents([speech_text]) # speech_text is a text file\n",
    "\n",
    "print(len(texts))\n",
    "texts"
   ]
  },
  {
   "cell_type": "code",
   "execution_count": 43,
   "id": "fe790487",
   "metadata": {},
   "outputs": [
    {
     "name": "stdout",
     "output_type": "stream",
     "text": [
      "This Nation in the past two years has become an active partner in the world's greatest war against human slavery. We have joined with like-minded people in order to defend ourselves in a world that has been gravely threatened with gangster rule. But I do not think that any of us Americans can be content with mere survival. Sacrifices that we and our allies are making impose upon us all a sacred obligation to see to it that out of this war we and our children will gain something better than mere survival.\n",
      "\n",
      "We are united in determination that this war shall not be followed by another interim which leads to new disaster- that we shall not repeat the tragic errors of ostrich isolationism—that we shall not repeat the excesses of the wild twenties when this Nation went for a joy ride on a roller coaster which ended in a tragic crash.\n"
     ]
    }
   ],
   "source": [
    "print(texts[0].page_content)"
   ]
  },
  {
   "cell_type": "code",
   "execution_count": 44,
   "id": "851d5b15",
   "metadata": {},
   "outputs": [
    {
     "name": "stdout",
     "output_type": "stream",
     "text": [
      "839 152\n",
      "933 169\n",
      "900 145\n",
      "722 117\n",
      "905 150\n",
      "672 112\n",
      "950 159\n",
      "977 172\n",
      "939 156\n",
      "848 147\n",
      "1000 169\n",
      "848 144\n",
      "855 149\n",
      "829 144\n",
      "866 147\n",
      "878 149\n",
      "727 139\n",
      "874 154\n",
      "588 93\n",
      "504 80\n",
      "609 104\n",
      "886 144\n",
      "982 172\n",
      "701 121\n",
      "544 88\n",
      "782 137\n",
      "892 166\n"
     ]
    }
   ],
   "source": [
    "for text in texts:\n",
    "    print(len(text.page_content), len(text.page_content.split())) "
   ]
  },
  {
   "cell_type": "markdown",
   "id": "3d2f43bc",
   "metadata": {},
   "source": [
    "## **2️⃣ CharacterTextSplitter.from_tiktoken_encoder() (Token-Based Splitter)**\n",
    "✅ Uses **OpenAI’s `tiktoken` tokenizer** to split text by **tokens instead of characters**.  \n",
    "✅ More efficient for **LLMs that count tokens (GPT models)**.  \n",
    "✅ Helps **avoid exceeding token limits** in API requests.  \n",
    "\n",
    "🔹 **Best For:** When using **GPT-based models** (OpenAI) to control **token counts accurately**.\n",
    "\n",
    "---"
   ]
  },
  {
   "cell_type": "markdown",
   "id": "2f2c03be",
   "metadata": {},
   "source": [
    "### If you encountered the following error while using `tiktoken`:\n",
    "\n",
    "```python\n",
    "SSLError: HTTPSConnectionPool(host='openaipublic.blob.core.windows.net', port=443): \n",
    "Max retries exceeded with url: /encodings/cl100k_base.tiktoken \n",
    "(Caused by SSLError(SSLCertVerificationError(1, \n",
    "'[SSL: CERTIFICATE_VERIFY_FAILED] certificate verify failed: \n",
    "unable to get local issuer certificate (_ssl.c:1125)')))\n",
    "\n",
    "Follows these steps:"
   ]
  },
  {
   "cell_type": "markdown",
   "id": "c71a9b14",
   "metadata": {},
   "source": [
    "### **Step 1: Getting the blob URL**\n",
    "\n",
    "First, let's grab the tokenizer blob URL. Run the code blow and copy the url for cl100k_base.tiktoken"
   ]
  },
  {
   "cell_type": "code",
   "execution_count": 182,
   "id": "99130dbb",
   "metadata": {},
   "outputs": [
    {
     "name": "stdout",
     "output_type": "stream",
     "text": [
      "['ENCODING_CONSTRUCTORS', 'ENDOFPROMPT', 'ENDOFTEXT', 'FIM_MIDDLE', 'FIM_PREFIX', 'FIM_SUFFIX', '__builtins__', '__cached__', '__doc__', '__file__', '__loader__', '__name__', '__package__', '__spec__', 'cl100k_base', 'data_gym_to_mergeable_bpe_ranks', 'gpt2', 'load_tiktoken_bpe', 'o200k_base', 'p50k_base', 'p50k_edit', 'r50k_base']\n",
      "def cl100k_base():\n",
      "    mergeable_ranks = load_tiktoken_bpe(\n",
      "        \"https://openaipublic.blob.core.windows.net/encodings/cl100k_base.tiktoken\",\n",
      "        expected_hash=\"223921b76ee99bde995b7ff738513eef100fb51d18c93597a113bcffe865b2a7\",\n",
      "    )\n",
      "    special_tokens = {\n",
      "        ENDOFTEXT: 100257,\n",
      "        FIM_PREFIX: 100258,\n",
      "        FIM_MIDDLE: 100259,\n",
      "        FIM_SUFFIX: 100260,\n",
      "        ENDOFPROMPT: 100276,\n",
      "    }\n",
      "    return {\n",
      "        \"name\": \"cl100k_base\",\n",
      "        \"pat_str\": r\"\"\"'(?i:[sdmt]|ll|ve|re)|[^\\r\\n\\p{L}\\p{N}]?+\\p{L}+|\\p{N}{1,3}| ?[^\\s\\p{L}\\p{N}]++[\\r\\n]*|\\s*[\\r\\n]|\\s+(?!\\S)|\\s+\"\"\",\n",
      "        \"mergeable_ranks\": mergeable_ranks,\n",
      "        \"special_tokens\": special_tokens,\n",
      "    }\n",
      "\n"
     ]
    }
   ],
   "source": [
    "import tiktoken_ext.openai_public\n",
    "import inspect\n",
    "\n",
    "print(dir(tiktoken_ext.openai_public))\n",
    "# The encoder we want is cl100k_base, we see this as a possible function\n",
    "\n",
    "print(inspect.getsource(tiktoken_ext.openai_public.cl100k_base))\n",
    "# The URL should be in the 'load_tiktoken_bpe function call'"
   ]
  },
  {
   "cell_type": "markdown",
   "id": "fcf03414",
   "metadata": {},
   "source": [
    "### **Step 2: Download the Tokenizer File**\n",
    "\n",
    "Navigate to the blob URL you obtained in Step 1 and download the file.\n",
    "\n",
    "- https://openaipublic.blob.core.windows.net/encodings/cl100k_base.tiktoken"
   ]
  },
  {
   "cell_type": "markdown",
   "id": "fb080080",
   "metadata": {},
   "source": [
    "### **Step 3: Generate Cache Key & Rename File**\n",
    "Run the following code to generate a cache_key and rename the file to the cache_key"
   ]
  },
  {
   "cell_type": "code",
   "execution_count": 183,
   "id": "40a9a0ca",
   "metadata": {},
   "outputs": [
    {
     "name": "stdout",
     "output_type": "stream",
     "text": [
      "9b5ad71b2ce5302211f9c61530b329a4922fc6a4\n"
     ]
    }
   ],
   "source": [
    "import hashlib\n",
    "\n",
    "blobpath = \"https://openaipublic.blob.core.windows.net/encodings/cl100k_base.tiktoken\"\n",
    "cache_key = hashlib.sha1(blobpath.encode()).hexdigest()\n",
    "print(cache_key)"
   ]
  },
  {
   "cell_type": "markdown",
   "id": "f56f06de",
   "metadata": {},
   "source": [
    "### **Step 4: Set up the tiktoken cache**\n",
    "\n",
    "Run the following code every time you need to use tiktoken"
   ]
  },
  {
   "cell_type": "code",
   "execution_count": 184,
   "id": "a618d924",
   "metadata": {},
   "outputs": [],
   "source": [
    "import os\n",
    "import hashlib\n",
    "\n",
    "\n",
    "cache_key = hashlib.sha1(blobpath.encode()).hexdigest()\n",
    "\n",
    "\n",
    "# path to the directory you created to paste the file\n",
    "tiktoken_cache_dir = r\"C:\\Users\\Seyed Barabadi\\Downloads\\Gen AI\\tiktoken\" \n",
    "os.environ[\"TIKTOKEN_CACHE_DIR\"] = tiktoken_cache_dir\n",
    "\n",
    "# validate\n",
    "assert os.path.exists(os.path.join(tiktoken_cache_dir, cache_key))\n"
   ]
  },
  {
   "cell_type": "markdown",
   "id": "ba79557f",
   "metadata": {},
   "source": [
    "---"
   ]
  },
  {
   "cell_type": "code",
   "execution_count": 33,
   "id": "e96685af",
   "metadata": {},
   "outputs": [],
   "source": [
    "with open('some_data/FDR_State_of_Union_1944.txt') as file:\n",
    "    speech_text = file.read()"
   ]
  },
  {
   "cell_type": "code",
   "execution_count": 34,
   "id": "0cc0c679",
   "metadata": {},
   "outputs": [
    {
     "data": {
      "text/plain": [
       "12"
      ]
     },
     "execution_count": 34,
     "metadata": {},
     "output_type": "execute_result"
    }
   ],
   "source": [
    "from langchain_text_splitters import CharacterTextSplitter\n",
    "\n",
    "\n",
    "text_splitter = CharacterTextSplitter.from_tiktoken_encoder(\n",
    "    encoding_name=\"cl100k_base\", \n",
    "    chunk_size=500, # max number of tokens\n",
    "    chunk_overlap=100\n",
    ")\n",
    "\n",
    "texts = text_splitter.split_text(speech_text) # speech_text is a text file\n",
    "len(texts)"
   ]
  },
  {
   "cell_type": "code",
   "execution_count": 35,
   "id": "7ff909db",
   "metadata": {},
   "outputs": [
    {
     "name": "stdout",
     "output_type": "stream",
     "text": [
      "This Nation in the past two years has become an active partner in the world's greatest war against human slavery. We have joined with like-minded people in order to defend ourselves in a world that has been gravely threatened with gangster rule. But I do not think that any of us Americans can be content with mere survival. Sacrifices that we and our allies are making impose upon us all a sacred obligation to see to it that out of this war we and our children will gain something better than mere survival.\n",
      "\n",
      "We are united in determination that this war shall not be followed by another interim which leads to new disaster- that we shall not repeat the tragic errors of ostrich isolationism—that we shall not repeat the excesses of the wild twenties when this Nation went for a joy ride on a roller coaster which ended in a tragic crash.\n",
      "\n",
      "When Mr. Hull went to Moscow in October, and when I went to Cairo and Teheran in November, we knew that we were in agreement with our allies in our common determination to fight and win this war. But there were many vital questions concerning the future peace, and they were discussed in an atmosphere of complete candor and harmony.\n",
      "\n",
      "In the last war such discussions, such meetings, did not even begin until the shooting had stopped and the delegates began to assemble at the peace table. There had been no previous opportunities for man-to-man discussions which lead to meetings of minds. The result was a peace which was not a peace. That was a mistake which we are not repeating in this war.\n",
      "\n",
      "And right here I want to address a word or two to some suspicious souls who are fearful that Mr. Hull or I have made \"commitments\" for the future which might pledge this Nation to secret treaties, or to enacting the role of Santa Claus.\n",
      "\n",
      "To such suspicious souls—using a polite terminology—I wish to say that Mr. Churchill, and Marshal Stalin, and Generalissimo Chiang Kai-shek are all thoroughly conversant with the provisions of our Constitution. And so is Mr. Hull. And so am I.\n",
      "\n",
      "Of course we made some commitments. We most certainly committed ourselves to very large and very specific military plans which require the use of all Allied forces to bring about the defeat of our enemies at the earliest possible time.\n",
      "\n",
      "But there were no secret treaties or political or financial commitments.\n"
     ]
    }
   ],
   "source": [
    "print(texts[0])"
   ]
  },
  {
   "cell_type": "code",
   "execution_count": 36,
   "id": "71170047",
   "metadata": {},
   "outputs": [
    {
     "name": "stdout",
     "output_type": "stream",
     "text": [
      "2330 470\n",
      "2187 409\n",
      "2493 487\n",
      "2096 422\n",
      "2213 481\n",
      "2131 443\n",
      "2499 473\n",
      "2273 472\n",
      "2412 462\n",
      "2164 424\n",
      "2066 414\n",
      "892 192\n"
     ]
    }
   ],
   "source": [
    "import tiktoken\n",
    "from langchain.text_splitter import CharacterTextSplitter\n",
    "\n",
    "# Initialize the OpenAI tokenizer (use \"cl100k_base\" for GPT-4/3.5)\n",
    "tokenizer = tiktoken.get_encoding(\"cl100k_base\")\n",
    "\n",
    "for text in texts:\n",
    "    print( len(text), len(tokenizer.encode(text)) )"
   ]
  },
  {
   "cell_type": "markdown",
   "id": "b6166ec0",
   "metadata": {},
   "source": [
    "---"
   ]
  },
  {
   "cell_type": "markdown",
   "id": "7a5055f8",
   "metadata": {},
   "source": [
    "## **3️⃣ RecursiveCharacterTextSplitter (Smart Splitter - Best for Most Cases)**\n",
    "✅ **Breaks text recursively**, ensuring logical splits (**paragraphs → sentences → words**).  \n",
    "✅ **Preserves more context** by avoiding mid-sentence breaks.  \n",
    "✅ Works best with **structured content (e.g., articles, legal documents, research papers).**  \n",
    "❌ Slightly slower than `CharacterTextSplitter`, but **more accurate**.\n",
    "\n",
    "🔹 **Best For:** **Most real-world use cases** (retrieval-augmented generation, chunking for vector search, chatbot memory, etc.).\n",
    "\n",
    "- https://python.langchain.com/api_reference/text_splitters/character/langchain_text_splitters.character.RecursiveCharacterTextSplitter.html\n",
    "---"
   ]
  },
  {
   "cell_type": "markdown",
   "id": "95a5ff10",
   "metadata": {},
   "source": [
    "### Split large documents into small, but **still meaningful, pieces of text**:\n",
    "LangChain provides `RecursiveCharacterTextSplitter`, which does the following:\n",
    "\n",
    "1. Take a list of separators, in order of importance. By default these are:\n",
    "\n",
    "    a. The paragraph separator: `\\n\\n`\n",
    "\n",
    "    b. The line separator: `\\n`\n",
    "\n",
    "    c. The word separator: `space` character\n",
    "\n",
    "2. To respect the given chunk size, for instance, 1,000 characters, start by splitting up paragraphs.\n",
    "\n",
    "3. For any paragraph longer than the desired chunk size, split by the next separator: lines. Continue until all chunks are smaller than the desired length, or there are no additional separators to try.\n",
    "\n",
    "4. Emit each chunk as a Document, with the metadata of the original document passed in and additional information about the position in the original document."
   ]
  },
  {
   "cell_type": "code",
   "execution_count": 189,
   "id": "21fe5c93",
   "metadata": {},
   "outputs": [],
   "source": [
    "with open('some_data/FDR_State_of_Union_1944.txt') as file:\n",
    "    speech_text = file.read()"
   ]
  },
  {
   "cell_type": "markdown",
   "id": "b4b8584f",
   "metadata": {},
   "source": [
    "### Let's use a `TextLoader` this time"
   ]
  },
  {
   "cell_type": "code",
   "execution_count": 190,
   "id": "1c88c85e",
   "metadata": {},
   "outputs": [
    {
     "data": {
      "text/plain": [
       "[Document(metadata={'source': 'some_data/FDR_State_of_Union_1944.txt'}, page_content='This Nation in the past two years has become an active partner in the world\\'s greatest war against human slavery.\\n\\nWe have joined with like-minded people in order to defend ourselves in a world that has been gravely threatened with gangster rule.\\n\\nBut I do not think that any of us Americans can be content with mere survival. Sacrifices that we and our allies are making impose upon us all a sacred obligation to see to it that out of this war we and our children will gain something better than mere survival.\\n\\nWe are united in determination that this war shall not be followed by another interim which leads to new disaster- that we shall not repeat the tragic errors of ostrich isolationism—that we shall not repeat the excesses of the wild twenties when this Nation went for a joy ride on a roller coaster which ended in a tragic crash.\\n\\nWhen Mr. Hull went to Moscow in October, and when I went to Cairo and Teheran in November, we knew that we were in agreement with our allies in our common determination to fight and win this war. But there were many vital questions concerning the future peace, and they were discussed in an atmosphere of complete candor and harmony.\\n\\nIn the last war such discussions, such meetings, did not even begin until the shooting had stopped and the delegates began to assemble at the peace table. There had been no previous opportunities for man-to-man discussions which lead to meetings of minds. The result was a peace which was not a peace. That was a mistake which we are not repeating in this war.\\n\\nAnd right here I want to address a word or two to some suspicious souls who are fearful that Mr. Hull or I have made \"commitments\" for the future which might pledge this Nation to secret treaties, or to enacting the role of Santa Claus.\\n\\nTo such suspicious souls—using a polite terminology—I wish to say that Mr. Churchill, and Marshal Stalin, and Generalissimo Chiang Kai-shek are all thoroughly conversant with the provisions of our Constitution. And so is Mr. Hull. And so am I.\\n\\nOf course we made some commitments. We most certainly committed ourselves to very large and very specific military plans which require the use of all Allied forces to bring about the defeat of our enemies at the earliest possible time.\\n\\nBut there were no secret treaties or political or financial commitments.\\n\\nThe one supreme objective for the future, which we discussed for each Nation individually, and for all the United Nations, can be summed up in one word: Security.\\n\\nAnd that means not only physical security which provides safety from attacks by aggressors. It means also economic security, social security, moral security—in a family of Nations.\\n\\nIn the plain down-to-earth talks that I had with the Generalissimo and Marshal Stalin and Prime Minister Churchill, it was abundantly clear that they are all most deeply interested in the resumption of peaceful progress by their own peoples—progress toward a better life. All our allies want freedom to develop their lands and resources, to build up industry, to increase education and individual opportunity, and to raise standards of living.\\n\\nAll our allies have learned by bitter experience that real development will not be possible if they are to be diverted from their purpose by repeated wars—or even threats of war.\\n\\nChina and Russia are truly united with Britain and America in recognition of this essential fact:\\n\\nThe best interests of each Nation, large and small, demand that all freedom-loving Nations shall join together in a just and durable system of peace. In the present world situation, evidenced by the actions of Germany, Italy, and Japan, unquestioned military control over disturbers of the peace is as necessary among Nations as it is among citizens in a community. And an equally basic essential to peace is a decent standard of living for all individual men and women and children in all Nations. Freedom from fear is eternally linked with freedom from want.\\n\\nThere are people who burrow through our Nation like unseeing moles, and attempt to spread the suspicion that if other Nations are encouraged to raise their standards of living, our own American standard of living must of necessity be depressed.\\n\\nThe fact is the very contrary. It has been shown time and again that if the standard of living of any country goes up, so does its purchasing power- and that such a rise encourages a better standard of living in neighboring countries with whom it trades. That is just plain common sense—and it is the kind of plain common sense that provided the basis for our discussions at Moscow, Cairo, and Teheran.\\n\\nReturning from my journeyings, I must confess to a sense of \"let-down\" when I found many evidences of faulty perspective here in Washington. The faulty perspective consists in overemphasizing lesser problems and thereby underemphasizing the first and greatest problem.\\n\\nThe overwhelming majority of our people have met the demands of this war with magnificent courage and understanding. They have accepted inconveniences; they have accepted hardships; they have accepted tragic sacrifices. And they are ready and eager to make whatever further contributions are needed to win the war as quickly as possible- if only they are given the chance to know what is required of them.\\n\\nHowever, while the majority goes on about its great work without complaint, a noisy minority maintains an uproar of demands for special favors for special groups. There are pests who swarm through the lobbies of the Congress and the cocktail bars of Washington, representing these special groups as opposed to the basic interests of the Nation as a whole. They have come to look upon the war primarily as a chance to make profits for themselves at the expense of their neighbors- profits in money or in terms of political or social preferment.\\n\\nSuch selfish agitation can be highly dangerous in wartime. It creates confusion. It damages morale. It hampers our national effort. It muddies the waters and therefore prolongs the war.\\n\\nIf we analyze American history impartially, we cannot escape the fact that in our past we have not always forgotten individual and selfish and partisan interests in time of war—we have not always been united in purpose and direction. We cannot overlook the serious dissensions and the lack of unity in our war of the Revolution, in our War of 1812, or in our War Between the States, when the survival of the Union itself was at stake.\\n\\nIn the first World War we came closer to national unity than in any previous war. But that war lasted only a year and a half, and increasing signs of disunity began to appear during the final months of the conflict.\\n\\nIn this war, we have been compelled to learn how interdependent upon each other are all groups and sections of the population of America.\\n\\nIncreased food costs, for example, will bring new demands for wage increases from all war workers, which will in turn raise all prices of all things including those things which the farmers themselves have to buy. Increased wages or prices will each in turn produce the same results. They all have a particularly disastrous result on all fixed income groups.\\n\\nAnd I hope you will remember that all of us in this Government represent the fixed income group just as much as we represent business owners, workers, and farmers. This group of fixed income people includes: teachers, clergy, policemen, firemen, widows and minors on fixed incomes, wives and dependents of our soldiers and sailors, and old-age pensioners. They and their families add up to one-quarter of our one hundred and thirty million people. They have few or no high pressure representatives at the Capitol. In a period of gross inflation they would be the worst sufferers.\\n\\nIf ever there was a time to subordinate individual or group selfishness to the national good, that time is now. Disunity at home—bickerings, self-seeking partisanship, stoppages of work, inflation, business as usual, politics as usual, luxury as usual these are the influences which can undermine the morale of the brave men ready to die at the front for us here.\\n\\nThose who are doing most of the complaining are not deliberately striving to sabotage the national war effort. They are laboring under the delusion that the time is past when we must make prodigious sacrifices- that the war is already won and we can begin to slacken off. But the dangerous folly of that point of view can be measured by the distance that separates our troops from their ultimate objectives in Berlin and Tokyo—and by the sum of all the perils that lie along the way.\\n\\nOverconfidence and complacency are among our deadliest enemies. Last spring—after notable victories at Stalingrad and in Tunisia and against the U-boats on the high seas—overconfidence became so pronounced that war production fell off. In two months, June and July, 1943, more than a thousand airplanes that could have been made and should have been made were not made. Those who failed to make them were not on strike. They were merely saying, \"The war\\'s in the bag- so let\\'s relax.\"\\n\\nThat attitude on the part of anyone—Government or management or labor—can lengthen this war. It can kill American boys.\\n\\nLet us remember the lessons of 1918. In the summer of that year the tide turned in favor of the allies. But this Government did not relax. In fact, our national effort was stepped up. In August, 1918, the draft age limits were broadened from 21-31 to 18-45. The President called for \"force to the utmost,\" and his call was heeded. And in November, only three months later, Germany surrendered.\\n\\nThat is the way to fight and win a war—all out—and not with half-an-eye on the battlefronts abroad and the other eye-and-a-half on personal, selfish, or political interests here at home.\\n\\nTherefore, in order to concentrate all our energies and resources on winning the war, and to maintain a fair and stable economy at home, I recommend that the Congress adopt:\\n\\n(1) A realistic tax law—which will tax all unreasonable profits, both individual and corporate, and reduce the ultimate cost of the war to our sons and daughters. The tax bill now under consideration by the Congress does not begin to meet this test.\\n\\n(2) A continuation of the law for the renegotiation of war contracts—which will prevent exorbitant profits and assure fair prices to the Government. For two long years I have pleaded with the Congress to take undue profits out of war.\\n\\n(3) A cost of food law—which will enable the Government (a) to place a reasonable floor under the prices the farmer may expect for his production; and (b) to place a ceiling on the prices a consumer will have to pay for the food he buys. This should apply to necessities only; and will require public funds to carry out. It will cost in appropriations about one percent of the present annual cost of the war.\\n\\n(4) Early reenactment of. the stabilization statute of October, 1942. This expires June 30, 1944, and if it is not extended well in advance, the country might just as well expect price chaos by summer.\\n\\n(5) A national service law- which, for the duration of the war, will prevent strikes, and, with certain appropriate exceptions, will make available for war production or for any other essential services every able-bodied adult in this Nation.\\n\\nThese five measures together form a just and equitable whole. I would not recommend a national service law unless the other laws were passed to keep down the cost of living, to share equitably the burdens of taxation, to hold the stabilization line, and to prevent undue profits.\\n\\nThe Federal Government already has the basic power to draft capital and property of all kinds for war purposes on a basis of just compensation.\\n\\nAs you know, I have for three years hesitated to recommend a national service act. Today, however, I am convinced of its necessity. Although I believe that we and our allies can win the war without such a measure, I am certain that nothing less than total mobilization of all our resources of manpower and capital will guarantee an earlier victory, and reduce the toll of suffering and sorrow and blood.\\n\\nI have received a joint recommendation for this law from the heads of the War Department, the Navy Department, and the Maritime Commission. These are the men who bear responsibility for the procurement of the necessary arms and equipment, and for the successful prosecution of the war in the field. They say:\\n\\n\"When the very life of the Nation is in peril the responsibility for service is common to all men and women. In such a time there can be no discrimination between the men and women who are assigned by the Government to its defense at the battlefront and the men and women assigned to producing the vital materials essential to successful military operations. A prompt enactment of a National Service Law would be merely an expression of the universality of this responsibility.\"\\n\\nI believe the country will agree that those statements are the solemn truth.\\n\\nNational service is the most democratic way to wage a war. Like selective service for the armed forces, it rests on the obligation of each citizen to serve his Nation to his utmost where he is best qualified.\\n\\nIt does not mean reduction in wages. It does not mean loss of retirement and seniority rights and benefits. It does not mean that any substantial numbers of war workers will be disturbed in their present jobs. Let these facts be wholly clear.\\n\\nExperience in other democratic Nations at war—Britain, Canada, Australia, and New Zealand- has shown that the very existence of national service makes unnecessary the widespread use of compulsory power. National service has proven to be a unifying moral force based on an equal and comprehensive legal obligation of all people in a Nation at war.\\n\\nThere are millions of American men and women who are not in this war at all. It is not because they do not want to be in it. But they want to know where they can best do their share. National service provides that direction. It will be a means by which every man and woman can find that inner satisfaction which comes from making the fullest possible contribution to victory.\\n\\nI know that all civilian war workers will be glad to be able to say many years hence to their grandchildren: \"Yes, I, too, was in service in the great war. I was on duty in an airplane factory, and I helped make hundreds of fighting planes. The Government told me that in doing that I was performing my most useful work in the service of my country.\"\\n\\nIt is argued that we have passed the stage in the war where national service is necessary. But our soldiers and sailors know that this is not true. We are going forward on a long, rough road- and, in all journeys, the last miles are the hardest. And it is for that final effort—for the total defeat of our enemies-that we must mobilize our total resources. The national war program calls for the employment of more people in 1944 than in 1943.\\n\\nIt is my conviction that the American people will welcome this win-the-war measure which is based on the eternally just principle of \"fair for one, fair for all.\"\\n\\nIt will give our people at home the assurance that they are standing four-square behind our soldiers and sailors. And it will give our enemies demoralizing assurance that we mean business -that we, 130,000,000 Americans, are on the march to Rome, Berlin, and Tokyo.\\n\\nI hope that the Congress will recognize that, although this is a political year, national service is an issue which transcends politics. Great power must be used for great purposes.\\n\\nAs to the machinery for this measure, the Congress itself should determine its nature—but it should be wholly nonpartisan in its make-up.\\n\\nOur armed forces are valiantly fulfilling their responsibilities to our country and our people. Now the Congress faces the responsibility for taking those measures which are essential to national security in this the most decisive phase of the Nation\\'s greatest war.\\n\\nSeveral alleged reasons have prevented the enactment of legislation which would preserve for our soldiers and sailors and marines the fundamental prerogative of citizenship—the right to vote. No amount of legalistic argument can becloud this issue in the eyes of these ten million American citizens. Surely the signers of the Constitution did not intend a document which, even in wartime, would be construed to take away the franchise of any of those who are fighting to preserve the Constitution itself.\\n\\nOur soldiers and sailors and marines know that the overwhelming majority of them will be deprived of the opportunity to vote, if the voting machinery is left exclusively to the States under existing State laws—and that there is no likelihood of these laws being changed in time to enable them to vote at the next election. The Army and Navy have reported that it will be impossible effectively to administer forty-eight different soldier voting laws. It is the duty of the Congress to remove this unjustifiable discrimination against the men and women in our armed forces- and to do it as quickly as possible.\\n\\nIt is our duty now to begin to lay the plans and determine the strategy for the winning of a lasting peace and the establishment of an American standard of living higher than ever before known. We cannot be content, no matter how high that general standard of living may be, if some fraction of our people—whether it be one-third or one-fifth or one-tenth- is ill-fed, ill-clothed, ill housed, and insecure.\\n\\nThis Republic had its beginning, and grew to its present strength, under the protection of certain inalienable political rights—among them the right of free speech, free press, free worship, trial by jury, freedom from unreasonable searches and seizures. They were our rights to life and liberty.\\n\\nAs our Nation has grown in size and stature, however—as our industrial economy expanded—these political rights proved inadequate to assure us equality in the pursuit of happiness.\\n\\nWe have come to a clear realization of the fact that true individual freedom cannot exist without economic security and independence. \"Necessitous men are not free men.\" People who are hungry and out of a job are the stuff of which dictatorships are made.\\n\\nIn our day these economic truths have become accepted as self-evident. We have accepted, so to speak, a second Bill of Rights under which a new basis of security and prosperity can be established for all regardless of station, race, or creed.\\n\\nAmong these are:\\n\\nThe right to a useful and remunerative job in the industries or shops or farms or mines of the Nation;\\n\\nThe right to earn enough to provide adequate food and clothing and recreation;\\n\\nThe right of every farmer to raise and sell his products at a return which will give him and his family a decent living;\\n\\nThe right of every businessman, large and small, to trade in an atmosphere of freedom from unfair competition and domination by monopolies at home or abroad;\\n\\nThe right of every family to a decent home;\\n\\nThe right to adequate medical care and the opportunity to achieve and enjoy good health;\\n\\nThe right to adequate protection from the economic fears of old age, sickness, accident, and unemployment;\\n\\nThe right to a good education.\\n\\nAll of these rights spell security. And after this war is won we must be prepared to move forward, in the implementation of these rights, to new goals of human happiness and well-being.\\n\\nAmerica\\'s own rightful place in the world depends in large part upon how fully these and similar rights have been carried into practice for our citizens. For unless there is security here at home there cannot be lasting peace in the world.\\n\\nOne of the great American industrialists of our day—a man who has rendered yeoman service to his country in this crisis-recently emphasized the grave dangers of \"rightist reaction\" in this Nation. All clear-thinking businessmen share his concern. Indeed, if such reaction should develop—if history were to repeat itself and we were to return to the so-called \"normalcy\" of the 1920\\'s—then it is certain that even though we shall have conquered our enemies on the battlefields abroad, we shall have yielded to the spirit of Fascism here at home.\\n\\nI ask the Congress to explore the means for implementing this economic bill of rights- for it is definitely the responsibility of the Congress so to do. Many of these problems are already before committees of the Congress in the form of proposed legislation. I shall from time to time communicate with the Congress with respect to these and further proposals. In the event that no adequate program of progress is evolved, I am certain that the Nation will be conscious of the fact.\\n\\nOur fighting men abroad- and their families at home- expect such a program and have the right to insist upon it. It is to their demands that this Government should pay heed rather than to the whining demands of selfish pressure groups who seek to feather their nests while young Americans are dying.\\n\\nThe foreign policy that we have been following—the policy that guided us at Moscow, Cairo, and Teheran—is based on the common sense principle which was best expressed by Benjamin Franklin on July 4, 1776: \"We must all hang together, or assuredly we shall all hang separately.\"\\n\\nI have often said that there are no two fronts for America in this war. There is only one front. There is one line of unity which extends from the hearts of the people at home to the men of our attacking forces in our farthest outposts. When we speak of our total effort, we speak of the factory and the field, and the mine as well as of the battleground -- we speak of the soldier and the civilian, the citizen and his Government.\\n\\nEach and every one of us has a solemn obligation under God to serve this Nation in its most critical hour—to keep this Nation great -- to make this Nation greater in a better world.')]"
      ]
     },
     "execution_count": 190,
     "metadata": {},
     "output_type": "execute_result"
    }
   ],
   "source": [
    "from langchain_community.document_loaders import TextLoader\n",
    "from langchain_text_splitters import RecursiveCharacterTextSplitter\n",
    "\n",
    "loader = TextLoader(\"some_data/FDR_State_of_Union_1944.txt\") # or any other loader\n",
    "loaded_docs = loader.load()\n",
    "loaded_docs"
   ]
  },
  {
   "cell_type": "code",
   "execution_count": 191,
   "id": "15b16e4a",
   "metadata": {},
   "outputs": [
    {
     "name": "stdout",
     "output_type": "stream",
     "text": [
      "28\n"
     ]
    },
    {
     "data": {
      "text/plain": [
       "[Document(metadata={'source': 'some_data/FDR_State_of_Union_1944.txt'}, page_content=\"This Nation in the past two years has become an active partner in the world's greatest war against human slavery.\\n\\nWe have joined with like-minded people in order to defend ourselves in a world that has been gravely threatened with gangster rule.\\n\\nBut I do not think that any of us Americans can be content with mere survival. Sacrifices that we and our allies are making impose upon us all a sacred obligation to see to it that out of this war we and our children will gain something better than mere survival.\\n\\nWe are united in determination that this war shall not be followed by another interim which leads to new disaster- that we shall not repeat the tragic errors of ostrich isolationism—that we shall not repeat the excesses of the wild twenties when this Nation went for a joy ride on a roller coaster which ended in a tragic crash.\"),\n",
       " Document(metadata={'source': 'some_data/FDR_State_of_Union_1944.txt'}, page_content='When Mr. Hull went to Moscow in October, and when I went to Cairo and Teheran in November, we knew that we were in agreement with our allies in our common determination to fight and win this war. But there were many vital questions concerning the future peace, and they were discussed in an atmosphere of complete candor and harmony.\\n\\nIn the last war such discussions, such meetings, did not even begin until the shooting had stopped and the delegates began to assemble at the peace table. There had been no previous opportunities for man-to-man discussions which lead to meetings of minds. The result was a peace which was not a peace. That was a mistake which we are not repeating in this war.\\n\\nAnd right here I want to address a word or two to some suspicious souls who are fearful that Mr. Hull or I have made \"commitments\" for the future which might pledge this Nation to secret treaties, or to enacting the role of Santa Claus.'),\n",
       " Document(metadata={'source': 'some_data/FDR_State_of_Union_1944.txt'}, page_content='To such suspicious souls—using a polite terminology—I wish to say that Mr. Churchill, and Marshal Stalin, and Generalissimo Chiang Kai-shek are all thoroughly conversant with the provisions of our Constitution. And so is Mr. Hull. And so am I.\\n\\nOf course we made some commitments. We most certainly committed ourselves to very large and very specific military plans which require the use of all Allied forces to bring about the defeat of our enemies at the earliest possible time.\\n\\nBut there were no secret treaties or political or financial commitments.\\n\\nThe one supreme objective for the future, which we discussed for each Nation individually, and for all the United Nations, can be summed up in one word: Security.\\n\\nAnd that means not only physical security which provides safety from attacks by aggressors. It means also economic security, social security, moral security—in a family of Nations.'),\n",
       " Document(metadata={'source': 'some_data/FDR_State_of_Union_1944.txt'}, page_content='And that means not only physical security which provides safety from attacks by aggressors. It means also economic security, social security, moral security—in a family of Nations.\\n\\nIn the plain down-to-earth talks that I had with the Generalissimo and Marshal Stalin and Prime Minister Churchill, it was abundantly clear that they are all most deeply interested in the resumption of peaceful progress by their own peoples—progress toward a better life. All our allies want freedom to develop their lands and resources, to build up industry, to increase education and individual opportunity, and to raise standards of living.\\n\\nAll our allies have learned by bitter experience that real development will not be possible if they are to be diverted from their purpose by repeated wars—or even threats of war.\\n\\nChina and Russia are truly united with Britain and America in recognition of this essential fact:'),\n",
       " Document(metadata={'source': 'some_data/FDR_State_of_Union_1944.txt'}, page_content='China and Russia are truly united with Britain and America in recognition of this essential fact:\\n\\nThe best interests of each Nation, large and small, demand that all freedom-loving Nations shall join together in a just and durable system of peace. In the present world situation, evidenced by the actions of Germany, Italy, and Japan, unquestioned military control over disturbers of the peace is as necessary among Nations as it is among citizens in a community. And an equally basic essential to peace is a decent standard of living for all individual men and women and children in all Nations. Freedom from fear is eternally linked with freedom from want.\\n\\nThere are people who burrow through our Nation like unseeing moles, and attempt to spread the suspicion that if other Nations are encouraged to raise their standards of living, our own American standard of living must of necessity be depressed.'),\n",
       " Document(metadata={'source': 'some_data/FDR_State_of_Union_1944.txt'}, page_content='The fact is the very contrary. It has been shown time and again that if the standard of living of any country goes up, so does its purchasing power- and that such a rise encourages a better standard of living in neighboring countries with whom it trades. That is just plain common sense—and it is the kind of plain common sense that provided the basis for our discussions at Moscow, Cairo, and Teheran.\\n\\nReturning from my journeyings, I must confess to a sense of \"let-down\" when I found many evidences of faulty perspective here in Washington. The faulty perspective consists in overemphasizing lesser problems and thereby underemphasizing the first and greatest problem.'),\n",
       " Document(metadata={'source': 'some_data/FDR_State_of_Union_1944.txt'}, page_content='The overwhelming majority of our people have met the demands of this war with magnificent courage and understanding. They have accepted inconveniences; they have accepted hardships; they have accepted tragic sacrifices. And they are ready and eager to make whatever further contributions are needed to win the war as quickly as possible- if only they are given the chance to know what is required of them.\\n\\nHowever, while the majority goes on about its great work without complaint, a noisy minority maintains an uproar of demands for special favors for special groups. There are pests who swarm through the lobbies of the Congress and the cocktail bars of Washington, representing these special groups as opposed to the basic interests of the Nation as a whole. They have come to look upon the war primarily as a chance to make profits for themselves at the expense of their neighbors- profits in money or in terms of political or social preferment.'),\n",
       " Document(metadata={'source': 'some_data/FDR_State_of_Union_1944.txt'}, page_content='Such selfish agitation can be highly dangerous in wartime. It creates confusion. It damages morale. It hampers our national effort. It muddies the waters and therefore prolongs the war.\\n\\nIf we analyze American history impartially, we cannot escape the fact that in our past we have not always forgotten individual and selfish and partisan interests in time of war—we have not always been united in purpose and direction. We cannot overlook the serious dissensions and the lack of unity in our war of the Revolution, in our War of 1812, or in our War Between the States, when the survival of the Union itself was at stake.\\n\\nIn the first World War we came closer to national unity than in any previous war. But that war lasted only a year and a half, and increasing signs of disunity began to appear during the final months of the conflict.\\n\\nIn this war, we have been compelled to learn how interdependent upon each other are all groups and sections of the population of America.'),\n",
       " Document(metadata={'source': 'some_data/FDR_State_of_Union_1944.txt'}, page_content='In this war, we have been compelled to learn how interdependent upon each other are all groups and sections of the population of America.\\n\\nIncreased food costs, for example, will bring new demands for wage increases from all war workers, which will in turn raise all prices of all things including those things which the farmers themselves have to buy. Increased wages or prices will each in turn produce the same results. They all have a particularly disastrous result on all fixed income groups.'),\n",
       " Document(metadata={'source': 'some_data/FDR_State_of_Union_1944.txt'}, page_content='And I hope you will remember that all of us in this Government represent the fixed income group just as much as we represent business owners, workers, and farmers. This group of fixed income people includes: teachers, clergy, policemen, firemen, widows and minors on fixed incomes, wives and dependents of our soldiers and sailors, and old-age pensioners. They and their families add up to one-quarter of our one hundred and thirty million people. They have few or no high pressure representatives at the Capitol. In a period of gross inflation they would be the worst sufferers.\\n\\nIf ever there was a time to subordinate individual or group selfishness to the national good, that time is now. Disunity at home—bickerings, self-seeking partisanship, stoppages of work, inflation, business as usual, politics as usual, luxury as usual these are the influences which can undermine the morale of the brave men ready to die at the front for us here.'),\n",
       " Document(metadata={'source': 'some_data/FDR_State_of_Union_1944.txt'}, page_content='Those who are doing most of the complaining are not deliberately striving to sabotage the national war effort. They are laboring under the delusion that the time is past when we must make prodigious sacrifices- that the war is already won and we can begin to slacken off. But the dangerous folly of that point of view can be measured by the distance that separates our troops from their ultimate objectives in Berlin and Tokyo—and by the sum of all the perils that lie along the way.\\n\\nOverconfidence and complacency are among our deadliest enemies. Last spring—after notable victories at Stalingrad and in Tunisia and against the U-boats on the high seas—overconfidence became so pronounced that war production fell off. In two months, June and July, 1943, more than a thousand airplanes that could have been made and should have been made were not made. Those who failed to make them were not on strike. They were merely saying, \"The war\\'s in the bag- so let\\'s relax.\"'),\n",
       " Document(metadata={'source': 'some_data/FDR_State_of_Union_1944.txt'}, page_content='That attitude on the part of anyone—Government or management or labor—can lengthen this war. It can kill American boys.\\n\\nLet us remember the lessons of 1918. In the summer of that year the tide turned in favor of the allies. But this Government did not relax. In fact, our national effort was stepped up. In August, 1918, the draft age limits were broadened from 21-31 to 18-45. The President called for \"force to the utmost,\" and his call was heeded. And in November, only three months later, Germany surrendered.\\n\\nThat is the way to fight and win a war—all out—and not with half-an-eye on the battlefronts abroad and the other eye-and-a-half on personal, selfish, or political interests here at home.\\n\\nTherefore, in order to concentrate all our energies and resources on winning the war, and to maintain a fair and stable economy at home, I recommend that the Congress adopt:'),\n",
       " Document(metadata={'source': 'some_data/FDR_State_of_Union_1944.txt'}, page_content='Therefore, in order to concentrate all our energies and resources on winning the war, and to maintain a fair and stable economy at home, I recommend that the Congress adopt:\\n\\n(1) A realistic tax law—which will tax all unreasonable profits, both individual and corporate, and reduce the ultimate cost of the war to our sons and daughters. The tax bill now under consideration by the Congress does not begin to meet this test.\\n\\n(2) A continuation of the law for the renegotiation of war contracts—which will prevent exorbitant profits and assure fair prices to the Government. For two long years I have pleaded with the Congress to take undue profits out of war.'),\n",
       " Document(metadata={'source': 'some_data/FDR_State_of_Union_1944.txt'}, page_content='(3) A cost of food law—which will enable the Government (a) to place a reasonable floor under the prices the farmer may expect for his production; and (b) to place a ceiling on the prices a consumer will have to pay for the food he buys. This should apply to necessities only; and will require public funds to carry out. It will cost in appropriations about one percent of the present annual cost of the war.\\n\\n(4) Early reenactment of. the stabilization statute of October, 1942. This expires June 30, 1944, and if it is not extended well in advance, the country might just as well expect price chaos by summer.\\n\\n(5) A national service law- which, for the duration of the war, will prevent strikes, and, with certain appropriate exceptions, will make available for war production or for any other essential services every able-bodied adult in this Nation.'),\n",
       " Document(metadata={'source': 'some_data/FDR_State_of_Union_1944.txt'}, page_content='These five measures together form a just and equitable whole. I would not recommend a national service law unless the other laws were passed to keep down the cost of living, to share equitably the burdens of taxation, to hold the stabilization line, and to prevent undue profits.\\n\\nThe Federal Government already has the basic power to draft capital and property of all kinds for war purposes on a basis of just compensation.\\n\\nAs you know, I have for three years hesitated to recommend a national service act. Today, however, I am convinced of its necessity. Although I believe that we and our allies can win the war without such a measure, I am certain that nothing less than total mobilization of all our resources of manpower and capital will guarantee an earlier victory, and reduce the toll of suffering and sorrow and blood.'),\n",
       " Document(metadata={'source': 'some_data/FDR_State_of_Union_1944.txt'}, page_content='I have received a joint recommendation for this law from the heads of the War Department, the Navy Department, and the Maritime Commission. These are the men who bear responsibility for the procurement of the necessary arms and equipment, and for the successful prosecution of the war in the field. They say:\\n\\n\"When the very life of the Nation is in peril the responsibility for service is common to all men and women. In such a time there can be no discrimination between the men and women who are assigned by the Government to its defense at the battlefront and the men and women assigned to producing the vital materials essential to successful military operations. A prompt enactment of a National Service Law would be merely an expression of the universality of this responsibility.\"\\n\\nI believe the country will agree that those statements are the solemn truth.'),\n",
       " Document(metadata={'source': 'some_data/FDR_State_of_Union_1944.txt'}, page_content='I believe the country will agree that those statements are the solemn truth.\\n\\nNational service is the most democratic way to wage a war. Like selective service for the armed forces, it rests on the obligation of each citizen to serve his Nation to his utmost where he is best qualified.\\n\\nIt does not mean reduction in wages. It does not mean loss of retirement and seniority rights and benefits. It does not mean that any substantial numbers of war workers will be disturbed in their present jobs. Let these facts be wholly clear.\\n\\nExperience in other democratic Nations at war—Britain, Canada, Australia, and New Zealand- has shown that the very existence of national service makes unnecessary the widespread use of compulsory power. National service has proven to be a unifying moral force based on an equal and comprehensive legal obligation of all people in a Nation at war.'),\n",
       " Document(metadata={'source': 'some_data/FDR_State_of_Union_1944.txt'}, page_content='There are millions of American men and women who are not in this war at all. It is not because they do not want to be in it. But they want to know where they can best do their share. National service provides that direction. It will be a means by which every man and woman can find that inner satisfaction which comes from making the fullest possible contribution to victory.\\n\\nI know that all civilian war workers will be glad to be able to say many years hence to their grandchildren: \"Yes, I, too, was in service in the great war. I was on duty in an airplane factory, and I helped make hundreds of fighting planes. The Government told me that in doing that I was performing my most useful work in the service of my country.\"'),\n",
       " Document(metadata={'source': 'some_data/FDR_State_of_Union_1944.txt'}, page_content='It is argued that we have passed the stage in the war where national service is necessary. But our soldiers and sailors know that this is not true. We are going forward on a long, rough road- and, in all journeys, the last miles are the hardest. And it is for that final effort—for the total defeat of our enemies-that we must mobilize our total resources. The national war program calls for the employment of more people in 1944 than in 1943.\\n\\nIt is my conviction that the American people will welcome this win-the-war measure which is based on the eternally just principle of \"fair for one, fair for all.\"\\n\\nIt will give our people at home the assurance that they are standing four-square behind our soldiers and sailors. And it will give our enemies demoralizing assurance that we mean business -that we, 130,000,000 Americans, are on the march to Rome, Berlin, and Tokyo.'),\n",
       " Document(metadata={'source': 'some_data/FDR_State_of_Union_1944.txt'}, page_content=\"I hope that the Congress will recognize that, although this is a political year, national service is an issue which transcends politics. Great power must be used for great purposes.\\n\\nAs to the machinery for this measure, the Congress itself should determine its nature—but it should be wholly nonpartisan in its make-up.\\n\\nOur armed forces are valiantly fulfilling their responsibilities to our country and our people. Now the Congress faces the responsibility for taking those measures which are essential to national security in this the most decisive phase of the Nation's greatest war.\"),\n",
       " Document(metadata={'source': 'some_data/FDR_State_of_Union_1944.txt'}, page_content='Several alleged reasons have prevented the enactment of legislation which would preserve for our soldiers and sailors and marines the fundamental prerogative of citizenship—the right to vote. No amount of legalistic argument can becloud this issue in the eyes of these ten million American citizens. Surely the signers of the Constitution did not intend a document which, even in wartime, would be construed to take away the franchise of any of those who are fighting to preserve the Constitution itself.'),\n",
       " Document(metadata={'source': 'some_data/FDR_State_of_Union_1944.txt'}, page_content='Our soldiers and sailors and marines know that the overwhelming majority of them will be deprived of the opportunity to vote, if the voting machinery is left exclusively to the States under existing State laws—and that there is no likelihood of these laws being changed in time to enable them to vote at the next election. The Army and Navy have reported that it will be impossible effectively to administer forty-eight different soldier voting laws. It is the duty of the Congress to remove this unjustifiable discrimination against the men and women in our armed forces- and to do it as quickly as possible.'),\n",
       " Document(metadata={'source': 'some_data/FDR_State_of_Union_1944.txt'}, page_content='It is our duty now to begin to lay the plans and determine the strategy for the winning of a lasting peace and the establishment of an American standard of living higher than ever before known. We cannot be content, no matter how high that general standard of living may be, if some fraction of our people—whether it be one-third or one-fifth or one-tenth- is ill-fed, ill-clothed, ill housed, and insecure.\\n\\nThis Republic had its beginning, and grew to its present strength, under the protection of certain inalienable political rights—among them the right of free speech, free press, free worship, trial by jury, freedom from unreasonable searches and seizures. They were our rights to life and liberty.\\n\\nAs our Nation has grown in size and stature, however—as our industrial economy expanded—these political rights proved inadequate to assure us equality in the pursuit of happiness.'),\n",
       " Document(metadata={'source': 'some_data/FDR_State_of_Union_1944.txt'}, page_content='As our Nation has grown in size and stature, however—as our industrial economy expanded—these political rights proved inadequate to assure us equality in the pursuit of happiness.\\n\\nWe have come to a clear realization of the fact that true individual freedom cannot exist without economic security and independence. \"Necessitous men are not free men.\" People who are hungry and out of a job are the stuff of which dictatorships are made.\\n\\nIn our day these economic truths have become accepted as self-evident. We have accepted, so to speak, a second Bill of Rights under which a new basis of security and prosperity can be established for all regardless of station, race, or creed.\\n\\nAmong these are:\\n\\nThe right to a useful and remunerative job in the industries or shops or farms or mines of the Nation;\\n\\nThe right to earn enough to provide adequate food and clothing and recreation;'),\n",
       " Document(metadata={'source': 'some_data/FDR_State_of_Union_1944.txt'}, page_content='The right to a useful and remunerative job in the industries or shops or farms or mines of the Nation;\\n\\nThe right to earn enough to provide adequate food and clothing and recreation;\\n\\nThe right of every farmer to raise and sell his products at a return which will give him and his family a decent living;\\n\\nThe right of every businessman, large and small, to trade in an atmosphere of freedom from unfair competition and domination by monopolies at home or abroad;\\n\\nThe right of every family to a decent home;\\n\\nThe right to adequate medical care and the opportunity to achieve and enjoy good health;\\n\\nThe right to adequate protection from the economic fears of old age, sickness, accident, and unemployment;\\n\\nThe right to a good education.\\n\\nAll of these rights spell security. And after this war is won we must be prepared to move forward, in the implementation of these rights, to new goals of human happiness and well-being.'),\n",
       " Document(metadata={'source': 'some_data/FDR_State_of_Union_1944.txt'}, page_content='All of these rights spell security. And after this war is won we must be prepared to move forward, in the implementation of these rights, to new goals of human happiness and well-being.\\n\\nAmerica\\'s own rightful place in the world depends in large part upon how fully these and similar rights have been carried into practice for our citizens. For unless there is security here at home there cannot be lasting peace in the world.\\n\\nOne of the great American industrialists of our day—a man who has rendered yeoman service to his country in this crisis-recently emphasized the grave dangers of \"rightist reaction\" in this Nation. All clear-thinking businessmen share his concern. Indeed, if such reaction should develop—if history were to repeat itself and we were to return to the so-called \"normalcy\" of the 1920\\'s—then it is certain that even though we shall have conquered our enemies on the battlefields abroad, we shall have yielded to the spirit of Fascism here at home.'),\n",
       " Document(metadata={'source': 'some_data/FDR_State_of_Union_1944.txt'}, page_content='I ask the Congress to explore the means for implementing this economic bill of rights- for it is definitely the responsibility of the Congress so to do. Many of these problems are already before committees of the Congress in the form of proposed legislation. I shall from time to time communicate with the Congress with respect to these and further proposals. In the event that no adequate program of progress is evolved, I am certain that the Nation will be conscious of the fact.\\n\\nOur fighting men abroad- and their families at home- expect such a program and have the right to insist upon it. It is to their demands that this Government should pay heed rather than to the whining demands of selfish pressure groups who seek to feather their nests while young Americans are dying.'),\n",
       " Document(metadata={'source': 'some_data/FDR_State_of_Union_1944.txt'}, page_content='The foreign policy that we have been following—the policy that guided us at Moscow, Cairo, and Teheran—is based on the common sense principle which was best expressed by Benjamin Franklin on July 4, 1776: \"We must all hang together, or assuredly we shall all hang separately.\"\\n\\nI have often said that there are no two fronts for America in this war. There is only one front. There is one line of unity which extends from the hearts of the people at home to the men of our attacking forces in our farthest outposts. When we speak of our total effort, we speak of the factory and the field, and the mine as well as of the battleground -- we speak of the soldier and the civilian, the citizen and his Government.\\n\\nEach and every one of us has a solemn obligation under God to serve this Nation in its most critical hour—to keep this Nation great -- to make this Nation greater in a better world.')]"
      ]
     },
     "execution_count": 191,
     "metadata": {},
     "output_type": "execute_result"
    }
   ],
   "source": [
    "splitter = RecursiveCharacterTextSplitter(\n",
    "    chunk_size=1000, # max number of characters\n",
    "    chunk_overlap=200,\n",
    ")\n",
    " \n",
    "splitted_docs = splitter.split_documents(loaded_docs) # loaded_docs is a list of Document objects created by loader\n",
    "\n",
    "# or:\n",
    "splitted_docs_2 = splitter.create_documents([speech_text]) # speech_text is a text file\n",
    "\n",
    "print(len(splitted_docs))\n",
    "splitted_docs"
   ]
  },
  {
   "cell_type": "code",
   "execution_count": 192,
   "id": "55d83df7",
   "metadata": {},
   "outputs": [
    {
     "data": {
      "text/plain": [
       "'When Mr. Hull went to Moscow in October, and when I went to Cairo and Teheran in November, we knew that we were in agreement with our allies in our common determination to fight and win this war. But there were many vital questions concerning the future peace, and they were discussed in an atmosphere of complete candor and harmony.\\n\\nIn the last war such discussions, such meetings, did not even begin until the shooting had stopped and the delegates began to assemble at the peace table. There had been no previous opportunities for man-to-man discussions which lead to meetings of minds. The result was a peace which was not a peace. That was a mistake which we are not repeating in this war.\\n\\nAnd right here I want to address a word or two to some suspicious souls who are fearful that Mr. Hull or I have made \"commitments\" for the future which might pledge this Nation to secret treaties, or to enacting the role of Santa Claus.'"
      ]
     },
     "execution_count": 192,
     "metadata": {},
     "output_type": "execute_result"
    }
   ],
   "source": [
    "splitted_docs[1].page_content"
   ]
  },
  {
   "cell_type": "markdown",
   "id": "dadd9775-f290-4122-8377-b1544536a22e",
   "metadata": {},
   "source": [
    "In the preceding code, the documents created by the document loader are split into chunks of 1,000 characters each, with some overlap between chunks of 200 characters to maintain some context. The result is also a list of documents, where each document is up to 1,000 characters in length, split along the natural divisions of written text—paragraphs, new lines and finally, words. This uses the structure of the text to keep each chunk a consistent, readable snippet of text."
   ]
  },
  {
   "cell_type": "code",
   "execution_count": 193,
   "id": "f45186e3",
   "metadata": {},
   "outputs": [
    {
     "name": "stdout",
     "output_type": "stream",
     "text": [
      "841 152\n",
      "933 169\n",
      "900 145\n",
      "904 144\n",
      "905 150\n",
      "672 112\n",
      "950 159\n",
      "977 172\n",
      "497 84\n",
      "944 156\n",
      "969 167\n",
      "877 150\n",
      "660 113\n",
      "855 149\n",
      "829 144\n",
      "866 147\n",
      "878 149\n",
      "727 139\n",
      "874 154\n",
      "588 93\n",
      "504 80\n",
      "609 104\n",
      "886 144\n",
      "882 149\n",
      "925 162\n",
      "972 163\n",
      "782 137\n",
      "892 166\n"
     ]
    }
   ],
   "source": [
    "for doc in splitted_docs:\n",
    "    print(len(doc.page_content), len(doc.page_content.split())) "
   ]
  },
  {
   "cell_type": "markdown",
   "id": "d0629b30",
   "metadata": {},
   "source": [
    "\n",
    "\n",
    "## **4️⃣ RecursiveCharacterTextSplitter.from_tiktoken_encoder() (Smart Splitter - Best for GPT)**\n",
    "✅ **Breaks text recursively**, ensuring logical splits (**paragraphs → sentences → words**).  \n",
    "✅ **Preserves more context** by avoiding mid-sentence breaks.  \n",
    "✅ Works best with **GPT models.**  \n",
    "❌ Slightly slower than `CharacterTextSplitter`, but **more accurate**.\n",
    "\n",
    "🔹 **Best For:** **Most real-world use cases** (retrieval-augmented generation, chunking for vector search, chatbot memory, etc.).\n",
    "\n",
    "---"
   ]
  },
  {
   "cell_type": "code",
   "execution_count": 198,
   "id": "e432a6cd",
   "metadata": {},
   "outputs": [
    {
     "name": "stdout",
     "output_type": "stream",
     "text": [
      "6\n"
     ]
    },
    {
     "data": {
      "text/plain": [
       "[Document(metadata={'source': 'some_data/FDR_State_of_Union_1944.txt'}, page_content='This Nation in the past two years has become an active partner in the world\\'s greatest war against human slavery.\\n\\nWe have joined with like-minded people in order to defend ourselves in a world that has been gravely threatened with gangster rule.\\n\\nBut I do not think that any of us Americans can be content with mere survival. Sacrifices that we and our allies are making impose upon us all a sacred obligation to see to it that out of this war we and our children will gain something better than mere survival.\\n\\nWe are united in determination that this war shall not be followed by another interim which leads to new disaster- that we shall not repeat the tragic errors of ostrich isolationism—that we shall not repeat the excesses of the wild twenties when this Nation went for a joy ride on a roller coaster which ended in a tragic crash.\\n\\nWhen Mr. Hull went to Moscow in October, and when I went to Cairo and Teheran in November, we knew that we were in agreement with our allies in our common determination to fight and win this war. But there were many vital questions concerning the future peace, and they were discussed in an atmosphere of complete candor and harmony.\\n\\nIn the last war such discussions, such meetings, did not even begin until the shooting had stopped and the delegates began to assemble at the peace table. There had been no previous opportunities for man-to-man discussions which lead to meetings of minds. The result was a peace which was not a peace. That was a mistake which we are not repeating in this war.\\n\\nAnd right here I want to address a word or two to some suspicious souls who are fearful that Mr. Hull or I have made \"commitments\" for the future which might pledge this Nation to secret treaties, or to enacting the role of Santa Claus.\\n\\nTo such suspicious souls—using a polite terminology—I wish to say that Mr. Churchill, and Marshal Stalin, and Generalissimo Chiang Kai-shek are all thoroughly conversant with the provisions of our Constitution. And so is Mr. Hull. And so am I.\\n\\nOf course we made some commitments. We most certainly committed ourselves to very large and very specific military plans which require the use of all Allied forces to bring about the defeat of our enemies at the earliest possible time.\\n\\nBut there were no secret treaties or political or financial commitments.\\n\\nThe one supreme objective for the future, which we discussed for each Nation individually, and for all the United Nations, can be summed up in one word: Security.\\n\\nAnd that means not only physical security which provides safety from attacks by aggressors. It means also economic security, social security, moral security—in a family of Nations.\\n\\nIn the plain down-to-earth talks that I had with the Generalissimo and Marshal Stalin and Prime Minister Churchill, it was abundantly clear that they are all most deeply interested in the resumption of peaceful progress by their own peoples—progress toward a better life. All our allies want freedom to develop their lands and resources, to build up industry, to increase education and individual opportunity, and to raise standards of living.\\n\\nAll our allies have learned by bitter experience that real development will not be possible if they are to be diverted from their purpose by repeated wars—or even threats of war.\\n\\nChina and Russia are truly united with Britain and America in recognition of this essential fact:\\n\\nThe best interests of each Nation, large and small, demand that all freedom-loving Nations shall join together in a just and durable system of peace. In the present world situation, evidenced by the actions of Germany, Italy, and Japan, unquestioned military control over disturbers of the peace is as necessary among Nations as it is among citizens in a community. And an equally basic essential to peace is a decent standard of living for all individual men and women and children in all Nations. Freedom from fear is eternally linked with freedom from want.\\n\\nThere are people who burrow through our Nation like unseeing moles, and attempt to spread the suspicion that if other Nations are encouraged to raise their standards of living, our own American standard of living must of necessity be depressed.\\n\\nThe fact is the very contrary. It has been shown time and again that if the standard of living of any country goes up, so does its purchasing power- and that such a rise encourages a better standard of living in neighboring countries with whom it trades. That is just plain common sense—and it is the kind of plain common sense that provided the basis for our discussions at Moscow, Cairo, and Teheran.\\n\\nReturning from my journeyings, I must confess to a sense of \"let-down\" when I found many evidences of faulty perspective here in Washington. The faulty perspective consists in overemphasizing lesser problems and thereby underemphasizing the first and greatest problem.'),\n",
       " Document(metadata={'source': 'some_data/FDR_State_of_Union_1944.txt'}, page_content='There are people who burrow through our Nation like unseeing moles, and attempt to spread the suspicion that if other Nations are encouraged to raise their standards of living, our own American standard of living must of necessity be depressed.\\n\\nThe fact is the very contrary. It has been shown time and again that if the standard of living of any country goes up, so does its purchasing power- and that such a rise encourages a better standard of living in neighboring countries with whom it trades. That is just plain common sense—and it is the kind of plain common sense that provided the basis for our discussions at Moscow, Cairo, and Teheran.\\n\\nReturning from my journeyings, I must confess to a sense of \"let-down\" when I found many evidences of faulty perspective here in Washington. The faulty perspective consists in overemphasizing lesser problems and thereby underemphasizing the first and greatest problem.\\n\\nThe overwhelming majority of our people have met the demands of this war with magnificent courage and understanding. They have accepted inconveniences; they have accepted hardships; they have accepted tragic sacrifices. And they are ready and eager to make whatever further contributions are needed to win the war as quickly as possible- if only they are given the chance to know what is required of them.\\n\\nHowever, while the majority goes on about its great work without complaint, a noisy minority maintains an uproar of demands for special favors for special groups. There are pests who swarm through the lobbies of the Congress and the cocktail bars of Washington, representing these special groups as opposed to the basic interests of the Nation as a whole. They have come to look upon the war primarily as a chance to make profits for themselves at the expense of their neighbors- profits in money or in terms of political or social preferment.\\n\\nSuch selfish agitation can be highly dangerous in wartime. It creates confusion. It damages morale. It hampers our national effort. It muddies the waters and therefore prolongs the war.\\n\\nIf we analyze American history impartially, we cannot escape the fact that in our past we have not always forgotten individual and selfish and partisan interests in time of war—we have not always been united in purpose and direction. We cannot overlook the serious dissensions and the lack of unity in our war of the Revolution, in our War of 1812, or in our War Between the States, when the survival of the Union itself was at stake.\\n\\nIn the first World War we came closer to national unity than in any previous war. But that war lasted only a year and a half, and increasing signs of disunity began to appear during the final months of the conflict.\\n\\nIn this war, we have been compelled to learn how interdependent upon each other are all groups and sections of the population of America.\\n\\nIncreased food costs, for example, will bring new demands for wage increases from all war workers, which will in turn raise all prices of all things including those things which the farmers themselves have to buy. Increased wages or prices will each in turn produce the same results. They all have a particularly disastrous result on all fixed income groups.\\n\\nAnd I hope you will remember that all of us in this Government represent the fixed income group just as much as we represent business owners, workers, and farmers. This group of fixed income people includes: teachers, clergy, policemen, firemen, widows and minors on fixed incomes, wives and dependents of our soldiers and sailors, and old-age pensioners. They and their families add up to one-quarter of our one hundred and thirty million people. They have few or no high pressure representatives at the Capitol. In a period of gross inflation they would be the worst sufferers.\\n\\nIf ever there was a time to subordinate individual or group selfishness to the national good, that time is now. Disunity at home—bickerings, self-seeking partisanship, stoppages of work, inflation, business as usual, politics as usual, luxury as usual these are the influences which can undermine the morale of the brave men ready to die at the front for us here.\\n\\nThose who are doing most of the complaining are not deliberately striving to sabotage the national war effort. They are laboring under the delusion that the time is past when we must make prodigious sacrifices- that the war is already won and we can begin to slacken off. But the dangerous folly of that point of view can be measured by the distance that separates our troops from their ultimate objectives in Berlin and Tokyo—and by the sum of all the perils that lie along the way.'),\n",
       " Document(metadata={'source': 'some_data/FDR_State_of_Union_1944.txt'}, page_content='If ever there was a time to subordinate individual or group selfishness to the national good, that time is now. Disunity at home—bickerings, self-seeking partisanship, stoppages of work, inflation, business as usual, politics as usual, luxury as usual these are the influences which can undermine the morale of the brave men ready to die at the front for us here.\\n\\nThose who are doing most of the complaining are not deliberately striving to sabotage the national war effort. They are laboring under the delusion that the time is past when we must make prodigious sacrifices- that the war is already won and we can begin to slacken off. But the dangerous folly of that point of view can be measured by the distance that separates our troops from their ultimate objectives in Berlin and Tokyo—and by the sum of all the perils that lie along the way.\\n\\nOverconfidence and complacency are among our deadliest enemies. Last spring—after notable victories at Stalingrad and in Tunisia and against the U-boats on the high seas—overconfidence became so pronounced that war production fell off. In two months, June and July, 1943, more than a thousand airplanes that could have been made and should have been made were not made. Those who failed to make them were not on strike. They were merely saying, \"The war\\'s in the bag- so let\\'s relax.\"\\n\\nThat attitude on the part of anyone—Government or management or labor—can lengthen this war. It can kill American boys.\\n\\nLet us remember the lessons of 1918. In the summer of that year the tide turned in favor of the allies. But this Government did not relax. In fact, our national effort was stepped up. In August, 1918, the draft age limits were broadened from 21-31 to 18-45. The President called for \"force to the utmost,\" and his call was heeded. And in November, only three months later, Germany surrendered.\\n\\nThat is the way to fight and win a war—all out—and not with half-an-eye on the battlefronts abroad and the other eye-and-a-half on personal, selfish, or political interests here at home.\\n\\nTherefore, in order to concentrate all our energies and resources on winning the war, and to maintain a fair and stable economy at home, I recommend that the Congress adopt:\\n\\n(1) A realistic tax law—which will tax all unreasonable profits, both individual and corporate, and reduce the ultimate cost of the war to our sons and daughters. The tax bill now under consideration by the Congress does not begin to meet this test.\\n\\n(2) A continuation of the law for the renegotiation of war contracts—which will prevent exorbitant profits and assure fair prices to the Government. For two long years I have pleaded with the Congress to take undue profits out of war.\\n\\n(3) A cost of food law—which will enable the Government (a) to place a reasonable floor under the prices the farmer may expect for his production; and (b) to place a ceiling on the prices a consumer will have to pay for the food he buys. This should apply to necessities only; and will require public funds to carry out. It will cost in appropriations about one percent of the present annual cost of the war.\\n\\n(4) Early reenactment of. the stabilization statute of October, 1942. This expires June 30, 1944, and if it is not extended well in advance, the country might just as well expect price chaos by summer.\\n\\n(5) A national service law- which, for the duration of the war, will prevent strikes, and, with certain appropriate exceptions, will make available for war production or for any other essential services every able-bodied adult in this Nation.\\n\\nThese five measures together form a just and equitable whole. I would not recommend a national service law unless the other laws were passed to keep down the cost of living, to share equitably the burdens of taxation, to hold the stabilization line, and to prevent undue profits.\\n\\nThe Federal Government already has the basic power to draft capital and property of all kinds for war purposes on a basis of just compensation.\\n\\nAs you know, I have for three years hesitated to recommend a national service act. Today, however, I am convinced of its necessity. Although I believe that we and our allies can win the war without such a measure, I am certain that nothing less than total mobilization of all our resources of manpower and capital will guarantee an earlier victory, and reduce the toll of suffering and sorrow and blood.'),\n",
       " Document(metadata={'source': 'some_data/FDR_State_of_Union_1944.txt'}, page_content='These five measures together form a just and equitable whole. I would not recommend a national service law unless the other laws were passed to keep down the cost of living, to share equitably the burdens of taxation, to hold the stabilization line, and to prevent undue profits.\\n\\nThe Federal Government already has the basic power to draft capital and property of all kinds for war purposes on a basis of just compensation.\\n\\nAs you know, I have for three years hesitated to recommend a national service act. Today, however, I am convinced of its necessity. Although I believe that we and our allies can win the war without such a measure, I am certain that nothing less than total mobilization of all our resources of manpower and capital will guarantee an earlier victory, and reduce the toll of suffering and sorrow and blood.\\n\\nI have received a joint recommendation for this law from the heads of the War Department, the Navy Department, and the Maritime Commission. These are the men who bear responsibility for the procurement of the necessary arms and equipment, and for the successful prosecution of the war in the field. They say:\\n\\n\"When the very life of the Nation is in peril the responsibility for service is common to all men and women. In such a time there can be no discrimination between the men and women who are assigned by the Government to its defense at the battlefront and the men and women assigned to producing the vital materials essential to successful military operations. A prompt enactment of a National Service Law would be merely an expression of the universality of this responsibility.\"\\n\\nI believe the country will agree that those statements are the solemn truth.\\n\\nNational service is the most democratic way to wage a war. Like selective service for the armed forces, it rests on the obligation of each citizen to serve his Nation to his utmost where he is best qualified.\\n\\nIt does not mean reduction in wages. It does not mean loss of retirement and seniority rights and benefits. It does not mean that any substantial numbers of war workers will be disturbed in their present jobs. Let these facts be wholly clear.\\n\\nExperience in other democratic Nations at war—Britain, Canada, Australia, and New Zealand- has shown that the very existence of national service makes unnecessary the widespread use of compulsory power. National service has proven to be a unifying moral force based on an equal and comprehensive legal obligation of all people in a Nation at war.\\n\\nThere are millions of American men and women who are not in this war at all. It is not because they do not want to be in it. But they want to know where they can best do their share. National service provides that direction. It will be a means by which every man and woman can find that inner satisfaction which comes from making the fullest possible contribution to victory.\\n\\nI know that all civilian war workers will be glad to be able to say many years hence to their grandchildren: \"Yes, I, too, was in service in the great war. I was on duty in an airplane factory, and I helped make hundreds of fighting planes. The Government told me that in doing that I was performing my most useful work in the service of my country.\"\\n\\nIt is argued that we have passed the stage in the war where national service is necessary. But our soldiers and sailors know that this is not true. We are going forward on a long, rough road- and, in all journeys, the last miles are the hardest. And it is for that final effort—for the total defeat of our enemies-that we must mobilize our total resources. The national war program calls for the employment of more people in 1944 than in 1943.\\n\\nIt is my conviction that the American people will welcome this win-the-war measure which is based on the eternally just principle of \"fair for one, fair for all.\"\\n\\nIt will give our people at home the assurance that they are standing four-square behind our soldiers and sailors. And it will give our enemies demoralizing assurance that we mean business -that we, 130,000,000 Americans, are on the march to Rome, Berlin, and Tokyo.\\n\\nI hope that the Congress will recognize that, although this is a political year, national service is an issue which transcends politics. Great power must be used for great purposes.\\n\\nAs to the machinery for this measure, the Congress itself should determine its nature—but it should be wholly nonpartisan in its make-up.\\n\\nOur armed forces are valiantly fulfilling their responsibilities to our country and our people. Now the Congress faces the responsibility for taking those measures which are essential to national security in this the most decisive phase of the Nation\\'s greatest war.'),\n",
       " Document(metadata={'source': 'some_data/FDR_State_of_Union_1944.txt'}, page_content='It will give our people at home the assurance that they are standing four-square behind our soldiers and sailors. And it will give our enemies demoralizing assurance that we mean business -that we, 130,000,000 Americans, are on the march to Rome, Berlin, and Tokyo.\\n\\nI hope that the Congress will recognize that, although this is a political year, national service is an issue which transcends politics. Great power must be used for great purposes.\\n\\nAs to the machinery for this measure, the Congress itself should determine its nature—but it should be wholly nonpartisan in its make-up.\\n\\nOur armed forces are valiantly fulfilling their responsibilities to our country and our people. Now the Congress faces the responsibility for taking those measures which are essential to national security in this the most decisive phase of the Nation\\'s greatest war.\\n\\nSeveral alleged reasons have prevented the enactment of legislation which would preserve for our soldiers and sailors and marines the fundamental prerogative of citizenship—the right to vote. No amount of legalistic argument can becloud this issue in the eyes of these ten million American citizens. Surely the signers of the Constitution did not intend a document which, even in wartime, would be construed to take away the franchise of any of those who are fighting to preserve the Constitution itself.\\n\\nOur soldiers and sailors and marines know that the overwhelming majority of them will be deprived of the opportunity to vote, if the voting machinery is left exclusively to the States under existing State laws—and that there is no likelihood of these laws being changed in time to enable them to vote at the next election. The Army and Navy have reported that it will be impossible effectively to administer forty-eight different soldier voting laws. It is the duty of the Congress to remove this unjustifiable discrimination against the men and women in our armed forces- and to do it as quickly as possible.\\n\\nIt is our duty now to begin to lay the plans and determine the strategy for the winning of a lasting peace and the establishment of an American standard of living higher than ever before known. We cannot be content, no matter how high that general standard of living may be, if some fraction of our people—whether it be one-third or one-fifth or one-tenth- is ill-fed, ill-clothed, ill housed, and insecure.\\n\\nThis Republic had its beginning, and grew to its present strength, under the protection of certain inalienable political rights—among them the right of free speech, free press, free worship, trial by jury, freedom from unreasonable searches and seizures. They were our rights to life and liberty.\\n\\nAs our Nation has grown in size and stature, however—as our industrial economy expanded—these political rights proved inadequate to assure us equality in the pursuit of happiness.\\n\\nWe have come to a clear realization of the fact that true individual freedom cannot exist without economic security and independence. \"Necessitous men are not free men.\" People who are hungry and out of a job are the stuff of which dictatorships are made.\\n\\nIn our day these economic truths have become accepted as self-evident. We have accepted, so to speak, a second Bill of Rights under which a new basis of security and prosperity can be established for all regardless of station, race, or creed.\\n\\nAmong these are:\\n\\nThe right to a useful and remunerative job in the industries or shops or farms or mines of the Nation;\\n\\nThe right to earn enough to provide adequate food and clothing and recreation;\\n\\nThe right of every farmer to raise and sell his products at a return which will give him and his family a decent living;\\n\\nThe right of every businessman, large and small, to trade in an atmosphere of freedom from unfair competition and domination by monopolies at home or abroad;\\n\\nThe right of every family to a decent home;\\n\\nThe right to adequate medical care and the opportunity to achieve and enjoy good health;\\n\\nThe right to adequate protection from the economic fears of old age, sickness, accident, and unemployment;\\n\\nThe right to a good education.\\n\\nAll of these rights spell security. And after this war is won we must be prepared to move forward, in the implementation of these rights, to new goals of human happiness and well-being.\\n\\nAmerica\\'s own rightful place in the world depends in large part upon how fully these and similar rights have been carried into practice for our citizens. For unless there is security here at home there cannot be lasting peace in the world.'),\n",
       " Document(metadata={'source': 'some_data/FDR_State_of_Union_1944.txt'}, page_content='The right of every farmer to raise and sell his products at a return which will give him and his family a decent living;\\n\\nThe right of every businessman, large and small, to trade in an atmosphere of freedom from unfair competition and domination by monopolies at home or abroad;\\n\\nThe right of every family to a decent home;\\n\\nThe right to adequate medical care and the opportunity to achieve and enjoy good health;\\n\\nThe right to adequate protection from the economic fears of old age, sickness, accident, and unemployment;\\n\\nThe right to a good education.\\n\\nAll of these rights spell security. And after this war is won we must be prepared to move forward, in the implementation of these rights, to new goals of human happiness and well-being.\\n\\nAmerica\\'s own rightful place in the world depends in large part upon how fully these and similar rights have been carried into practice for our citizens. For unless there is security here at home there cannot be lasting peace in the world.\\n\\nOne of the great American industrialists of our day—a man who has rendered yeoman service to his country in this crisis-recently emphasized the grave dangers of \"rightist reaction\" in this Nation. All clear-thinking businessmen share his concern. Indeed, if such reaction should develop—if history were to repeat itself and we were to return to the so-called \"normalcy\" of the 1920\\'s—then it is certain that even though we shall have conquered our enemies on the battlefields abroad, we shall have yielded to the spirit of Fascism here at home.\\n\\nI ask the Congress to explore the means for implementing this economic bill of rights- for it is definitely the responsibility of the Congress so to do. Many of these problems are already before committees of the Congress in the form of proposed legislation. I shall from time to time communicate with the Congress with respect to these and further proposals. In the event that no adequate program of progress is evolved, I am certain that the Nation will be conscious of the fact.\\n\\nOur fighting men abroad- and their families at home- expect such a program and have the right to insist upon it. It is to their demands that this Government should pay heed rather than to the whining demands of selfish pressure groups who seek to feather their nests while young Americans are dying.\\n\\nThe foreign policy that we have been following—the policy that guided us at Moscow, Cairo, and Teheran—is based on the common sense principle which was best expressed by Benjamin Franklin on July 4, 1776: \"We must all hang together, or assuredly we shall all hang separately.\"\\n\\nI have often said that there are no two fronts for America in this war. There is only one front. There is one line of unity which extends from the hearts of the people at home to the men of our attacking forces in our farthest outposts. When we speak of our total effort, we speak of the factory and the field, and the mine as well as of the battleground -- we speak of the soldier and the civilian, the citizen and his Government.\\n\\nEach and every one of us has a solemn obligation under God to serve this Nation in its most critical hour—to keep this Nation great -- to make this Nation greater in a better world.')]"
      ]
     },
     "execution_count": 198,
     "metadata": {},
     "output_type": "execute_result"
    }
   ],
   "source": [
    "from langchain_text_splitters import RecursiveCharacterTextSplitter\n",
    "\n",
    "text_splitter = RecursiveCharacterTextSplitter.from_tiktoken_encoder(\n",
    "    model_name=\"gpt-4\",\n",
    "    chunk_size=1000, # chunk_size is the number of tokens\n",
    "    chunk_overlap=200,\n",
    ")\n",
    "\n",
    "splitted_docs = text_splitter.split_documents(loaded_docs) # loaded_docs is a list of Document objects created by loader\n",
    "\n",
    "# or:\n",
    "# splitted_docs_2 = splitter.create_documents([speech_text]) # speech_text is a text file\n",
    "\n",
    "print(len(splitted_docs))\n",
    "splitted_docs\n"
   ]
  },
  {
   "cell_type": "code",
   "execution_count": 195,
   "id": "eda43922",
   "metadata": {},
   "outputs": [
    {
     "name": "stdout",
     "output_type": "stream",
     "text": [
      "4884 961\n",
      "4640 917\n",
      "4388 928\n",
      "4694 927\n",
      "4547 887\n",
      "3206 646\n"
     ]
    }
   ],
   "source": [
    "import tiktoken\n",
    "from langchain.text_splitter import CharacterTextSplitter\n",
    "\n",
    "\n",
    "# Initialize the OpenAI tokenizer (use \"cl100k_base\" for GPT-4/3.5)\n",
    "tokenizer = tiktoken.get_encoding(\"cl100k_base\")\n",
    "\n",
    "\n",
    "for doc in splitted_docs:\n",
    "    print(len(doc.page_content), len(tokenizer.encode(doc.page_content)) ) "
   ]
  },
  {
   "cell_type": "markdown",
   "id": "58069087",
   "metadata": {},
   "source": [
    "## 📌 Optimal Chunk Size & Overlap When Using `tiktoken` \n",
    "\n",
    "| **Use Case** | **Recommended Chunk Size** | **Recommended Overlap** |\n",
    "|-------------|--------------------------|------------------------|\n",
    "| **Short Documents (1-2 pages)** | `256-512 tokens` | `50 tokens` |\n",
    "| **General NLP & Chatbots** | `500-800 tokens` | `50-100 tokens` |\n",
    "| **Retrieval-Augmented Generation (RAG)** | `800-1200 tokens` | `100-150 tokens` |\n",
    "| **Large Documents (Reports, Books)** | `1000-1500 tokens` | `150-200 tokens` |\n",
    "| **Technical or Code Processing** | `200-500 tokens` | `50-100 tokens` |\n",
    "\n",
    "---"
   ]
  },
  {
   "cell_type": "markdown",
   "id": "190d2b35",
   "metadata": {},
   "source": [
    "## **Combining Documnet Loaders and Splitters** using `load_and_split()`"
   ]
  },
  {
   "cell_type": "code",
   "execution_count": 196,
   "id": "47af35a0",
   "metadata": {},
   "outputs": [],
   "source": [
    "import os\n",
    "import hashlib\n",
    "\n",
    "\n",
    "blobpath = \"https://openaipublic.blob.core.windows.net/encodings/cl100k_base.tiktoken\"\n",
    "cache_key = hashlib.sha1(blobpath.encode()).hexdigest()\n",
    "\n",
    "\n",
    "# path to the directory you created to paste the file\n",
    "tiktoken_cache_dir = r\"C:\\Users\\Seyed Barabadi\\Downloads\\Gen AI\\tiktoken\" \n",
    "os.environ[\"TIKTOKEN_CACHE_DIR\"] = tiktoken_cache_dir\n",
    "\n",
    "# validate\n",
    "assert os.path.exists(os.path.join(tiktoken_cache_dir, cache_key))"
   ]
  },
  {
   "cell_type": "code",
   "execution_count": null,
   "id": "0084e35f",
   "metadata": {},
   "outputs": [
    {
     "data": {
      "text/plain": [
       "[Document(metadata={'source': 'some_data/marvel_superheroes.pdf', 'page': 0}, page_content='Spider-Man\\nSpider-Man, also known as Peter Parker, is one of Marvel\\'s most iconic superheroes. Created by\\nwriter Stan Lee and artist Steve Ditko, he first appeared in Amazing Fantasy #15 in 1962. As a\\nteenager, Peter Parker was bitten by a radioactive spider, which granted him extraordinary powers,\\nincluding superhuman strength, agility, the ability to cling to walls, and a \"spider-sense\" that warns\\nhim of impending danger.'),\n",
       " Document(metadata={'source': 'some_data/marvel_superheroes.pdf', 'page': 0}, page_content='him of impending danger.\\nDespite his incredible abilities, Peter\\'s life is fraught with hardship. After the tragic murder of his\\nUncle Ben, Peter learns a valuable lesson: \"With great power comes great responsibility.\" This\\nphilosophy shapes his journey as he fights crime and protects the citizens of New York City from\\nnotorious villains like the Green Goblin, Doctor Octopus, and Venom. \\nAs Spider-Man, Peter has been a key member of teams like the Avengers and the Fantastic Four.'),\n",
       " Document(metadata={'source': 'some_data/marvel_superheroes.pdf', 'page': 0}, page_content=\"He has worn various suits, from the classic red and blue costume to advanced versions like the Iron\\nSpider suit designed by Tony Stark. Over the years, he has faced significant personal challenges,\\nincluding losing loved ones and struggling to balance his superhero duties with his normal life.\\nSpider-Man's enduring popularity stems from his relatability. Unlike other superheroes who are\\nbillionaires or gods, Peter Parker is a regular person dealing with everyday struggles, making him\"),\n",
       " Document(metadata={'source': 'some_data/marvel_superheroes.pdf', 'page': 0}, page_content='one of the most beloved characters in comic book history. His legacy has continued in numerous\\nmovies, animated series, and video games, cementing his place as a cultural icon.'),\n",
       " Document(metadata={'source': 'some_data/marvel_superheroes.pdf', 'page': 1}, page_content='Iron Man\\nIron Man, aka Tony Stark, is the genius billionaire playboy philanthropist behind the advanced Iron\\nMan suit. First appearing in Tales of Suspense #39 in 1963, he was created by Stan Lee, Larry\\nLieber, Don Heck, and Jack Kirby. Tony Stark is a brilliant inventor and CEO of Stark Industries,\\nspecializing in cutting-edge technology and weaponry.\\nAfter being captured by terrorists and critically wounded, Stark builds the first Iron Man suit to'),\n",
       " Document(metadata={'source': 'some_data/marvel_superheroes.pdf', 'page': 1}, page_content=\"escape captivity. This experience transforms him, leading him to shut down his company's weapons\\ndivision and focus on using his technology for good. He continually refines his Iron Man armor,\\ncreating versions with increased firepower, flight capabilities, and artificial intelligence integration\\nthrough his AI assistant J.A.R.V.I.S.\\nIron Man plays a pivotal role in forming the Avengers and becomes one of the most influential\"),\n",
       " Document(metadata={'source': 'some_data/marvel_superheroes.pdf', 'page': 1}, page_content=\"heroes in the Marvel Universe. His charisma, intelligence, and moral dilemmas make him an\\nintriguing character. Despite his arrogance, Tony Stark is driven by a desire to protect the world,\\nculminating in his ultimate sacrifice in Avengers: Endgame, where he uses the Infinity Gauntlet to\\ndefeat Thanos.\\nBeyond the comics, Iron Man's cinematic portrayal by Robert Downey Jr. in the Marvel Cinematic\\nUniverse (MCU) redefined the character, making him a global phenomenon. His journey from an\"),\n",
       " Document(metadata={'source': 'some_data/marvel_superheroes.pdf', 'page': 1}, page_content='egotistical billionaire to a selfless hero remains one of Marvel?s most compelling arcs.')]"
      ]
     },
     "execution_count": 197,
     "metadata": {},
     "output_type": "execute_result"
    }
   ],
   "source": [
    "from langchain_community.document_loaders import PyPDFLoader\n",
    "from langchain.text_splitter import RecursiveCharacterTextSplitter\n",
    "\n",
    "\n",
    "loader = PyPDFLoader('some_data/marvel_superheroes.pdf')\n",
    "\n",
    "# Use a text splitter to break large text into smaller chunks\n",
    "text_splitter = RecursiveCharacterTextSplitter(chunk_size=500, chunk_overlap=50)\n",
    "\n",
    "pages = loader.load_and_split(text_splitter)\n",
    "pages"
   ]
  }
 ],
 "metadata": {
  "kernelspec": {
   "display_name": "myEnv",
   "language": "python",
   "name": "myenv"
  },
  "language_info": {
   "codemirror_mode": {
    "name": "ipython",
    "version": 3
   },
   "file_extension": ".py",
   "mimetype": "text/x-python",
   "name": "python",
   "nbconvert_exporter": "python",
   "pygments_lexer": "ipython3",
   "version": "3.8.8"
  }
 },
 "nbformat": 4,
 "nbformat_minor": 5
}
