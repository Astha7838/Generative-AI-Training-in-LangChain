{
 "cells": [
  {
   "cell_type": "markdown",
   "id": "728f1747-b8fc-4d31-96c2-047fc83c079d",
   "metadata": {},
   "source": [
    "# **Vector Store**\n",
    "\n",
    "- https://python.langchain.com/docs/integrations/vectorstores/"
   ]
  },
  {
   "cell_type": "markdown",
   "id": "3f3ca2f4",
   "metadata": {},
   "source": [
    "![alt text](https://python.langchain.com/assets/images/vectorstores-2540b4bc355b966c99b0f02cfdddb273.png \"Vector Store\")"
   ]
  },
  {
   "cell_type": "markdown",
   "id": "7453d5cc",
   "metadata": {},
   "source": [
    "##  📌 Why Do We Need Vector Stores Like ChromaDB Instead of Just Saving Vectors on Disk?\n",
    "\n",
    "A **vector store** like **ChromaDB** is designed for **efficient similarity search and retrieval** of large-scale embeddings. While it's possible to save vectors on disk, a **specialized vector database** provides significant advantages.\n",
    "\n",
    "---\n",
    "\n",
    "## **🔹 Why Use ChromaDB Instead?**\n",
    "\n",
    "### **1️⃣ Fast & Efficient Search (Approximate Nearest Neighbors)**\n",
    "✅ **ChromaDB uses ANN (Approximate Nearest Neighbor) indexing** to retrieve vectors efficiently.  \n",
    "✅ **Searching millions of embeddings takes milliseconds**, while disk-based searches take much longer.  \n",
    "\n",
    "🔹 **Example Use Case:**  \n",
    "- Searching **news articles** based on meaning instead of exact keywords.\n",
    "\n",
    "---\n",
    "\n",
    "### **2️⃣ Persistent & Scalable Storage**\n",
    "✅ Unlike raw NumPy arrays, ChromaDB **persists embeddings** so they don’t disappear after a restart.  \n",
    "✅ Handles **millions of embeddings** without performance issues.\n",
    "\n",
    "🔹 **Example Use Case:**  \n",
    "- **A chatbot retrieves past conversations** using stored embeddings, even after a server reboot.\n",
    "\n",
    "---\n",
    "\n",
    "### **3️⃣ Metadata & Filtering Support**\n",
    "✅ **Stores metadata alongside vectors** (e.g., document titles, timestamps, categories).  \n",
    "✅ Enables **filtered searches** (e.g., **\"Find articles similar to X but only from 2023\"**).\n",
    "\n",
    "🔹 **Example Use Case:**  \n",
    "- **A legal AI tool filters court cases** by year, jurisdiction, or relevance.\n",
    "\n",
    "\n",
    "---\n",
    "\n",
    "## **🚀 Why Use a Vector Database like Chroma?**\n",
    "| **Feature**           | **No Vector database** | **Using ChromaDB** |\n",
    "|----------------------|--------------------------|------------------|\n",
    "| **Search Speed**     | ❌ Slow (Brute Force) | ✅ Fast (ANN Indexing) |\n",
    "| **Persistence**      | ❌ Requires manual saving | ✅ Automatically stored |\n",
    "| **Metadata Support** | ❌ No metadata | ✅ Supports structured queries |\n",
    "| **Scalability**      | ❌ Limited by RAM | ✅ Handles millions of embeddings |\n",
    "| **Real-Time Updates**| ❌ Static data only | ✅ Supports dynamic indexing |\n",
    "\n",
    "📌 **ChromaDB enables fast, scalable, and efficient vector search, making it ideal for AI-powered retrieval!** 🚀😊\n"
   ]
  },
  {
   "cell_type": "markdown",
   "id": "ba3329ac",
   "metadata": {},
   "source": [
    "! `pip install chromadb`\n",
    "\n",
    "`!pip install \"langchain-chroma>=0.1.2\"`"
   ]
  },
  {
   "cell_type": "markdown",
   "id": "91019479",
   "metadata": {},
   "source": [
    "## **Chroma**\n",
    "- https://python.langchain.com/docs/integrations/vectorstores/chroma/"
   ]
  },
  {
   "cell_type": "code",
   "execution_count": null,
   "id": "c1031890-3ee4-4e4d-9a3f-3568ffbcea9e",
   "metadata": {},
   "outputs": [
    {
     "name": "stdout",
     "output_type": "stream",
     "text": [
      "0.4.24\n",
      "0.2.17\n",
      "2.9.2\n"
     ]
    }
   ],
   "source": [
    "import chromadb\n",
    "print(chromadb.__version__)\n",
    "\n",
    "import langchain\n",
    "print(langchain.__version__)\n",
    "\n",
    "import pydantic\n",
    "print(pydantic.__version__)"
   ]
  },
  {
   "cell_type": "code",
   "execution_count": 2,
   "id": "a70b55e1-6114-4aa1-a1fc-2ab64786f16e",
   "metadata": {},
   "outputs": [],
   "source": [
    "from langchain_openai import OpenAIEmbeddings\n",
    "from langchain_text_splitters import CharacterTextSplitter\n",
    "from langchain_chroma import Chroma\n",
    "from langchain_community.document_loaders import TextLoader"
   ]
  },
  {
   "cell_type": "markdown",
   "id": "1dc95052-e09a-471e-b1d0-e02e7d50d424",
   "metadata": {},
   "source": [
    "### **Load Document and Split**"
   ]
  },
  {
   "cell_type": "code",
   "execution_count": 3,
   "id": "fbe6aef4-ba05-4fb0-9a91-cd90620668f2",
   "metadata": {},
   "outputs": [],
   "source": [
    "# load the document and split it into chunks\n",
    "loader = TextLoader(\"some_data/FDR_State_of_Union_1944.txt\")\n",
    "documents = loader.load()"
   ]
  },
  {
   "cell_type": "markdown",
   "id": "ca41716f",
   "metadata": {},
   "source": [
    "### `RecursiveCharacterTextSplitter`"
   ]
  },
  {
   "cell_type": "code",
   "execution_count": 4,
   "id": "a824b09e",
   "metadata": {},
   "outputs": [],
   "source": [
    "from langchain_text_splitters import RecursiveCharacterTextSplitter\n",
    "\n",
    "# loader = TextLoader(\"some_data/FDR_State_of_Union_1944.txt\") # or any other loader\n",
    "# documents = loader.load()\n",
    "\n",
    "splitter = RecursiveCharacterTextSplitter.from_tiktoken_encoder(\n",
    "    model_name=\"gpt-4\",\n",
    "    encoding_name=\"cl100k_base\", \n",
    "    chunk_size=500, # The maximum number of Tokens in a chunk\n",
    "    chunk_overlap=50, # Overlap between consecutive chunks\n",
    "    add_start_index=True, # Flag to add start index to each chunk\n",
    ")\n",
    "\n",
    "splitted_docs = splitter.split_documents(documents)"
   ]
  },
  {
   "cell_type": "code",
   "execution_count": 5,
   "id": "6dbc6420",
   "metadata": {},
   "outputs": [
    {
     "name": "stdout",
     "output_type": "stream",
     "text": [
      "10\n"
     ]
    }
   ],
   "source": [
    "print(len(splitted_docs))"
   ]
  },
  {
   "cell_type": "markdown",
   "id": "76bc3ca2-2b7a-4997-b419-a8c43435c47b",
   "metadata": {},
   "source": [
    "## Connect to OpenAI for Embeddings"
   ]
  },
  {
   "cell_type": "code",
   "execution_count": null,
   "id": "2a0c2ab4-a7d0-4494-a391-1277e68ab87f",
   "metadata": {},
   "outputs": [
    {
     "data": {
      "text/plain": [
       ""
      ]
     },
     "execution_count": 6,
     "metadata": {},
     "output_type": "execute_result"
    }
   ],
   "source": [
    "import os\n",
    "os.environ[\"OPENAI_API_KEY\"] = \"",
    "api_key = os.getenv(\"OPENAI_API_KEY\")\n",
    "api_key\n"
   ]
  },
  {
   "cell_type": "code",
   "execution_count": 7,
   "id": "4b65454a-caf0-45b0-a7de-ff6b7157b935",
   "metadata": {},
   "outputs": [],
   "source": [
    "from langchain_openai import OpenAIEmbeddings\n",
    "\n",
    "embedding_function = OpenAIEmbeddings(model=\"text-embedding-3-small\")"
   ]
  },
  {
   "cell_type": "markdown",
   "id": "a8c3d018-dbcc-49d5-9370-f8604cb45d47",
   "metadata": {},
   "source": [
    "### Create a `Chroma` object and pass Embeddings and Docs into it using `from_documents` function"
   ]
  },
  {
   "cell_type": "code",
   "execution_count": 8,
   "id": "e736fb25-b130-42f9-823f-31869a61ce80",
   "metadata": {},
   "outputs": [],
   "source": [
    "# load it into Chroma\n",
    "# persist_directory is where you want to save the embeddings\n",
    "db = Chroma.from_documents(splitted_docs, \n",
    "                           embedding_function, \n",
    "                           persist_directory='./FDR_State_of_Union_Embeddings')"
   ]
  },
  {
   "cell_type": "code",
   "execution_count": 9,
   "id": "cfa557f8",
   "metadata": {},
   "outputs": [
    {
     "data": {
      "text/plain": [
       "10"
      ]
     },
     "execution_count": 9,
     "metadata": {},
     "output_type": "execute_result"
    }
   ],
   "source": [
    "db._collection.count()"
   ]
  },
  {
   "cell_type": "code",
   "execution_count": 10,
   "id": "6bfb81a7",
   "metadata": {},
   "outputs": [
    {
     "data": {
      "text/plain": [
       "{'ids': ['0ce2ef67-7de5-41c2-befc-1ec265310776',\n",
       "  '3e9918f7-640d-4dd2-9d9e-c0e2f8aca2f9',\n",
       "  '40299244-bcb4-450c-8736-ffa16718d369',\n",
       "  '67bc7f19-a932-4157-a504-edbd69c19b5c',\n",
       "  '6f70731e-2c61-4129-a6c8-41e2b1629fe1',\n",
       "  'b51e644c-1141-4f2d-ae97-a9e0ac4afd93',\n",
       "  'c039d218-d77d-4c3a-9182-d64953bc6370',\n",
       "  'c721c7c9-11eb-40c5-a6ae-5870a8ec5d82',\n",
       "  'dcb5bc8e-f9ba-440e-ae57-13eb2abb34e7',\n",
       "  'e8324ebd-da6e-45da-8d37-821d1a90a752'],\n",
       " 'embeddings': None,\n",
       " 'metadatas': [{'source': 'some_data/FDR_State_of_Union_1944.txt',\n",
       "   'start_index': -1},\n",
       "  {'source': 'some_data/FDR_State_of_Union_1944.txt', 'start_index': -1},\n",
       "  {'source': 'some_data/FDR_State_of_Union_1944.txt', 'start_index': 0},\n",
       "  {'source': 'some_data/FDR_State_of_Union_1944.txt', 'start_index': -1},\n",
       "  {'source': 'some_data/FDR_State_of_Union_1944.txt', 'start_index': -1},\n",
       "  {'source': 'some_data/FDR_State_of_Union_1944.txt', 'start_index': 17837},\n",
       "  {'source': 'some_data/FDR_State_of_Union_1944.txt', 'start_index': 4616},\n",
       "  {'source': 'some_data/FDR_State_of_Union_1944.txt', 'start_index': 20251},\n",
       "  {'source': 'some_data/FDR_State_of_Union_1944.txt', 'start_index': 13226},\n",
       "  {'source': 'some_data/FDR_State_of_Union_1944.txt', 'start_index': 9094}],\n",
       " 'documents': ['But there were no secret treaties or political or financial commitments.\\n\\nThe one supreme objective for the future, which we discussed for each Nation individually, and for all the United Nations, can be summed up in one word: Security.\\n\\nAnd that means not only physical security which provides safety from attacks by aggressors. It means also economic security, social security, moral security—in a family of Nations.\\n\\nIn the plain down-to-earth talks that I had with the Generalissimo and Marshal Stalin and Prime Minister Churchill, it was abundantly clear that they are all most deeply interested in the resumption of peaceful progress by their own peoples—progress toward a better life. All our allies want freedom to develop their lands and resources, to build up industry, to increase education and individual opportunity, and to raise standards of living.\\n\\nAll our allies have learned by bitter experience that real development will not be possible if they are to be diverted from their purpose by repeated wars—or even threats of war.\\n\\nChina and Russia are truly united with Britain and America in recognition of this essential fact:\\n\\nThe best interests of each Nation, large and small, demand that all freedom-loving Nations shall join together in a just and durable system of peace. In the present world situation, evidenced by the actions of Germany, Italy, and Japan, unquestioned military control over disturbers of the peace is as necessary among Nations as it is among citizens in a community. And an equally basic essential to peace is a decent standard of living for all individual men and women and children in all Nations. Freedom from fear is eternally linked with freedom from want.\\n\\nThere are people who burrow through our Nation like unseeing moles, and attempt to spread the suspicion that if other Nations are encouraged to raise their standards of living, our own American standard of living must of necessity be depressed.\\n\\nThe fact is the very contrary. It has been shown time and again that if the standard of living of any country goes up, so does its purchasing power- and that such a rise encourages a better standard of living in neighboring countries with whom it trades. That is just plain common sense—and it is the kind of plain common sense that provided the basis for our discussions at Moscow, Cairo, and Teheran.',\n",
       "  '(5) A national service law- which, for the duration of the war, will prevent strikes, and, with certain appropriate exceptions, will make available for war production or for any other essential services every able-bodied adult in this Nation.\\n\\nThese five measures together form a just and equitable whole. I would not recommend a national service law unless the other laws were passed to keep down the cost of living, to share equitably the burdens of taxation, to hold the stabilization line, and to prevent undue profits.\\n\\nThe Federal Government already has the basic power to draft capital and property of all kinds for war purposes on a basis of just compensation.\\n\\nAs you know, I have for three years hesitated to recommend a national service act. Today, however, I am convinced of its necessity. Although I believe that we and our allies can win the war without such a measure, I am certain that nothing less than total mobilization of all our resources of manpower and capital will guarantee an earlier victory, and reduce the toll of suffering and sorrow and blood.\\n\\nI have received a joint recommendation for this law from the heads of the War Department, the Navy Department, and the Maritime Commission. These are the men who bear responsibility for the procurement of the necessary arms and equipment, and for the successful prosecution of the war in the field. They say:\\n\\n\"When the very life of the Nation is in peril the responsibility for service is common to all men and women. In such a time there can be no discrimination between the men and women who are assigned by the Government to its defense at the battlefront and the men and women assigned to producing the vital materials essential to successful military operations. A prompt enactment of a National Service Law would be merely an expression of the universality of this responsibility.\"\\n\\nI believe the country will agree that those statements are the solemn truth.\\n\\nNational service is the most democratic way to wage a war. Like selective service for the armed forces, it rests on the obligation of each citizen to serve his Nation to his utmost where he is best qualified.\\n\\nIt does not mean reduction in wages. It does not mean loss of retirement and seniority rights and benefits. It does not mean that any substantial numbers of war workers will be disturbed in their present jobs. Let these facts be wholly clear.',\n",
       "  'This Nation in the past two years has become an active partner in the world\\'s greatest war against human slavery.\\n\\nWe have joined with like-minded people in order to defend ourselves in a world that has been gravely threatened with gangster rule.\\n\\nBut I do not think that any of us Americans can be content with mere survival. Sacrifices that we and our allies are making impose upon us all a sacred obligation to see to it that out of this war we and our children will gain something better than mere survival.\\n\\nWe are united in determination that this war shall not be followed by another interim which leads to new disaster- that we shall not repeat the tragic errors of ostrich isolationism—that we shall not repeat the excesses of the wild twenties when this Nation went for a joy ride on a roller coaster which ended in a tragic crash.\\n\\nWhen Mr. Hull went to Moscow in October, and when I went to Cairo and Teheran in November, we knew that we were in agreement with our allies in our common determination to fight and win this war. But there were many vital questions concerning the future peace, and they were discussed in an atmosphere of complete candor and harmony.\\n\\nIn the last war such discussions, such meetings, did not even begin until the shooting had stopped and the delegates began to assemble at the peace table. There had been no previous opportunities for man-to-man discussions which lead to meetings of minds. The result was a peace which was not a peace. That was a mistake which we are not repeating in this war.\\n\\nAnd right here I want to address a word or two to some suspicious souls who are fearful that Mr. Hull or I have made \"commitments\" for the future which might pledge this Nation to secret treaties, or to enacting the role of Santa Claus.\\n\\nTo such suspicious souls—using a polite terminology—I wish to say that Mr. Churchill, and Marshal Stalin, and Generalissimo Chiang Kai-shek are all thoroughly conversant with the provisions of our Constitution. And so is Mr. Hull. And so am I.\\n\\nOf course we made some commitments. We most certainly committed ourselves to very large and very specific military plans which require the use of all Allied forces to bring about the defeat of our enemies at the earliest possible time.\\n\\nBut there were no secret treaties or political or financial commitments.',\n",
       "  'In this war, we have been compelled to learn how interdependent upon each other are all groups and sections of the population of America.\\n\\nIncreased food costs, for example, will bring new demands for wage increases from all war workers, which will in turn raise all prices of all things including those things which the farmers themselves have to buy. Increased wages or prices will each in turn produce the same results. They all have a particularly disastrous result on all fixed income groups.\\n\\nAnd I hope you will remember that all of us in this Government represent the fixed income group just as much as we represent business owners, workers, and farmers. This group of fixed income people includes: teachers, clergy, policemen, firemen, widows and minors on fixed incomes, wives and dependents of our soldiers and sailors, and old-age pensioners. They and their families add up to one-quarter of our one hundred and thirty million people. They have few or no high pressure representatives at the Capitol. In a period of gross inflation they would be the worst sufferers.\\n\\nIf ever there was a time to subordinate individual or group selfishness to the national good, that time is now. Disunity at home—bickerings, self-seeking partisanship, stoppages of work, inflation, business as usual, politics as usual, luxury as usual these are the influences which can undermine the morale of the brave men ready to die at the front for us here.\\n\\nThose who are doing most of the complaining are not deliberately striving to sabotage the national war effort. They are laboring under the delusion that the time is past when we must make prodigious sacrifices- that the war is already won and we can begin to slacken off. But the dangerous folly of that point of view can be measured by the distance that separates our troops from their ultimate objectives in Berlin and Tokyo—and by the sum of all the perils that lie along the way.\\n\\nOverconfidence and complacency are among our deadliest enemies. Last spring—after notable victories at Stalingrad and in Tunisia and against the U-boats on the high seas—overconfidence became so pronounced that war production fell off. In two months, June and July, 1943, more than a thousand airplanes that could have been made and should have been made were not made. Those who failed to make them were not on strike. They were merely saying, \"The war\\'s in the bag- so let\\'s relax.\"',\n",
       "  \"I hope that the Congress will recognize that, although this is a political year, national service is an issue which transcends politics. Great power must be used for great purposes.\\n\\nAs to the machinery for this measure, the Congress itself should determine its nature—but it should be wholly nonpartisan in its make-up.\\n\\nOur armed forces are valiantly fulfilling their responsibilities to our country and our people. Now the Congress faces the responsibility for taking those measures which are essential to national security in this the most decisive phase of the Nation's greatest war.\\n\\nSeveral alleged reasons have prevented the enactment of legislation which would preserve for our soldiers and sailors and marines the fundamental prerogative of citizenship—the right to vote. No amount of legalistic argument can becloud this issue in the eyes of these ten million American citizens. Surely the signers of the Constitution did not intend a document which, even in wartime, would be construed to take away the franchise of any of those who are fighting to preserve the Constitution itself.\\n\\nOur soldiers and sailors and marines know that the overwhelming majority of them will be deprived of the opportunity to vote, if the voting machinery is left exclusively to the States under existing State laws—and that there is no likelihood of these laws being changed in time to enable them to vote at the next election. The Army and Navy have reported that it will be impossible effectively to administer forty-eight different soldier voting laws. It is the duty of the Congress to remove this unjustifiable discrimination against the men and women in our armed forces- and to do it as quickly as possible.\\n\\nIt is our duty now to begin to lay the plans and determine the strategy for the winning of a lasting peace and the establishment of an American standard of living higher than ever before known. We cannot be content, no matter how high that general standard of living may be, if some fraction of our people—whether it be one-third or one-fifth or one-tenth- is ill-fed, ill-clothed, ill housed, and insecure.\\n\\nThis Republic had its beginning, and grew to its present strength, under the protection of certain inalienable political rights—among them the right of free speech, free press, free worship, trial by jury, freedom from unreasonable searches and seizures. They were our rights to life and liberty.\",\n",
       "  'As our Nation has grown in size and stature, however—as our industrial economy expanded—these political rights proved inadequate to assure us equality in the pursuit of happiness.\\n\\nWe have come to a clear realization of the fact that true individual freedom cannot exist without economic security and independence. \"Necessitous men are not free men.\" People who are hungry and out of a job are the stuff of which dictatorships are made.\\n\\nIn our day these economic truths have become accepted as self-evident. We have accepted, so to speak, a second Bill of Rights under which a new basis of security and prosperity can be established for all regardless of station, race, or creed.\\n\\nAmong these are:\\n\\nThe right to a useful and remunerative job in the industries or shops or farms or mines of the Nation;\\n\\nThe right to earn enough to provide adequate food and clothing and recreation;\\n\\nThe right of every farmer to raise and sell his products at a return which will give him and his family a decent living;\\n\\nThe right of every businessman, large and small, to trade in an atmosphere of freedom from unfair competition and domination by monopolies at home or abroad;\\n\\nThe right of every family to a decent home;\\n\\nThe right to adequate medical care and the opportunity to achieve and enjoy good health;\\n\\nThe right to adequate protection from the economic fears of old age, sickness, accident, and unemployment;\\n\\nThe right to a good education.\\n\\nAll of these rights spell security. And after this war is won we must be prepared to move forward, in the implementation of these rights, to new goals of human happiness and well-being.\\n\\nAmerica\\'s own rightful place in the world depends in large part upon how fully these and similar rights have been carried into practice for our citizens. For unless there is security here at home there cannot be lasting peace in the world.\\n\\nOne of the great American industrialists of our day—a man who has rendered yeoman service to his country in this crisis-recently emphasized the grave dangers of \"rightist reaction\" in this Nation. All clear-thinking businessmen share his concern. Indeed, if such reaction should develop—if history were to repeat itself and we were to return to the so-called \"normalcy\" of the 1920\\'s—then it is certain that even though we shall have conquered our enemies on the battlefields abroad, we shall have yielded to the spirit of Fascism here at home.',\n",
       "  'Returning from my journeyings, I must confess to a sense of \"let-down\" when I found many evidences of faulty perspective here in Washington. The faulty perspective consists in overemphasizing lesser problems and thereby underemphasizing the first and greatest problem.\\n\\nThe overwhelming majority of our people have met the demands of this war with magnificent courage and understanding. They have accepted inconveniences; they have accepted hardships; they have accepted tragic sacrifices. And they are ready and eager to make whatever further contributions are needed to win the war as quickly as possible- if only they are given the chance to know what is required of them.\\n\\nHowever, while the majority goes on about its great work without complaint, a noisy minority maintains an uproar of demands for special favors for special groups. There are pests who swarm through the lobbies of the Congress and the cocktail bars of Washington, representing these special groups as opposed to the basic interests of the Nation as a whole. They have come to look upon the war primarily as a chance to make profits for themselves at the expense of their neighbors- profits in money or in terms of political or social preferment.\\n\\nSuch selfish agitation can be highly dangerous in wartime. It creates confusion. It damages morale. It hampers our national effort. It muddies the waters and therefore prolongs the war.\\n\\nIf we analyze American history impartially, we cannot escape the fact that in our past we have not always forgotten individual and selfish and partisan interests in time of war—we have not always been united in purpose and direction. We cannot overlook the serious dissensions and the lack of unity in our war of the Revolution, in our War of 1812, or in our War Between the States, when the survival of the Union itself was at stake.\\n\\nIn the first World War we came closer to national unity than in any previous war. But that war lasted only a year and a half, and increasing signs of disunity began to appear during the final months of the conflict.\\n\\nIn this war, we have been compelled to learn how interdependent upon each other are all groups and sections of the population of America.',\n",
       "  'I ask the Congress to explore the means for implementing this economic bill of rights- for it is definitely the responsibility of the Congress so to do. Many of these problems are already before committees of the Congress in the form of proposed legislation. I shall from time to time communicate with the Congress with respect to these and further proposals. In the event that no adequate program of progress is evolved, I am certain that the Nation will be conscious of the fact.\\n\\nOur fighting men abroad- and their families at home- expect such a program and have the right to insist upon it. It is to their demands that this Government should pay heed rather than to the whining demands of selfish pressure groups who seek to feather their nests while young Americans are dying.\\n\\nThe foreign policy that we have been following—the policy that guided us at Moscow, Cairo, and Teheran—is based on the common sense principle which was best expressed by Benjamin Franklin on July 4, 1776: \"We must all hang together, or assuredly we shall all hang separately.\"\\n\\nI have often said that there are no two fronts for America in this war. There is only one front. There is one line of unity which extends from the hearts of the people at home to the men of our attacking forces in our farthest outposts. When we speak of our total effort, we speak of the factory and the field, and the mine as well as of the battleground -- we speak of the soldier and the civilian, the citizen and his Government.\\n\\nEach and every one of us has a solemn obligation under God to serve this Nation in its most critical hour—to keep this Nation great -- to make this Nation greater in a better world.',\n",
       "  'It does not mean reduction in wages. It does not mean loss of retirement and seniority rights and benefits. It does not mean that any substantial numbers of war workers will be disturbed in their present jobs. Let these facts be wholly clear.\\n\\nExperience in other democratic Nations at war—Britain, Canada, Australia, and New Zealand- has shown that the very existence of national service makes unnecessary the widespread use of compulsory power. National service has proven to be a unifying moral force based on an equal and comprehensive legal obligation of all people in a Nation at war.\\n\\nThere are millions of American men and women who are not in this war at all. It is not because they do not want to be in it. But they want to know where they can best do their share. National service provides that direction. It will be a means by which every man and woman can find that inner satisfaction which comes from making the fullest possible contribution to victory.\\n\\nI know that all civilian war workers will be glad to be able to say many years hence to their grandchildren: \"Yes, I, too, was in service in the great war. I was on duty in an airplane factory, and I helped make hundreds of fighting planes. The Government told me that in doing that I was performing my most useful work in the service of my country.\"\\n\\nIt is argued that we have passed the stage in the war where national service is necessary. But our soldiers and sailors know that this is not true. We are going forward on a long, rough road- and, in all journeys, the last miles are the hardest. And it is for that final effort—for the total defeat of our enemies-that we must mobilize our total resources. The national war program calls for the employment of more people in 1944 than in 1943.\\n\\nIt is my conviction that the American people will welcome this win-the-war measure which is based on the eternally just principle of \"fair for one, fair for all.\"\\n\\nIt will give our people at home the assurance that they are standing four-square behind our soldiers and sailors. And it will give our enemies demoralizing assurance that we mean business -that we, 130,000,000 Americans, are on the march to Rome, Berlin, and Tokyo.\\n\\nI hope that the Congress will recognize that, although this is a political year, national service is an issue which transcends politics. Great power must be used for great purposes.',\n",
       "  'That attitude on the part of anyone—Government or management or labor—can lengthen this war. It can kill American boys.\\n\\nLet us remember the lessons of 1918. In the summer of that year the tide turned in favor of the allies. But this Government did not relax. In fact, our national effort was stepped up. In August, 1918, the draft age limits were broadened from 21-31 to 18-45. The President called for \"force to the utmost,\" and his call was heeded. And in November, only three months later, Germany surrendered.\\n\\nThat is the way to fight and win a war—all out—and not with half-an-eye on the battlefronts abroad and the other eye-and-a-half on personal, selfish, or political interests here at home.\\n\\nTherefore, in order to concentrate all our energies and resources on winning the war, and to maintain a fair and stable economy at home, I recommend that the Congress adopt:\\n\\n(1) A realistic tax law—which will tax all unreasonable profits, both individual and corporate, and reduce the ultimate cost of the war to our sons and daughters. The tax bill now under consideration by the Congress does not begin to meet this test.\\n\\n(2) A continuation of the law for the renegotiation of war contracts—which will prevent exorbitant profits and assure fair prices to the Government. For two long years I have pleaded with the Congress to take undue profits out of war.\\n\\n(3) A cost of food law—which will enable the Government (a) to place a reasonable floor under the prices the farmer may expect for his production; and (b) to place a ceiling on the prices a consumer will have to pay for the food he buys. This should apply to necessities only; and will require public funds to carry out. It will cost in appropriations about one percent of the present annual cost of the war.\\n\\n(4) Early reenactment of. the stabilization statute of October, 1942. This expires June 30, 1944, and if it is not extended well in advance, the country might just as well expect price chaos by summer.\\n\\n(5) A national service law- which, for the duration of the war, will prevent strikes, and, with certain appropriate exceptions, will make available for war production or for any other essential services every able-bodied adult in this Nation.'],\n",
       " 'uris': None,\n",
       " 'data': None}"
      ]
     },
     "execution_count": 10,
     "metadata": {},
     "output_type": "execute_result"
    }
   ],
   "source": [
    "db.get()"
   ]
  },
  {
   "cell_type": "code",
   "execution_count": 11,
   "id": "27b41336",
   "metadata": {},
   "outputs": [
    {
     "data": {
      "text/plain": [
       "{'ids': ['0ce2ef67-7de5-41c2-befc-1ec265310776'],\n",
       " 'embeddings': None,\n",
       " 'metadatas': [{'source': 'some_data/FDR_State_of_Union_1944.txt',\n",
       "   'start_index': -1}],\n",
       " 'documents': ['But there were no secret treaties or political or financial commitments.\\n\\nThe one supreme objective for the future, which we discussed for each Nation individually, and for all the United Nations, can be summed up in one word: Security.\\n\\nAnd that means not only physical security which provides safety from attacks by aggressors. It means also economic security, social security, moral security—in a family of Nations.\\n\\nIn the plain down-to-earth talks that I had with the Generalissimo and Marshal Stalin and Prime Minister Churchill, it was abundantly clear that they are all most deeply interested in the resumption of peaceful progress by their own peoples—progress toward a better life. All our allies want freedom to develop their lands and resources, to build up industry, to increase education and individual opportunity, and to raise standards of living.\\n\\nAll our allies have learned by bitter experience that real development will not be possible if they are to be diverted from their purpose by repeated wars—or even threats of war.\\n\\nChina and Russia are truly united with Britain and America in recognition of this essential fact:\\n\\nThe best interests of each Nation, large and small, demand that all freedom-loving Nations shall join together in a just and durable system of peace. In the present world situation, evidenced by the actions of Germany, Italy, and Japan, unquestioned military control over disturbers of the peace is as necessary among Nations as it is among citizens in a community. And an equally basic essential to peace is a decent standard of living for all individual men and women and children in all Nations. Freedom from fear is eternally linked with freedom from want.\\n\\nThere are people who burrow through our Nation like unseeing moles, and attempt to spread the suspicion that if other Nations are encouraged to raise their standards of living, our own American standard of living must of necessity be depressed.\\n\\nThe fact is the very contrary. It has been shown time and again that if the standard of living of any country goes up, so does its purchasing power- and that such a rise encourages a better standard of living in neighboring countries with whom it trades. That is just plain common sense—and it is the kind of plain common sense that provided the basis for our discussions at Moscow, Cairo, and Teheran.'],\n",
       " 'uris': None,\n",
       " 'data': None}"
      ]
     },
     "execution_count": 11,
     "metadata": {},
     "output_type": "execute_result"
    }
   ],
   "source": [
    "db.get(ids=['0d1794ce-25cc-470e-a433-4b44d5da375b'])\n",
    "# or\n",
    "ids = db.get()['ids']\n",
    "db.get(ids=[ids[0]])"
   ]
  },
  {
   "cell_type": "code",
   "execution_count": 12,
   "id": "d931b271",
   "metadata": {},
   "outputs": [
    {
     "name": "stdout",
     "output_type": "stream",
     "text": [
      "But there were no secret treaties or political or financial commitments.\n",
      "\n",
      "The one supreme objective for the future, which we discussed for each Nation individually, and for all the United Nations, can be summed up in one word: Security.\n",
      "\n",
      "And that means not only physical security which provides safety from attacks by aggressors. It means also economic security, social security, moral security—in a family of Nations.\n",
      "\n",
      "In the plain down-to-earth talks that I had with the Generalissimo and Marshal Stalin and Prime Minister Churchill, it was abundantly clear that they are all most deeply interested in the resumption of peaceful progress by their own peoples—progress toward a better life. All our allies want freedom to develop their lands and resources, to build up industry, to increase education and individual opportunity, and to raise standards of living.\n",
      "\n",
      "All our allies have learned by bitter experience that real development will not be possible if they are to be diverted from their purpose by repeated wars—or even threats of war.\n",
      "\n",
      "China and Russia are truly united with Britain and America in recognition of this essential fact:\n",
      "\n",
      "The best interests of each Nation, large and small, demand that all freedom-loving Nations shall join together in a just and durable system of peace. In the present world situation, evidenced by the actions of Germany, Italy, and Japan, unquestioned military control over disturbers of the peace is as necessary among Nations as it is among citizens in a community. And an equally basic essential to peace is a decent standard of living for all individual men and women and children in all Nations. Freedom from fear is eternally linked with freedom from want.\n",
      "\n",
      "There are people who burrow through our Nation like unseeing moles, and attempt to spread the suspicion that if other Nations are encouraged to raise their standards of living, our own American standard of living must of necessity be depressed.\n",
      "\n",
      "The fact is the very contrary. It has been shown time and again that if the standard of living of any country goes up, so does its purchasing power- and that such a rise encourages a better standard of living in neighboring countries with whom it trades. That is just plain common sense—and it is the kind of plain common sense that provided the basis for our discussions at Moscow, Cairo, and Teheran.\n"
     ]
    }
   ],
   "source": [
    "print(db.get()['documents'][0])"
   ]
  },
  {
   "cell_type": "code",
   "execution_count": 13,
   "id": "0918fd1d",
   "metadata": {},
   "outputs": [],
   "source": [
    "# to delete all documents\n",
    "\n",
    "# ids = db.get()['ids']\n",
    "\n",
    "# db.delete(ids=ids)"
   ]
  },
  {
   "cell_type": "markdown",
   "id": "6b4616d4",
   "metadata": {},
   "source": [
    "\n",
    "\n",
    "<img src=\"https://pixionweb.blob.core.windows.net/web/lib/HNSW_888a78981d.svg\" width=\"1000\" height=\"1000\">"
   ]
  },
  {
   "cell_type": "markdown",
   "id": "40421824-0ec2-44cb-811c-e0bc2454ab89",
   "metadata": {},
   "source": [
    "## Load Embeddings from Disk and do a **Simillairty Search**\n",
    "\n",
    "### 🔹 How Does HNSW Work in ChromaDB?\n",
    "**HNSW (Hierarchical Navigable Small World)** is a **graph-based ANN algorithm**. It constructs a **multi-layered graph**, where:\n",
    "\n",
    "- 🟢 **Nodes** represent vectors (embeddings).\n",
    "- 🔗 **Edges** connect similar vectors (nearest neighbors).\n",
    "- 🚀 **Search** navigates through these connections efficiently instead of scanning all vectors.\n",
    "\n",
    "---\n",
    "\n",
    "### ⚡ Why ChromaDB Uses HNSW\n",
    "✅ **Fast Retrieval:** Search is **O(log N)** instead of **O(N)** (brute force).  \n",
    "✅ **High Accuracy:** Finds nearest neighbors **with ~99% accuracy**.  \n",
    "✅ **Scalability:** Handles **millions of embeddings efficiently**.  \n"
   ]
  },
  {
   "cell_type": "markdown",
   "id": "f25b048b",
   "metadata": {},
   "source": [
    "### 1. Create a new `Chroma` object "
   ]
  },
  {
   "cell_type": "code",
   "execution_count": 15,
   "id": "c9f10f3e",
   "metadata": {},
   "outputs": [],
   "source": [
    "new_doc = \"What did FDR say about the cost of food law?\""
   ]
  },
  {
   "cell_type": "code",
   "execution_count": 16,
   "id": "328c41af",
   "metadata": {},
   "outputs": [
    {
     "data": {
      "text/plain": [
       "[Document(metadata={'source': 'some_data/FDR_State_of_Union_1944.txt', 'start_index': 9094}, page_content='That attitude on the part of anyone—Government or management or labor—can lengthen this war. It can kill American boys.\\n\\nLet us remember the lessons of 1918. In the summer of that year the tide turned in favor of the allies. But this Government did not relax. In fact, our national effort was stepped up. In August, 1918, the draft age limits were broadened from 21-31 to 18-45. The President called for \"force to the utmost,\" and his call was heeded. And in November, only three months later, Germany surrendered.\\n\\nThat is the way to fight and win a war—all out—and not with half-an-eye on the battlefronts abroad and the other eye-and-a-half on personal, selfish, or political interests here at home.\\n\\nTherefore, in order to concentrate all our energies and resources on winning the war, and to maintain a fair and stable economy at home, I recommend that the Congress adopt:\\n\\n(1) A realistic tax law—which will tax all unreasonable profits, both individual and corporate, and reduce the ultimate cost of the war to our sons and daughters. The tax bill now under consideration by the Congress does not begin to meet this test.\\n\\n(2) A continuation of the law for the renegotiation of war contracts—which will prevent exorbitant profits and assure fair prices to the Government. For two long years I have pleaded with the Congress to take undue profits out of war.\\n\\n(3) A cost of food law—which will enable the Government (a) to place a reasonable floor under the prices the farmer may expect for his production; and (b) to place a ceiling on the prices a consumer will have to pay for the food he buys. This should apply to necessities only; and will require public funds to carry out. It will cost in appropriations about one percent of the present annual cost of the war.\\n\\n(4) Early reenactment of. the stabilization statute of October, 1942. This expires June 30, 1944, and if it is not extended well in advance, the country might just as well expect price chaos by summer.\\n\\n(5) A national service law- which, for the duration of the war, will prevent strikes, and, with certain appropriate exceptions, will make available for war production or for any other essential services every able-bodied adult in this Nation.'),\n",
       " Document(metadata={'source': 'some_data/FDR_State_of_Union_1944.txt', 'start_index': -1}, page_content='(5) A national service law- which, for the duration of the war, will prevent strikes, and, with certain appropriate exceptions, will make available for war production or for any other essential services every able-bodied adult in this Nation.\\n\\nThese five measures together form a just and equitable whole. I would not recommend a national service law unless the other laws were passed to keep down the cost of living, to share equitably the burdens of taxation, to hold the stabilization line, and to prevent undue profits.\\n\\nThe Federal Government already has the basic power to draft capital and property of all kinds for war purposes on a basis of just compensation.\\n\\nAs you know, I have for three years hesitated to recommend a national service act. Today, however, I am convinced of its necessity. Although I believe that we and our allies can win the war without such a measure, I am certain that nothing less than total mobilization of all our resources of manpower and capital will guarantee an earlier victory, and reduce the toll of suffering and sorrow and blood.\\n\\nI have received a joint recommendation for this law from the heads of the War Department, the Navy Department, and the Maritime Commission. These are the men who bear responsibility for the procurement of the necessary arms and equipment, and for the successful prosecution of the war in the field. They say:\\n\\n\"When the very life of the Nation is in peril the responsibility for service is common to all men and women. In such a time there can be no discrimination between the men and women who are assigned by the Government to its defense at the battlefront and the men and women assigned to producing the vital materials essential to successful military operations. A prompt enactment of a National Service Law would be merely an expression of the universality of this responsibility.\"\\n\\nI believe the country will agree that those statements are the solemn truth.\\n\\nNational service is the most democratic way to wage a war. Like selective service for the armed forces, it rests on the obligation of each citizen to serve his Nation to his utmost where he is best qualified.\\n\\nIt does not mean reduction in wages. It does not mean loss of retirement and seniority rights and benefits. It does not mean that any substantial numbers of war workers will be disturbed in their present jobs. Let these facts be wholly clear.'),\n",
       " Document(metadata={'source': 'some_data/FDR_State_of_Union_1944.txt', 'start_index': 17837}, page_content='As our Nation has grown in size and stature, however—as our industrial economy expanded—these political rights proved inadequate to assure us equality in the pursuit of happiness.\\n\\nWe have come to a clear realization of the fact that true individual freedom cannot exist without economic security and independence. \"Necessitous men are not free men.\" People who are hungry and out of a job are the stuff of which dictatorships are made.\\n\\nIn our day these economic truths have become accepted as self-evident. We have accepted, so to speak, a second Bill of Rights under which a new basis of security and prosperity can be established for all regardless of station, race, or creed.\\n\\nAmong these are:\\n\\nThe right to a useful and remunerative job in the industries or shops or farms or mines of the Nation;\\n\\nThe right to earn enough to provide adequate food and clothing and recreation;\\n\\nThe right of every farmer to raise and sell his products at a return which will give him and his family a decent living;\\n\\nThe right of every businessman, large and small, to trade in an atmosphere of freedom from unfair competition and domination by monopolies at home or abroad;\\n\\nThe right of every family to a decent home;\\n\\nThe right to adequate medical care and the opportunity to achieve and enjoy good health;\\n\\nThe right to adequate protection from the economic fears of old age, sickness, accident, and unemployment;\\n\\nThe right to a good education.\\n\\nAll of these rights spell security. And after this war is won we must be prepared to move forward, in the implementation of these rights, to new goals of human happiness and well-being.\\n\\nAmerica\\'s own rightful place in the world depends in large part upon how fully these and similar rights have been carried into practice for our citizens. For unless there is security here at home there cannot be lasting peace in the world.\\n\\nOne of the great American industrialists of our day—a man who has rendered yeoman service to his country in this crisis-recently emphasized the grave dangers of \"rightist reaction\" in this Nation. All clear-thinking businessmen share his concern. Indeed, if such reaction should develop—if history were to repeat itself and we were to return to the so-called \"normalcy\" of the 1920\\'s—then it is certain that even though we shall have conquered our enemies on the battlefields abroad, we shall have yielded to the spirit of Fascism here at home.')]"
      ]
     },
     "execution_count": 16,
     "metadata": {},
     "output_type": "execute_result"
    }
   ],
   "source": [
    "simillar_docs = db.similarity_search(new_doc,\n",
    "                                     k=3) # k is the number of retrieved documents\n",
    "\n",
    "simillar_docs"
   ]
  },
  {
   "cell_type": "code",
   "execution_count": 17,
   "id": "b50cf341",
   "metadata": {},
   "outputs": [
    {
     "name": "stdout",
     "output_type": "stream",
     "text": [
      "That attitude on the part of anyone—Government or management or labor—can lengthen this war. It can kill American boys.\n",
      "\n",
      "Let us remember the lessons of 1918. In the summer of that year the tide turned in favor of the allies. But this Government did not relax. In fact, our national effort was stepped up. In August, 1918, the draft age limits were broadened from 21-31 to 18-45. The President called for \"force to the utmost,\" and his call was heeded. And in November, only three months later, Germany surrendered.\n",
      "\n",
      "That is the way to fight and win a war—all out—and not with half-an-eye on the battlefronts abroad and the other eye-and-a-half on personal, selfish, or political interests here at home.\n",
      "\n",
      "Therefore, in order to concentrate all our energies and resources on winning the war, and to maintain a fair and stable economy at home, I recommend that the Congress adopt:\n",
      "\n",
      "(1) A realistic tax law—which will tax all unreasonable profits, both individual and corporate, and reduce the ultimate cost of the war to our sons and daughters. The tax bill now under consideration by the Congress does not begin to meet this test.\n",
      "\n",
      "(2) A continuation of the law for the renegotiation of war contracts—which will prevent exorbitant profits and assure fair prices to the Government. For two long years I have pleaded with the Congress to take undue profits out of war.\n",
      "\n",
      "(3) A cost of food law—which will enable the Government (a) to place a reasonable floor under the prices the farmer may expect for his production; and (b) to place a ceiling on the prices a consumer will have to pay for the food he buys. This should apply to necessities only; and will require public funds to carry out. It will cost in appropriations about one percent of the present annual cost of the war.\n",
      "\n",
      "(4) Early reenactment of. the stabilization statute of October, 1942. This expires June 30, 1944, and if it is not extended well in advance, the country might just as well expect price chaos by summer.\n",
      "\n",
      "(5) A national service law- which, for the duration of the war, will prevent strikes, and, with certain appropriate exceptions, will make available for war production or for any other essential services every able-bodied adult in this Nation.\n"
     ]
    }
   ],
   "source": [
    "print(simillar_docs[0].page_content)"
   ]
  },
  {
   "cell_type": "code",
   "execution_count": 18,
   "id": "6c614469",
   "metadata": {},
   "outputs": [
    {
     "data": {
      "text/plain": [
       "[(Document(metadata={'source': 'some_data/FDR_State_of_Union_1944.txt', 'start_index': 9094}, page_content='That attitude on the part of anyone—Government or management or labor—can lengthen this war. It can kill American boys.\\n\\nLet us remember the lessons of 1918. In the summer of that year the tide turned in favor of the allies. But this Government did not relax. In fact, our national effort was stepped up. In August, 1918, the draft age limits were broadened from 21-31 to 18-45. The President called for \"force to the utmost,\" and his call was heeded. And in November, only three months later, Germany surrendered.\\n\\nThat is the way to fight and win a war—all out—and not with half-an-eye on the battlefronts abroad and the other eye-and-a-half on personal, selfish, or political interests here at home.\\n\\nTherefore, in order to concentrate all our energies and resources on winning the war, and to maintain a fair and stable economy at home, I recommend that the Congress adopt:\\n\\n(1) A realistic tax law—which will tax all unreasonable profits, both individual and corporate, and reduce the ultimate cost of the war to our sons and daughters. The tax bill now under consideration by the Congress does not begin to meet this test.\\n\\n(2) A continuation of the law for the renegotiation of war contracts—which will prevent exorbitant profits and assure fair prices to the Government. For two long years I have pleaded with the Congress to take undue profits out of war.\\n\\n(3) A cost of food law—which will enable the Government (a) to place a reasonable floor under the prices the farmer may expect for his production; and (b) to place a ceiling on the prices a consumer will have to pay for the food he buys. This should apply to necessities only; and will require public funds to carry out. It will cost in appropriations about one percent of the present annual cost of the war.\\n\\n(4) Early reenactment of. the stabilization statute of October, 1942. This expires June 30, 1944, and if it is not extended well in advance, the country might just as well expect price chaos by summer.\\n\\n(5) A national service law- which, for the duration of the war, will prevent strikes, and, with certain appropriate exceptions, will make available for war production or for any other essential services every able-bodied adult in this Nation.'),\n",
       "  1.1046351802201249),\n",
       " (Document(metadata={'source': 'some_data/FDR_State_of_Union_1944.txt', 'start_index': -1}, page_content='(5) A national service law- which, for the duration of the war, will prevent strikes, and, with certain appropriate exceptions, will make available for war production or for any other essential services every able-bodied adult in this Nation.\\n\\nThese five measures together form a just and equitable whole. I would not recommend a national service law unless the other laws were passed to keep down the cost of living, to share equitably the burdens of taxation, to hold the stabilization line, and to prevent undue profits.\\n\\nThe Federal Government already has the basic power to draft capital and property of all kinds for war purposes on a basis of just compensation.\\n\\nAs you know, I have for three years hesitated to recommend a national service act. Today, however, I am convinced of its necessity. Although I believe that we and our allies can win the war without such a measure, I am certain that nothing less than total mobilization of all our resources of manpower and capital will guarantee an earlier victory, and reduce the toll of suffering and sorrow and blood.\\n\\nI have received a joint recommendation for this law from the heads of the War Department, the Navy Department, and the Maritime Commission. These are the men who bear responsibility for the procurement of the necessary arms and equipment, and for the successful prosecution of the war in the field. They say:\\n\\n\"When the very life of the Nation is in peril the responsibility for service is common to all men and women. In such a time there can be no discrimination between the men and women who are assigned by the Government to its defense at the battlefront and the men and women assigned to producing the vital materials essential to successful military operations. A prompt enactment of a National Service Law would be merely an expression of the universality of this responsibility.\"\\n\\nI believe the country will agree that those statements are the solemn truth.\\n\\nNational service is the most democratic way to wage a war. Like selective service for the armed forces, it rests on the obligation of each citizen to serve his Nation to his utmost where he is best qualified.\\n\\nIt does not mean reduction in wages. It does not mean loss of retirement and seniority rights and benefits. It does not mean that any substantial numbers of war workers will be disturbed in their present jobs. Let these facts be wholly clear.'),\n",
       "  1.2215508725891544),\n",
       " (Document(metadata={'source': 'some_data/FDR_State_of_Union_1944.txt', 'start_index': 17837}, page_content='As our Nation has grown in size and stature, however—as our industrial economy expanded—these political rights proved inadequate to assure us equality in the pursuit of happiness.\\n\\nWe have come to a clear realization of the fact that true individual freedom cannot exist without economic security and independence. \"Necessitous men are not free men.\" People who are hungry and out of a job are the stuff of which dictatorships are made.\\n\\nIn our day these economic truths have become accepted as self-evident. We have accepted, so to speak, a second Bill of Rights under which a new basis of security and prosperity can be established for all regardless of station, race, or creed.\\n\\nAmong these are:\\n\\nThe right to a useful and remunerative job in the industries or shops or farms or mines of the Nation;\\n\\nThe right to earn enough to provide adequate food and clothing and recreation;\\n\\nThe right of every farmer to raise and sell his products at a return which will give him and his family a decent living;\\n\\nThe right of every businessman, large and small, to trade in an atmosphere of freedom from unfair competition and domination by monopolies at home or abroad;\\n\\nThe right of every family to a decent home;\\n\\nThe right to adequate medical care and the opportunity to achieve and enjoy good health;\\n\\nThe right to adequate protection from the economic fears of old age, sickness, accident, and unemployment;\\n\\nThe right to a good education.\\n\\nAll of these rights spell security. And after this war is won we must be prepared to move forward, in the implementation of these rights, to new goals of human happiness and well-being.\\n\\nAmerica\\'s own rightful place in the world depends in large part upon how fully these and similar rights have been carried into practice for our citizens. For unless there is security here at home there cannot be lasting peace in the world.\\n\\nOne of the great American industrialists of our day—a man who has rendered yeoman service to his country in this crisis-recently emphasized the grave dangers of \"rightist reaction\" in this Nation. All clear-thinking businessmen share his concern. Indeed, if such reaction should develop—if history were to repeat itself and we were to return to the so-called \"normalcy\" of the 1920\\'s—then it is certain that even though we shall have conquered our enemies on the battlefields abroad, we shall have yielded to the spirit of Fascism here at home.'),\n",
       "  1.2296928247304022)]"
      ]
     },
     "execution_count": 18,
     "metadata": {},
     "output_type": "execute_result"
    }
   ],
   "source": [
    "simillar_docs = db.similarity_search_with_score(new_doc,\n",
    "                                                k=3) # k is the number of retrieved documents\n",
    "\n",
    "simillar_docs"
   ]
  },
  {
   "cell_type": "markdown",
   "id": "818ea596",
   "metadata": {},
   "source": [
    "## **🔹 Distance Metrics in Vector Search**\n",
    "ChromaDB supports different **distance metrics** to measure similarity between vectors.\n",
    "\n",
    "| **Distance**          | **Parameter** | **Equation** |\n",
    "|----------------------|-------------|-------------|\n",
    "| **Squared L2**      | `l2`        | $$ d = \\sum (A_i - B_i)^2 $$ |\n",
    "| **Inner Product**   | `ip`        | $$ d = 1.0 - \\sum (A_i \\times B_i) $$ |\n",
    "| **Cosine Similarity** | `cosine`   | $$ d = 1.0 - \\frac{\\sum (A_i \\times B_i)}{\\sqrt{\\sum (A_i^2)} \\times \\sqrt{\\sum (B_i^2)}} $$ |\n",
    "\n",
    "🔹 **Choosing the Right Metric:**\n",
    "- **L2 Distance (`l2`)** → Best for **Euclidean distance-based similarity**.\n",
    "- **Inner Product (`ip`)** → Used when **vectors are normalized**, good for **dot-product-based similarity**.\n",
    "- **Cosine Similarity (`cosine`)** → Measures **directional similarity**, independent of magnitude.\n",
    "\n",
    "---\n",
    "\n",
    "## **🔹 HNSW Parameters in ChromaDB**\n",
    "ChromaDB uses **HNSW (Hierarchical Navigable Small World)** for efficient Approximate Nearest Neighbor (ANN) search. Two key parameters control its performance:\n",
    "\n",
    "### **1️⃣ `hnsw:construction_ef` (Indexing Parameter)**\n",
    "✅ Determines **the size of the candidate list** used to **select neighbors during index creation**.  \n",
    "✅ **Higher values → More accurate index but slower & memory-intensive.**  \n",
    "✅ **Lower values → Faster construction but reduced accuracy.**  \n",
    "\n",
    "🔹 **Default Value:** `100`  \n",
    "\n",
    "---\n",
    "\n",
    "### **2️⃣ `hnsw:search_ef` (Search Parameter)**\n",
    "✅ Determines **the size of the dynamic candidate list** when searching for **nearest neighbors**.  \n",
    "✅ **Higher values → Better recall & accuracy but slower query time.**  \n",
    "✅ **Lower values → Faster search but reduced accuracy.**  \n",
    "\n",
    "🔹 **Default Value:** `100`  \n",
    "\n",
    "---\n",
    "\n",
    "## **🚀 Distance Metrics & HNSW Parameters**\n",
    "| **Feature** | **Purpose** | **Effect** |\n",
    "|------------|------------|------------|\n",
    "| **L2 Distance (`l2`)** | Measures squared Euclidean distance | Good for general vector similarity |\n",
    "| **Inner Product (`ip`)** | Computes dot product similarity | Best for normalized vectors |\n",
    "| **Cosine Similarity (`cosine`)** | Measures directional similarity | Best for NLP and text embeddings |\n",
    "| **`hnsw:construction_ef`** | Controls indexing accuracy | Higher = More memory, better quality |\n",
    "| **`hnsw:search_ef`** | Controls search recall & accuracy | Higher = More accurate but slower |\n",
    "\n",
    "📌 **Tuning HNSW parameters helps balance speed, accuracy, and memory efficiency for optimal vector search in ChromaDB!** 🚀😊\n",
    "\n",
    "- https://docs.trychroma.com/docs/collections/configure\n"
   ]
  },
  {
   "cell_type": "code",
   "execution_count": 19,
   "id": "5e7c418c",
   "metadata": {},
   "outputs": [
    {
     "name": "stdout",
     "output_type": "stream",
     "text": [
      "{'hnsw:space': 'cosine', 'hnsw:search_ef': 100}\n"
     ]
    },
    {
     "data": {
      "text/plain": [
       "<langchain_chroma.vectorstores.Chroma at 0x24ba43dba90>"
      ]
     },
     "execution_count": 19,
     "metadata": {},
     "output_type": "execute_result"
    }
   ],
   "source": [
    "from langchain_chroma import Chroma\n",
    "\n",
    "vector_store = Chroma(\n",
    "    embedding_function=embedding_function,\n",
    "    persist_directory=\"./FDR_State_of_Union_Embeddings_cosine\",  # Where to save data locally, remove if not necessary\n",
    "    collection_metadata={\n",
    "        \"hnsw:space\": \"cosine\", # cosine, ip or l2\n",
    "        \"hnsw:search_ef\": 100\n",
    "    }\n",
    ")\n",
    "\n",
    "\n",
    "print(vector_store._collection.metadata)\n",
    "\n",
    "vector_store.from_documents(splitted_docs, \n",
    "                           embedding_function, \n",
    "                           persist_directory='./FDR_State_of_Union_Embeddings_cosine')"
   ]
  },
  {
   "cell_type": "code",
   "execution_count": 21,
   "id": "aee48ab2",
   "metadata": {},
   "outputs": [
    {
     "data": {
      "text/plain": [
       "10"
      ]
     },
     "execution_count": 21,
     "metadata": {},
     "output_type": "execute_result"
    }
   ],
   "source": [
    "len(vector_store.get()['ids'])"
   ]
  },
  {
   "cell_type": "code",
   "execution_count": 22,
   "id": "267915f4",
   "metadata": {},
   "outputs": [
    {
     "data": {
      "text/plain": [
       "[(Document(metadata={'source': 'some_data/FDR_State_of_Union_1944.txt', 'start_index': 9094}, page_content='That attitude on the part of anyone—Government or management or labor—can lengthen this war. It can kill American boys.\\n\\nLet us remember the lessons of 1918. In the summer of that year the tide turned in favor of the allies. But this Government did not relax. In fact, our national effort was stepped up. In August, 1918, the draft age limits were broadened from 21-31 to 18-45. The President called for \"force to the utmost,\" and his call was heeded. And in November, only three months later, Germany surrendered.\\n\\nThat is the way to fight and win a war—all out—and not with half-an-eye on the battlefronts abroad and the other eye-and-a-half on personal, selfish, or political interests here at home.\\n\\nTherefore, in order to concentrate all our energies and resources on winning the war, and to maintain a fair and stable economy at home, I recommend that the Congress adopt:\\n\\n(1) A realistic tax law—which will tax all unreasonable profits, both individual and corporate, and reduce the ultimate cost of the war to our sons and daughters. The tax bill now under consideration by the Congress does not begin to meet this test.\\n\\n(2) A continuation of the law for the renegotiation of war contracts—which will prevent exorbitant profits and assure fair prices to the Government. For two long years I have pleaded with the Congress to take undue profits out of war.\\n\\n(3) A cost of food law—which will enable the Government (a) to place a reasonable floor under the prices the farmer may expect for his production; and (b) to place a ceiling on the prices a consumer will have to pay for the food he buys. This should apply to necessities only; and will require public funds to carry out. It will cost in appropriations about one percent of the present annual cost of the war.\\n\\n(4) Early reenactment of. the stabilization statute of October, 1942. This expires June 30, 1944, and if it is not extended well in advance, the country might just as well expect price chaos by summer.\\n\\n(5) A national service law- which, for the duration of the war, will prevent strikes, and, with certain appropriate exceptions, will make available for war production or for any other essential services every able-bodied adult in this Nation.'),\n",
       "  0.5523175901100625),\n",
       " (Document(metadata={'source': 'some_data/FDR_State_of_Union_1944.txt', 'start_index': -1}, page_content='(5) A national service law- which, for the duration of the war, will prevent strikes, and, with certain appropriate exceptions, will make available for war production or for any other essential services every able-bodied adult in this Nation.\\n\\nThese five measures together form a just and equitable whole. I would not recommend a national service law unless the other laws were passed to keep down the cost of living, to share equitably the burdens of taxation, to hold the stabilization line, and to prevent undue profits.\\n\\nThe Federal Government already has the basic power to draft capital and property of all kinds for war purposes on a basis of just compensation.\\n\\nAs you know, I have for three years hesitated to recommend a national service act. Today, however, I am convinced of its necessity. Although I believe that we and our allies can win the war without such a measure, I am certain that nothing less than total mobilization of all our resources of manpower and capital will guarantee an earlier victory, and reduce the toll of suffering and sorrow and blood.\\n\\nI have received a joint recommendation for this law from the heads of the War Department, the Navy Department, and the Maritime Commission. These are the men who bear responsibility for the procurement of the necessary arms and equipment, and for the successful prosecution of the war in the field. They say:\\n\\n\"When the very life of the Nation is in peril the responsibility for service is common to all men and women. In such a time there can be no discrimination between the men and women who are assigned by the Government to its defense at the battlefront and the men and women assigned to producing the vital materials essential to successful military operations. A prompt enactment of a National Service Law would be merely an expression of the universality of this responsibility.\"\\n\\nI believe the country will agree that those statements are the solemn truth.\\n\\nNational service is the most democratic way to wage a war. Like selective service for the armed forces, it rests on the obligation of each citizen to serve his Nation to his utmost where he is best qualified.\\n\\nIt does not mean reduction in wages. It does not mean loss of retirement and seniority rights and benefits. It does not mean that any substantial numbers of war workers will be disturbed in their present jobs. Let these facts be wholly clear.'),\n",
       "  0.6107754362945772),\n",
       " (Document(metadata={'source': 'some_data/FDR_State_of_Union_1944.txt', 'start_index': 17837}, page_content='As our Nation has grown in size and stature, however—as our industrial economy expanded—these political rights proved inadequate to assure us equality in the pursuit of happiness.\\n\\nWe have come to a clear realization of the fact that true individual freedom cannot exist without economic security and independence. \"Necessitous men are not free men.\" People who are hungry and out of a job are the stuff of which dictatorships are made.\\n\\nIn our day these economic truths have become accepted as self-evident. We have accepted, so to speak, a second Bill of Rights under which a new basis of security and prosperity can be established for all regardless of station, race, or creed.\\n\\nAmong these are:\\n\\nThe right to a useful and remunerative job in the industries or shops or farms or mines of the Nation;\\n\\nThe right to earn enough to provide adequate food and clothing and recreation;\\n\\nThe right of every farmer to raise and sell his products at a return which will give him and his family a decent living;\\n\\nThe right of every businessman, large and small, to trade in an atmosphere of freedom from unfair competition and domination by monopolies at home or abroad;\\n\\nThe right of every family to a decent home;\\n\\nThe right to adequate medical care and the opportunity to achieve and enjoy good health;\\n\\nThe right to adequate protection from the economic fears of old age, sickness, accident, and unemployment;\\n\\nThe right to a good education.\\n\\nAll of these rights spell security. And after this war is won we must be prepared to move forward, in the implementation of these rights, to new goals of human happiness and well-being.\\n\\nAmerica\\'s own rightful place in the world depends in large part upon how fully these and similar rights have been carried into practice for our citizens. For unless there is security here at home there cannot be lasting peace in the world.\\n\\nOne of the great American industrialists of our day—a man who has rendered yeoman service to his country in this crisis-recently emphasized the grave dangers of \"rightist reaction\" in this Nation. All clear-thinking businessmen share his concern. Indeed, if such reaction should develop—if history were to repeat itself and we were to return to the so-called \"normalcy\" of the 1920\\'s—then it is certain that even though we shall have conquered our enemies on the battlefields abroad, we shall have yielded to the spirit of Fascism here at home.'),\n",
       "  0.6148362103293425)]"
      ]
     },
     "execution_count": 22,
     "metadata": {},
     "output_type": "execute_result"
    }
   ],
   "source": [
    "new_doc = \"What did FDR say about the cost of food law?\"\n",
    "\n",
    "simillar_docs = vector_store.similarity_search_with_score(new_doc,\n",
    "                                                           k=3) # k is the number of retrieved documents\n",
    "\n",
    "simillar_docs"
   ]
  },
  {
   "cell_type": "code",
   "execution_count": null,
   "id": "7321c48e",
   "metadata": {},
   "outputs": [],
   "source": [
    "# # to delete all documents\n",
    "\n",
    "# ids = vector_store.get()['ids']\n",
    "\n",
    "# vector_store.delete(ids=ids)"
   ]
  },
  {
   "cell_type": "code",
   "execution_count": 23,
   "id": "96331f42",
   "metadata": {},
   "outputs": [
    {
     "data": {
      "text/plain": [
       "[(Document(metadata={'source': 'some_data/FDR_State_of_Union_1944.txt', 'start_index': 0}, page_content='This Nation in the past two years has become an active partner in the world\\'s greatest war against human slavery.\\n\\nWe have joined with like-minded people in order to defend ourselves in a world that has been gravely threatened with gangster rule.\\n\\nBut I do not think that any of us Americans can be content with mere survival. Sacrifices that we and our allies are making impose upon us all a sacred obligation to see to it that out of this war we and our children will gain something better than mere survival.\\n\\nWe are united in determination that this war shall not be followed by another interim which leads to new disaster- that we shall not repeat the tragic errors of ostrich isolationism—that we shall not repeat the excesses of the wild twenties when this Nation went for a joy ride on a roller coaster which ended in a tragic crash.\\n\\nWhen Mr. Hull went to Moscow in October, and when I went to Cairo and Teheran in November, we knew that we were in agreement with our allies in our common determination to fight and win this war. But there were many vital questions concerning the future peace, and they were discussed in an atmosphere of complete candor and harmony.\\n\\nIn the last war such discussions, such meetings, did not even begin until the shooting had stopped and the delegates began to assemble at the peace table. There had been no previous opportunities for man-to-man discussions which lead to meetings of minds. The result was a peace which was not a peace. That was a mistake which we are not repeating in this war.\\n\\nAnd right here I want to address a word or two to some suspicious souls who are fearful that Mr. Hull or I have made \"commitments\" for the future which might pledge this Nation to secret treaties, or to enacting the role of Santa Claus.\\n\\nTo such suspicious souls—using a polite terminology—I wish to say that Mr. Churchill, and Marshal Stalin, and Generalissimo Chiang Kai-shek are all thoroughly conversant with the provisions of our Constitution. And so is Mr. Hull. And so am I.\\n\\nOf course we made some commitments. We most certainly committed ourselves to very large and very specific military plans which require the use of all Allied forces to bring about the defeat of our enemies at the earliest possible time.\\n\\nBut there were no secret treaties or political or financial commitments.'),\n",
       "  0.8891910373948477),\n",
       " (Document(metadata={'source': 'some_data/FDR_State_of_Union_1944.txt', 'start_index': 13226}, page_content='It does not mean reduction in wages. It does not mean loss of retirement and seniority rights and benefits. It does not mean that any substantial numbers of war workers will be disturbed in their present jobs. Let these facts be wholly clear.\\n\\nExperience in other democratic Nations at war—Britain, Canada, Australia, and New Zealand- has shown that the very existence of national service makes unnecessary the widespread use of compulsory power. National service has proven to be a unifying moral force based on an equal and comprehensive legal obligation of all people in a Nation at war.\\n\\nThere are millions of American men and women who are not in this war at all. It is not because they do not want to be in it. But they want to know where they can best do their share. National service provides that direction. It will be a means by which every man and woman can find that inner satisfaction which comes from making the fullest possible contribution to victory.\\n\\nI know that all civilian war workers will be glad to be able to say many years hence to their grandchildren: \"Yes, I, too, was in service in the great war. I was on duty in an airplane factory, and I helped make hundreds of fighting planes. The Government told me that in doing that I was performing my most useful work in the service of my country.\"\\n\\nIt is argued that we have passed the stage in the war where national service is necessary. But our soldiers and sailors know that this is not true. We are going forward on a long, rough road- and, in all journeys, the last miles are the hardest. And it is for that final effort—for the total defeat of our enemies-that we must mobilize our total resources. The national war program calls for the employment of more people in 1944 than in 1943.\\n\\nIt is my conviction that the American people will welcome this win-the-war measure which is based on the eternally just principle of \"fair for one, fair for all.\"\\n\\nIt will give our people at home the assurance that they are standing four-square behind our soldiers and sailors. And it will give our enemies demoralizing assurance that we mean business -that we, 130,000,000 Americans, are on the march to Rome, Berlin, and Tokyo.\\n\\nI hope that the Congress will recognize that, although this is a political year, national service is an issue which transcends politics. Great power must be used for great purposes.'),\n",
       "  0.9258081365870814),\n",
       " (Document(metadata={'source': 'some_data/FDR_State_of_Union_1944.txt', 'start_index': -1}, page_content=\"I hope that the Congress will recognize that, although this is a political year, national service is an issue which transcends politics. Great power must be used for great purposes.\\n\\nAs to the machinery for this measure, the Congress itself should determine its nature—but it should be wholly nonpartisan in its make-up.\\n\\nOur armed forces are valiantly fulfilling their responsibilities to our country and our people. Now the Congress faces the responsibility for taking those measures which are essential to national security in this the most decisive phase of the Nation's greatest war.\\n\\nSeveral alleged reasons have prevented the enactment of legislation which would preserve for our soldiers and sailors and marines the fundamental prerogative of citizenship—the right to vote. No amount of legalistic argument can becloud this issue in the eyes of these ten million American citizens. Surely the signers of the Constitution did not intend a document which, even in wartime, would be construed to take away the franchise of any of those who are fighting to preserve the Constitution itself.\\n\\nOur soldiers and sailors and marines know that the overwhelming majority of them will be deprived of the opportunity to vote, if the voting machinery is left exclusively to the States under existing State laws—and that there is no likelihood of these laws being changed in time to enable them to vote at the next election. The Army and Navy have reported that it will be impossible effectively to administer forty-eight different soldier voting laws. It is the duty of the Congress to remove this unjustifiable discrimination against the men and women in our armed forces- and to do it as quickly as possible.\\n\\nIt is our duty now to begin to lay the plans and determine the strategy for the winning of a lasting peace and the establishment of an American standard of living higher than ever before known. We cannot be content, no matter how high that general standard of living may be, if some fraction of our people—whether it be one-third or one-fifth or one-tenth- is ill-fed, ill-clothed, ill housed, and insecure.\\n\\nThis Republic had its beginning, and grew to its present strength, under the protection of certain inalienable political rights—among them the right of free speech, free press, free worship, trial by jury, freedom from unreasonable searches and seizures. They were our rights to life and liberty.\"),\n",
       "  0.9407583462937213)]"
      ]
     },
     "execution_count": 23,
     "metadata": {},
     "output_type": "execute_result"
    }
   ],
   "source": [
    "new_doc = \"AI super hero in Marevl universe\"\n",
    "\n",
    "simillar_docs = vector_store.similarity_search_with_score(new_doc,\n",
    "                                                           k=3) # k is the number of retrieved documents\n",
    "\n",
    "simillar_docs"
   ]
  },
  {
   "cell_type": "markdown",
   "id": "ae94fb56",
   "metadata": {},
   "source": [
    "### Adding more documents"
   ]
  },
  {
   "cell_type": "code",
   "execution_count": 24,
   "id": "dac1cfcd",
   "metadata": {},
   "outputs": [
    {
     "data": {
      "text/plain": [
       "[Document(metadata={'source': 'some_data/marvel_superheroes.pdf', 'page': 0}, page_content='Spider-Man\\nSpider-Man, also known as Peter Parker, is one of Marvel\\'s most iconic superheroes. Created by\\nwriter Stan Lee and artist Steve Ditko, he first appeared in Amazing Fantasy #15 in 1962. As a\\nteenager, Peter Parker was bitten by a radioactive spider, which granted him extraordinary powers,\\nincluding superhuman strength, agility, the ability to cling to walls, and a \"spider-sense\" that warns\\nhim of impending danger.\\nDespite his incredible abilities, Peter\\'s life is fraught with hardship. After the tragic murder of his\\nUncle Ben, Peter learns a valuable lesson: \"With great power comes great responsibility.\" This\\nphilosophy shapes his journey as he fights crime and protects the citizens of New York City from\\nnotorious villains like the Green Goblin, Doctor Octopus, and Venom. \\nAs Spider-Man, Peter has been a key member of teams like the Avengers and the Fantastic Four.'),\n",
       " Document(metadata={'source': 'some_data/marvel_superheroes.pdf', 'page': 0}, page_content=\"notorious villains like the Green Goblin, Doctor Octopus, and Venom. \\nAs Spider-Man, Peter has been a key member of teams like the Avengers and the Fantastic Four.\\nHe has worn various suits, from the classic red and blue costume to advanced versions like the Iron\\nSpider suit designed by Tony Stark. Over the years, he has faced significant personal challenges,\\nincluding losing loved ones and struggling to balance his superhero duties with his normal life.\\nSpider-Man's enduring popularity stems from his relatability. Unlike other superheroes who are\\nbillionaires or gods, Peter Parker is a regular person dealing with everyday struggles, making him\\none of the most beloved characters in comic book history. His legacy has continued in numerous\\nmovies, animated series, and video games, cementing his place as a cultural icon.\"),\n",
       " Document(metadata={'source': 'some_data/marvel_superheroes.pdf', 'page': 1}, page_content=\"Iron Man\\nIron Man, aka Tony Stark, is the genius billionaire playboy philanthropist behind the advanced Iron\\nMan suit. First appearing in Tales of Suspense #39 in 1963, he was created by Stan Lee, Larry\\nLieber, Don Heck, and Jack Kirby. Tony Stark is a brilliant inventor and CEO of Stark Industries,\\nspecializing in cutting-edge technology and weaponry.\\nAfter being captured by terrorists and critically wounded, Stark builds the first Iron Man suit to\\nescape captivity. This experience transforms him, leading him to shut down his company's weapons\\ndivision and focus on using his technology for good. He continually refines his Iron Man armor,\\ncreating versions with increased firepower, flight capabilities, and artificial intelligence integration\\nthrough his AI assistant J.A.R.V.I.S.\\nIron Man plays a pivotal role in forming the Avengers and becomes one of the most influential\"),\n",
       " Document(metadata={'source': 'some_data/marvel_superheroes.pdf', 'page': 1}, page_content=\"creating versions with increased firepower, flight capabilities, and artificial intelligence integration\\nthrough his AI assistant J.A.R.V.I.S.\\nIron Man plays a pivotal role in forming the Avengers and becomes one of the most influential\\nheroes in the Marvel Universe. His charisma, intelligence, and moral dilemmas make him an\\nintriguing character. Despite his arrogance, Tony Stark is driven by a desire to protect the world,\\nculminating in his ultimate sacrifice in Avengers: Endgame, where he uses the Infinity Gauntlet to\\ndefeat Thanos.\\nBeyond the comics, Iron Man's cinematic portrayal by Robert Downey Jr. in the Marvel Cinematic\\nUniverse (MCU) redefined the character, making him a global phenomenon. His journey from an\\negotistical billionaire to a selfless hero remains one of Marvel?s most compelling arcs.\")]"
      ]
     },
     "execution_count": 24,
     "metadata": {},
     "output_type": "execute_result"
    }
   ],
   "source": [
    "from langchain_community.document_loaders import PyPDFLoader\n",
    "from langchain.text_splitter import RecursiveCharacterTextSplitter\n",
    "\n",
    "\n",
    "loader = PyPDFLoader('some_data/marvel_superheroes.pdf')\n",
    "\n",
    "\n",
    "# Use a text splitter to break large text into smaller chunks\n",
    "text_splitter = RecursiveCharacterTextSplitter.from_tiktoken_encoder(encoding_name=\"cl100k_base\", \n",
    "                                                                     chunk_size=200,\n",
    "                                                                     chunk_overlap=50)\n",
    "\n",
    "\n",
    "marvel_pages = loader.load_and_split(text_splitter)\n",
    "marvel_pages"
   ]
  },
  {
   "cell_type": "code",
   "execution_count": 25,
   "id": "c19828f3",
   "metadata": {},
   "outputs": [
    {
     "data": {
      "text/plain": [
       "10"
      ]
     },
     "execution_count": 25,
     "metadata": {},
     "output_type": "execute_result"
    }
   ],
   "source": [
    "len(vector_store.get()['ids'])"
   ]
  },
  {
   "cell_type": "code",
   "execution_count": 26,
   "id": "b7e1ec3c",
   "metadata": {},
   "outputs": [
    {
     "data": {
      "text/plain": [
       "['c21344fb-c212-42cc-8d3b-4eb358e21274',\n",
       " '71bb96ce-7ee1-4dc1-941b-64110eb5021e',\n",
       " 'fc6206f8-d93c-471e-b3ec-49cd49f91b12',\n",
       " '7d7bad24-7207-4979-9d3d-780abf686649']"
      ]
     },
     "execution_count": 26,
     "metadata": {},
     "output_type": "execute_result"
    }
   ],
   "source": [
    "from uuid import uuid4\n",
    "\n",
    "\n",
    "uuids = [str(uuid4()) for _ in range(len(marvel_pages))]\n",
    "vector_store.add_documents(documents=marvel_pages, ids=uuids)"
   ]
  },
  {
   "cell_type": "code",
   "execution_count": 28,
   "id": "97c3f1ed",
   "metadata": {},
   "outputs": [
    {
     "data": {
      "text/plain": [
       "14"
      ]
     },
     "execution_count": 28,
     "metadata": {},
     "output_type": "execute_result"
    }
   ],
   "source": [
    "len(vector_store.get()['ids'])"
   ]
  },
  {
   "cell_type": "code",
   "execution_count": 29,
   "id": "7b74fb3b",
   "metadata": {},
   "outputs": [
    {
     "data": {
      "text/plain": [
       "[(Document(metadata={'page': 1, 'source': 'some_data/marvel_superheroes.pdf'}, page_content=\"creating versions with increased firepower, flight capabilities, and artificial intelligence integration\\nthrough his AI assistant J.A.R.V.I.S.\\nIron Man plays a pivotal role in forming the Avengers and becomes one of the most influential\\nheroes in the Marvel Universe. His charisma, intelligence, and moral dilemmas make him an\\nintriguing character. Despite his arrogance, Tony Stark is driven by a desire to protect the world,\\nculminating in his ultimate sacrifice in Avengers: Endgame, where he uses the Infinity Gauntlet to\\ndefeat Thanos.\\nBeyond the comics, Iron Man's cinematic portrayal by Robert Downey Jr. in the Marvel Cinematic\\nUniverse (MCU) redefined the character, making him a global phenomenon. His journey from an\\negotistical billionaire to a selfless hero remains one of Marvel?s most compelling arcs.\"),\n",
       "  0.5719774081635858),\n",
       " (Document(metadata={'page': 1, 'source': 'some_data/marvel_superheroes.pdf'}, page_content=\"Iron Man\\nIron Man, aka Tony Stark, is the genius billionaire playboy philanthropist behind the advanced Iron\\nMan suit. First appearing in Tales of Suspense #39 in 1963, he was created by Stan Lee, Larry\\nLieber, Don Heck, and Jack Kirby. Tony Stark is a brilliant inventor and CEO of Stark Industries,\\nspecializing in cutting-edge technology and weaponry.\\nAfter being captured by terrorists and critically wounded, Stark builds the first Iron Man suit to\\nescape captivity. This experience transforms him, leading him to shut down his company's weapons\\ndivision and focus on using his technology for good. He continually refines his Iron Man armor,\\ncreating versions with increased firepower, flight capabilities, and artificial intelligence integration\\nthrough his AI assistant J.A.R.V.I.S.\\nIron Man plays a pivotal role in forming the Avengers and becomes one of the most influential\"),\n",
       "  0.6079414459792081),\n",
       " (Document(metadata={'page': 0, 'source': 'some_data/marvel_superheroes.pdf'}, page_content='Spider-Man\\nSpider-Man, also known as Peter Parker, is one of Marvel\\'s most iconic superheroes. Created by\\nwriter Stan Lee and artist Steve Ditko, he first appeared in Amazing Fantasy #15 in 1962. As a\\nteenager, Peter Parker was bitten by a radioactive spider, which granted him extraordinary powers,\\nincluding superhuman strength, agility, the ability to cling to walls, and a \"spider-sense\" that warns\\nhim of impending danger.\\nDespite his incredible abilities, Peter\\'s life is fraught with hardship. After the tragic murder of his\\nUncle Ben, Peter learns a valuable lesson: \"With great power comes great responsibility.\" This\\nphilosophy shapes his journey as he fights crime and protects the citizens of New York City from\\nnotorious villains like the Green Goblin, Doctor Octopus, and Venom. \\nAs Spider-Man, Peter has been a key member of teams like the Avengers and the Fantastic Four.'),\n",
       "  0.6741309356223614)]"
      ]
     },
     "execution_count": 29,
     "metadata": {},
     "output_type": "execute_result"
    }
   ],
   "source": [
    "new_doc = \"AI super hero in Marevl universe\"\n",
    "\n",
    "simillar_docs = vector_store.similarity_search_with_score(new_doc,\n",
    "                                                           k=3) # k is the number of retrieved documents\n",
    "\n",
    "simillar_docs"
   ]
  },
  {
   "cell_type": "code",
   "execution_count": 30,
   "id": "61e35e87",
   "metadata": {},
   "outputs": [
    {
     "name": "stdout",
     "output_type": "stream",
     "text": [
      "creating versions with increased firepower, flight capabilities, and artificial intelligence integration\n",
      "through his AI assistant J.A.R.V.I.S.\n",
      "Iron Man plays a pivotal role in forming the Avengers and becomes one of the most influential\n",
      "heroes in the Marvel Universe. His charisma, intelligence, and moral dilemmas make him an\n",
      "intriguing character. Despite his arrogance, Tony Stark is driven by a desire to protect the world,\n",
      "culminating in his ultimate sacrifice in Avengers: Endgame, where he uses the Infinity Gauntlet to\n",
      "defeat Thanos.\n",
      "Beyond the comics, Iron Man's cinematic portrayal by Robert Downey Jr. in the Marvel Cinematic\n",
      "Universe (MCU) redefined the character, making him a global phenomenon. His journey from an\n",
      "egotistical billionaire to a selfless hero remains one of Marvel?s most compelling arcs.\n"
     ]
    }
   ],
   "source": [
    "print(simillar_docs[0][0].page_content)"
   ]
  }
 ],
 "metadata": {
  "kernelspec": {
   "display_name": "myEnv",
   "language": "python",
   "name": "myenv"
  },
  "language_info": {
   "codemirror_mode": {
    "name": "ipython",
    "version": 3
   },
   "file_extension": ".py",
   "mimetype": "text/x-python",
   "name": "python",
   "nbconvert_exporter": "python",
   "pygments_lexer": "ipython3",
   "version": "3.8.8"
  }
 },
 "nbformat": 4,
 "nbformat_minor": 5
}
