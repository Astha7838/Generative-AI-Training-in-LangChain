{
 "cells": [
  {
   "cell_type": "markdown",
   "id": "9dc1e42f-20fa-424f-820d-2063e37fa075",
   "metadata": {},
   "source": [
    "# Imperative Composition\n",
    "\n",
    "<em>Imperative composition</em> is just a fancy name for writing the code you’re used to writing, composing these components into functions and classes. \n",
    "\n",
    "- Provides more explicit, step-by-step control over the process\n",
    "- Allows for custom logic and complex transformations\n",
    "- Requires writing a function with specific implementation details\n",
    "- More flexible for complex scenarios that need custom processing\n",
    "\n",
    "Here’s an example combining prompts, models, and output parsers:"
   ]
  },
  {
   "cell_type": "code",
   "execution_count": 1,
   "id": "644ae268-84c6-4bc2-8929-6fd87059e8c6",
   "metadata": {},
   "outputs": [
    {
     "name": "stdout",
     "output_type": "stream",
     "text": [
      "There are many universities and institutions around the world that offer Master of Laws (LLM) programs. Some well-known universities with reputable LLM programs include:\n",
      "\n",
      "1. Harvard Law School\n",
      "2. Yale Law School\n",
      "3. University of Cambridge Faculty of Law\n",
      "4. London School of Economics and Political Science (LSE)\n",
      "5. New York University School of Law\n",
      "6. University of California, Berkeley School of Law\n",
      "7. University of Melbourne Law School\n",
      "8. National University of Singapore (NUS) Faculty of Law\n",
      "9. University of Sydney Law School\n",
      "10. McGill University Faculty of Law\n",
      "\n",
      "These are just a few examples, and there are many other institutions that offer LLM programs as well. It's important to research each program to find the one that best fits your academic and career goals.\n"
     ]
    }
   ],
   "source": [
    "from langchain_openai.chat_models import ChatOpenAI\n",
    "from langchain_core.prompts import ChatPromptTemplate\n",
    "from langchain_core.runnables import chain\n",
    "\n",
    "# the building blocks\n",
    "\n",
    "template = ChatPromptTemplate.from_messages(\n",
    "    [\n",
    "        (\"system\", \"You are a helpful assistant.\"),\n",
    "        (\"human\", \"{question}\"),\n",
    "    ]\n",
    ")\n",
    "\n",
    "model = ChatOpenAI(model=\"gpt-3.5-turbo\")\n",
    "\n",
    "# combine them in a function\n",
    "# @chain decorator adds the same Runnable interface for any function you write\n",
    "\n",
    "\n",
    "@chain\n",
    "def chatbot(values):\n",
    "    prompt = template.invoke(values)\n",
    "    return model.invoke(prompt)\n",
    "\n",
    "\n",
    "# use it\n",
    "\n",
    "response = chatbot.invoke({\"question\": \"Which model providers offer LLMs?\"})\n",
    "print(response.content)\n"
   ]
  },
  {
   "cell_type": "code",
   "execution_count": null,
   "id": "e9b2f5a3-4434-4ea0-ac77-9c02f422d445",
   "metadata": {},
   "outputs": [],
   "source": []
  },
  {
   "cell_type": "markdown",
   "id": "f5873646-9fd2-479d-b9bd-8e9bb9269fad",
   "metadata": {},
   "source": [
    "The preceding is a complete example of a chatbot, using a prompt and chat model. As you can see, it uses familiar Python syntax and supports any custom logic you might want to add in that function.\n",
    "\n",
    "On the other hand, if you want to enable streaming or async support, you’d have to modify your function to support it. For example, streaming support can be added as follows:"
   ]
  },
  {
   "cell_type": "code",
   "execution_count": 2,
   "id": "fde1ef9f-817e-4264-aa3d-010974ff73d4",
   "metadata": {},
   "outputs": [
    {
     "name": "stdout",
     "output_type": "stream",
     "text": [
      "content='' additional_kwargs={} response_metadata={} id='run-4a206ddd-74f8-4579-8104-c0f1e501578c'\n",
      "content='Many' additional_kwargs={} response_metadata={} id='run-4a206ddd-74f8-4579-8104-c0f1e501578c'\n",
      "content=' law' additional_kwargs={} response_metadata={} id='run-4a206ddd-74f8-4579-8104-c0f1e501578c'\n",
      "content=' schools' additional_kwargs={} response_metadata={} id='run-4a206ddd-74f8-4579-8104-c0f1e501578c'\n",
      "content=',' additional_kwargs={} response_metadata={} id='run-4a206ddd-74f8-4579-8104-c0f1e501578c'\n",
      "content=' especially' additional_kwargs={} response_metadata={} id='run-4a206ddd-74f8-4579-8104-c0f1e501578c'\n",
      "content=' those' additional_kwargs={} response_metadata={} id='run-4a206ddd-74f8-4579-8104-c0f1e501578c'\n",
      "content=' in' additional_kwargs={} response_metadata={} id='run-4a206ddd-74f8-4579-8104-c0f1e501578c'\n",
      "content=' the' additional_kwargs={} response_metadata={} id='run-4a206ddd-74f8-4579-8104-c0f1e501578c'\n",
      "content=' United' additional_kwargs={} response_metadata={} id='run-4a206ddd-74f8-4579-8104-c0f1e501578c'\n",
      "content=' States' additional_kwargs={} response_metadata={} id='run-4a206ddd-74f8-4579-8104-c0f1e501578c'\n",
      "content=' and' additional_kwargs={} response_metadata={} id='run-4a206ddd-74f8-4579-8104-c0f1e501578c'\n",
      "content=' the' additional_kwargs={} response_metadata={} id='run-4a206ddd-74f8-4579-8104-c0f1e501578c'\n",
      "content=' United' additional_kwargs={} response_metadata={} id='run-4a206ddd-74f8-4579-8104-c0f1e501578c'\n",
      "content=' Kingdom' additional_kwargs={} response_metadata={} id='run-4a206ddd-74f8-4579-8104-c0f1e501578c'\n",
      "content=',' additional_kwargs={} response_metadata={} id='run-4a206ddd-74f8-4579-8104-c0f1e501578c'\n",
      "content=' offer' additional_kwargs={} response_metadata={} id='run-4a206ddd-74f8-4579-8104-c0f1e501578c'\n",
      "content=' Master' additional_kwargs={} response_metadata={} id='run-4a206ddd-74f8-4579-8104-c0f1e501578c'\n",
      "content=' of' additional_kwargs={} response_metadata={} id='run-4a206ddd-74f8-4579-8104-c0f1e501578c'\n",
      "content=' Laws' additional_kwargs={} response_metadata={} id='run-4a206ddd-74f8-4579-8104-c0f1e501578c'\n",
      "content=' (' additional_kwargs={} response_metadata={} id='run-4a206ddd-74f8-4579-8104-c0f1e501578c'\n",
      "content='LL' additional_kwargs={} response_metadata={} id='run-4a206ddd-74f8-4579-8104-c0f1e501578c'\n",
      "content='M' additional_kwargs={} response_metadata={} id='run-4a206ddd-74f8-4579-8104-c0f1e501578c'\n",
      "content=')' additional_kwargs={} response_metadata={} id='run-4a206ddd-74f8-4579-8104-c0f1e501578c'\n",
      "content=' programs' additional_kwargs={} response_metadata={} id='run-4a206ddd-74f8-4579-8104-c0f1e501578c'\n",
      "content='.' additional_kwargs={} response_metadata={} id='run-4a206ddd-74f8-4579-8104-c0f1e501578c'\n",
      "content=' Some' additional_kwargs={} response_metadata={} id='run-4a206ddd-74f8-4579-8104-c0f1e501578c'\n",
      "content=' well' additional_kwargs={} response_metadata={} id='run-4a206ddd-74f8-4579-8104-c0f1e501578c'\n",
      "content='-known' additional_kwargs={} response_metadata={} id='run-4a206ddd-74f8-4579-8104-c0f1e501578c'\n",
      "content=' law' additional_kwargs={} response_metadata={} id='run-4a206ddd-74f8-4579-8104-c0f1e501578c'\n",
      "content=' schools' additional_kwargs={} response_metadata={} id='run-4a206ddd-74f8-4579-8104-c0f1e501578c'\n",
      "content=' that' additional_kwargs={} response_metadata={} id='run-4a206ddd-74f8-4579-8104-c0f1e501578c'\n",
      "content=' provide' additional_kwargs={} response_metadata={} id='run-4a206ddd-74f8-4579-8104-c0f1e501578c'\n",
      "content=' L' additional_kwargs={} response_metadata={} id='run-4a206ddd-74f8-4579-8104-c0f1e501578c'\n",
      "content='LM' additional_kwargs={} response_metadata={} id='run-4a206ddd-74f8-4579-8104-c0f1e501578c'\n",
      "content=' programs' additional_kwargs={} response_metadata={} id='run-4a206ddd-74f8-4579-8104-c0f1e501578c'\n",
      "content=' include' additional_kwargs={} response_metadata={} id='run-4a206ddd-74f8-4579-8104-c0f1e501578c'\n",
      "content=' Harvard' additional_kwargs={} response_metadata={} id='run-4a206ddd-74f8-4579-8104-c0f1e501578c'\n",
      "content=' Law' additional_kwargs={} response_metadata={} id='run-4a206ddd-74f8-4579-8104-c0f1e501578c'\n",
      "content=' School' additional_kwargs={} response_metadata={} id='run-4a206ddd-74f8-4579-8104-c0f1e501578c'\n",
      "content=',' additional_kwargs={} response_metadata={} id='run-4a206ddd-74f8-4579-8104-c0f1e501578c'\n",
      "content=' Yale' additional_kwargs={} response_metadata={} id='run-4a206ddd-74f8-4579-8104-c0f1e501578c'\n",
      "content=' Law' additional_kwargs={} response_metadata={} id='run-4a206ddd-74f8-4579-8104-c0f1e501578c'\n",
      "content=' School' additional_kwargs={} response_metadata={} id='run-4a206ddd-74f8-4579-8104-c0f1e501578c'\n",
      "content=',' additional_kwargs={} response_metadata={} id='run-4a206ddd-74f8-4579-8104-c0f1e501578c'\n",
      "content=' Stanford' additional_kwargs={} response_metadata={} id='run-4a206ddd-74f8-4579-8104-c0f1e501578c'\n",
      "content=' Law' additional_kwargs={} response_metadata={} id='run-4a206ddd-74f8-4579-8104-c0f1e501578c'\n",
      "content=' School' additional_kwargs={} response_metadata={} id='run-4a206ddd-74f8-4579-8104-c0f1e501578c'\n",
      "content=',' additional_kwargs={} response_metadata={} id='run-4a206ddd-74f8-4579-8104-c0f1e501578c'\n",
      "content=' Columbia' additional_kwargs={} response_metadata={} id='run-4a206ddd-74f8-4579-8104-c0f1e501578c'\n",
      "content=' Law' additional_kwargs={} response_metadata={} id='run-4a206ddd-74f8-4579-8104-c0f1e501578c'\n",
      "content=' School' additional_kwargs={} response_metadata={} id='run-4a206ddd-74f8-4579-8104-c0f1e501578c'\n",
      "content=',' additional_kwargs={} response_metadata={} id='run-4a206ddd-74f8-4579-8104-c0f1e501578c'\n",
      "content=' University' additional_kwargs={} response_metadata={} id='run-4a206ddd-74f8-4579-8104-c0f1e501578c'\n",
      "content=' of' additional_kwargs={} response_metadata={} id='run-4a206ddd-74f8-4579-8104-c0f1e501578c'\n",
      "content=' Cambridge' additional_kwargs={} response_metadata={} id='run-4a206ddd-74f8-4579-8104-c0f1e501578c'\n",
      "content=',' additional_kwargs={} response_metadata={} id='run-4a206ddd-74f8-4579-8104-c0f1e501578c'\n",
      "content=' University' additional_kwargs={} response_metadata={} id='run-4a206ddd-74f8-4579-8104-c0f1e501578c'\n",
      "content=' of' additional_kwargs={} response_metadata={} id='run-4a206ddd-74f8-4579-8104-c0f1e501578c'\n",
      "content=' Oxford' additional_kwargs={} response_metadata={} id='run-4a206ddd-74f8-4579-8104-c0f1e501578c'\n",
      "content=',' additional_kwargs={} response_metadata={} id='run-4a206ddd-74f8-4579-8104-c0f1e501578c'\n",
      "content=' and' additional_kwargs={} response_metadata={} id='run-4a206ddd-74f8-4579-8104-c0f1e501578c'\n",
      "content=' London' additional_kwargs={} response_metadata={} id='run-4a206ddd-74f8-4579-8104-c0f1e501578c'\n",
      "content=' School' additional_kwargs={} response_metadata={} id='run-4a206ddd-74f8-4579-8104-c0f1e501578c'\n",
      "content=' of' additional_kwargs={} response_metadata={} id='run-4a206ddd-74f8-4579-8104-c0f1e501578c'\n",
      "content=' Economics' additional_kwargs={} response_metadata={} id='run-4a206ddd-74f8-4579-8104-c0f1e501578c'\n",
      "content='.' additional_kwargs={} response_metadata={} id='run-4a206ddd-74f8-4579-8104-c0f1e501578c'\n",
      "content=' It' additional_kwargs={} response_metadata={} id='run-4a206ddd-74f8-4579-8104-c0f1e501578c'\n",
      "content=\"'s\" additional_kwargs={} response_metadata={} id='run-4a206ddd-74f8-4579-8104-c0f1e501578c'\n",
      "content=' always' additional_kwargs={} response_metadata={} id='run-4a206ddd-74f8-4579-8104-c0f1e501578c'\n",
      "content=' a' additional_kwargs={} response_metadata={} id='run-4a206ddd-74f8-4579-8104-c0f1e501578c'\n",
      "content=' good' additional_kwargs={} response_metadata={} id='run-4a206ddd-74f8-4579-8104-c0f1e501578c'\n",
      "content=' idea' additional_kwargs={} response_metadata={} id='run-4a206ddd-74f8-4579-8104-c0f1e501578c'\n",
      "content=' to' additional_kwargs={} response_metadata={} id='run-4a206ddd-74f8-4579-8104-c0f1e501578c'\n",
      "content=' research' additional_kwargs={} response_metadata={} id='run-4a206ddd-74f8-4579-8104-c0f1e501578c'\n",
      "content=' specific' additional_kwargs={} response_metadata={} id='run-4a206ddd-74f8-4579-8104-c0f1e501578c'\n",
      "content=' law' additional_kwargs={} response_metadata={} id='run-4a206ddd-74f8-4579-8104-c0f1e501578c'\n",
      "content=' schools' additional_kwargs={} response_metadata={} id='run-4a206ddd-74f8-4579-8104-c0f1e501578c'\n",
      "content=' to' additional_kwargs={} response_metadata={} id='run-4a206ddd-74f8-4579-8104-c0f1e501578c'\n",
      "content=' see' additional_kwargs={} response_metadata={} id='run-4a206ddd-74f8-4579-8104-c0f1e501578c'\n",
      "content=' if' additional_kwargs={} response_metadata={} id='run-4a206ddd-74f8-4579-8104-c0f1e501578c'\n",
      "content=' they' additional_kwargs={} response_metadata={} id='run-4a206ddd-74f8-4579-8104-c0f1e501578c'\n",
      "content=' offer' additional_kwargs={} response_metadata={} id='run-4a206ddd-74f8-4579-8104-c0f1e501578c'\n",
      "content=' L' additional_kwargs={} response_metadata={} id='run-4a206ddd-74f8-4579-8104-c0f1e501578c'\n",
      "content='LM' additional_kwargs={} response_metadata={} id='run-4a206ddd-74f8-4579-8104-c0f1e501578c'\n",
      "content=' programs' additional_kwargs={} response_metadata={} id='run-4a206ddd-74f8-4579-8104-c0f1e501578c'\n",
      "content=' in' additional_kwargs={} response_metadata={} id='run-4a206ddd-74f8-4579-8104-c0f1e501578c'\n",
      "content=' the' additional_kwargs={} response_metadata={} id='run-4a206ddd-74f8-4579-8104-c0f1e501578c'\n",
      "content=' area' additional_kwargs={} response_metadata={} id='run-4a206ddd-74f8-4579-8104-c0f1e501578c'\n",
      "content=' of' additional_kwargs={} response_metadata={} id='run-4a206ddd-74f8-4579-8104-c0f1e501578c'\n",
      "content=' law' additional_kwargs={} response_metadata={} id='run-4a206ddd-74f8-4579-8104-c0f1e501578c'\n",
      "content=' you' additional_kwargs={} response_metadata={} id='run-4a206ddd-74f8-4579-8104-c0f1e501578c'\n",
      "content=' are' additional_kwargs={} response_metadata={} id='run-4a206ddd-74f8-4579-8104-c0f1e501578c'\n",
      "content=' interested' additional_kwargs={} response_metadata={} id='run-4a206ddd-74f8-4579-8104-c0f1e501578c'\n",
      "content=' in' additional_kwargs={} response_metadata={} id='run-4a206ddd-74f8-4579-8104-c0f1e501578c'\n",
      "content='.' additional_kwargs={} response_metadata={} id='run-4a206ddd-74f8-4579-8104-c0f1e501578c'\n",
      "content='' additional_kwargs={} response_metadata={'finish_reason': 'stop', 'model_name': 'gpt-3.5-turbo-0125'} id='run-4a206ddd-74f8-4579-8104-c0f1e501578c'\n"
     ]
    }
   ],
   "source": [
    "@chain\n",
    "def chatbot(values):\n",
    "    prompt = template.invoke(values)\n",
    "    for token in model.stream(prompt):\n",
    "        yield token\n",
    "\n",
    "for part in chatbot.stream({\n",
    "    \"question\": \"Which model providers offer LLMs?\"\n",
    "}):\n",
    "    print(part)"
   ]
  },
  {
   "cell_type": "code",
   "execution_count": null,
   "id": "fb5a8c4e-a99a-481d-8fff-266fe679f8fc",
   "metadata": {},
   "outputs": [],
   "source": []
  },
  {
   "cell_type": "markdown",
   "id": "4d6c5114-19cb-4708-b441-6ffbd431cdd2",
   "metadata": {},
   "source": [
    "So, either in JS or Python, you can enable streaming for your custom function by yielding the values you want to stream and then calling it with ```stream```.\n",
    "\n",
    "For asynchronous execution, you’d rewrite your function like this:"
   ]
  },
  {
   "cell_type": "code",
   "execution_count": 3,
   "id": "032c2f1f-9edd-4c43-94ce-b37db28c011f",
   "metadata": {},
   "outputs": [
    {
     "data": {
      "text/plain": [
       "AIMessage(content='There are numerous universities and law schools around the world that offer Master of Laws (LLM) programs. Some of the well-known institutions providing LLM programs include:\\n\\n1. Harvard Law School (USA)\\n2. Yale Law School (USA)\\n3. Stanford Law School (USA)\\n4. University of Cambridge Faculty of Law (UK)\\n5. University of Oxford Faculty of Law (UK)\\n6. London School of Economics and Political Science (LSE) (UK)\\n7. University of Melbourne Law School (Australia)\\n8. National University of Singapore (Singapore)\\n9. Leiden University Faculty of Law (Netherlands)\\n10. McGill University Faculty of Law (Canada)\\n\\nThese are just a few examples, and there are many more universities and law schools worldwide that offer LLM programs in various specializations. It is recommended to research and compare different programs to find the one that best fits your academic and career goals.', additional_kwargs={'refusal': None}, response_metadata={'token_usage': {'completion_tokens': 186, 'prompt_tokens': 25, 'total_tokens': 211, 'completion_tokens_details': {'accepted_prediction_tokens': 0, 'audio_tokens': 0, 'reasoning_tokens': 0, 'rejected_prediction_tokens': 0}, 'prompt_tokens_details': {'audio_tokens': 0, 'cached_tokens': 0}}, 'model_name': 'gpt-3.5-turbo-0125', 'system_fingerprint': None, 'finish_reason': 'stop', 'logprobs': None}, id='run-a5ceb6ae-2190-4c46-8583-6839fb8204b1-0', usage_metadata={'input_tokens': 25, 'output_tokens': 186, 'total_tokens': 211, 'input_token_details': {'audio': 0, 'cache_read': 0}, 'output_token_details': {'audio': 0, 'reasoning': 0}})"
      ]
     },
     "execution_count": 3,
     "metadata": {},
     "output_type": "execute_result"
    }
   ],
   "source": [
    "@chain\n",
    "async def chatbot(values):\n",
    "    prompt = await template.ainvoke(values)\n",
    "    return await model.ainvoke(prompt)\n",
    "\n",
    "await chatbot.ainvoke({\"question\": \"Which model providers offer LLMs?\"})"
   ]
  },
  {
   "cell_type": "code",
   "execution_count": null,
   "id": "2f981e86-f205-4e24-ac57-236b6f982b81",
   "metadata": {},
   "outputs": [],
   "source": []
  },
  {
   "cell_type": "markdown",
   "id": "d634a8be-957d-4cb1-90ba-d62493bff79d",
   "metadata": {},
   "source": [
    "#\n",
    "# Use Case for Imperative Composition\n",
    "Use imperative composition when you need to:\n",
    "\n",
    "- Perform complex data preprocessing\n",
    "- Add custom validation or transformation logic\n",
    "- Implement error handling or logging\n",
    "- Dynamically modify prompt templates or model parameters\n",
    "- Create more complex workflows that can't be easily achieved with simple chaining"
   ]
  },
  {
   "cell_type": "code",
   "execution_count": null,
   "id": "4e0ff6e8-df56-4700-960f-2fa7f1fc1495",
   "metadata": {},
   "outputs": [],
   "source": []
  }
 ],
 "metadata": {
  "kernelspec": {
   "display_name": "Python 3 (ipykernel)",
   "language": "python",
   "name": "python3"
  },
  "language_info": {
   "codemirror_mode": {
    "name": "ipython",
    "version": 3
   },
   "file_extension": ".py",
   "mimetype": "text/x-python",
   "name": "python",
   "nbconvert_exporter": "python",
   "pygments_lexer": "ipython3",
   "version": "3.12.4"
  }
 },
 "nbformat": 4,
 "nbformat_minor": 5
}
