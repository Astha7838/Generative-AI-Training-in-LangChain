{
 "cells": [
  {
   "cell_type": "markdown",
   "id": "6c706772-7bbb-41a9-ab96-6480bc3ef2a3",
   "metadata": {
    "tags": []
   },
   "source": [
    "# Prompts and Models Exercise\n",
    "\n",
    "**TASK: Create a Python function that uses Prompts and Chat internally to give travel ideas related to two variables:**\n",
    "\n",
    "    * An Interest or Hobby\n",
    "    * A Budget\n",
    "    \n",
    "Remember that you should also decide on a system prompt. The end function will just be a nice wrapper on top of all the previous LangChain components we've discussed earlier."
   ]
  },
  {
   "cell_type": "code",
   "execution_count": 1,
   "id": "b4e6adae-ddfa-403f-afbc-eac1ff964c54",
   "metadata": {},
   "outputs": [],
   "source": [
    "def travel_idea(interest,budget):\n",
    "    '''\n",
    "    INPUTS:\n",
    "        interest: A str interest or hobby (e.g. fishing)\n",
    "        budget: A str budget (e.g. $10,000)\n",
    "    '''\n",
    "    pass"
   ]
  },
  {
   "cell_type": "markdown",
   "id": "34d0ecc5-a526-4a9b-933f-e7785f9401df",
   "metadata": {},
   "source": [
    "**Example Solution**\n",
    "\n",
    "Keep in mind your solution may differ slightly, but as long as it works, that's ok!"
   ]
  },
  {
   "cell_type": "code",
   "execution_count": null,
   "id": "320be1cb-a639-460d-8472-fb6def536b19",
   "metadata": {},
   "outputs": [],
   "source": [
    "# DONT FORGET TO SETUP YOUR API KEY!\n",
    "import os\n",
    "os.environ[\"OPENAI_API_KEY\"] = \n",
    "api_key = os.getenv(\"OPENAI_API_KEY\")"
   ]
  },
  {
   "cell_type": "code",
   "execution_count": 2,
   "id": "556e2f99",
   "metadata": {},
   "outputs": [],
   "source": [
    "from langchain.prompts import (\n",
    "    ChatPromptTemplate,\n",
    "    PromptTemplate,\n",
    "    SystemMessagePromptTemplate,\n",
    "    AIMessagePromptTemplate,\n",
    "    HumanMessagePromptTemplate,\n",
    ")\n",
    "from langchain.schema import (\n",
    "    AIMessage,\n",
    "    HumanMessage,\n",
    "    SystemMessage\n",
    ")\n",
    "\n",
    "from langchain_openai import ChatOpenAI"
   ]
  },
  {
   "cell_type": "code",
   "execution_count": null,
   "id": "7152a24b",
   "metadata": {},
   "outputs": [],
   "source": [
    "from langchain.chat_models import ChatOpenAI\n",
    "from langchain.prompts import (\n",
    "    ChatPromptTemplate,\n",
    "    PromptTemplate,\n",
    "    SystemMessagePromptTemplate,\n",
    "    AIMessagePromptTemplate,\n",
    "    HumanMessagePromptTemplate,\n",
    ")\n",
    "\n",
    "def travel_idea(interest,budget):\n",
    "    '''\n",
    "    INPUTS:\n",
    "        interest: A str interest or hobby (e.g. fishing)\n",
    "        budget: A str budget (e.g. $10,000)\n",
    "    '''\n",
    "    # PART ONE: SYSTEM\n",
    "    \n",
    "\n",
    "    # PART TWO: HUMAN REQUEST\n",
    "    \n",
    "\n",
    "    # PART THREE: COMPILE TO CHAT\n",
    "    \n",
    "    \n",
    "    # PART FOUR: INSERT VARIABLES\n",
    "    \n",
    "\n",
    "    # PART FIVE: CHAT REQUEST\n",
    "    \n",
    "    return result.content"
   ]
  },
  {
   "cell_type": "code",
   "execution_count": 28,
   "id": "4fa919c5",
   "metadata": {},
   "outputs": [
    {
     "name": "stdout",
     "output_type": "stream",
     "text": [
      "Sure! Here's a sample travel itinerary for a fishing trip on a budget of $10,000:\n",
      "\n",
      "Destination: Key West, Florida\n",
      "\n",
      "Day 1:\n",
      "- Arrive in Key West and check into a budget-friendly hotel or vacation rental.\n",
      "- Spend the afternoon exploring the historic Old Town area and enjoying a seafood dinner at a local restaurant.\n",
      "\n",
      "Day 2:\n",
      "- Go on a full-day deep-sea fishing charter. Key West is known for its excellent deep-sea fishing opportunities, so you'll have a chance to catch a variety of fish like mahi-mahi, tuna, and marlin.\n",
      "- Enjoy a fresh seafood dinner at a waterfront restaurant in the evening.\n",
      "\n",
      "Day 3:\n",
      "- Take a half-day backcountry fishing charter to explore the shallower waters around Key West. You'll have the chance to catch species like bonefish, tarpon, and permit.\n",
      "- Spend the afternoon relaxing on the beach or exploring other nearby attractions like the Key West Butterfly and Nature Conservatory.\n",
      "\n",
      "Day 4:\n",
      "- In the morning, rent a kayak or paddleboard to do some fishing in the calm waters around Key West on your own.\n",
      "- After lunch, visit the Key West Aquarium to learn more about the local marine life and conservation efforts.\n",
      "- Enjoy a final seafood dinner at a local restaurant before heading home the next day.\n",
      "\n",
      "This itinerary allows you to experience a variety of fishing opportunities in Key West while still staying within your $10,000 budget. You can adjust the activities and accommodations based on your preferences and budget constraints.\n"
     ]
    }
   ],
   "source": [
    "print(travel_idea('fishing','$10,000'))"
   ]
  },
  {
   "cell_type": "code",
   "execution_count": null,
   "id": "5ebdc443",
   "metadata": {},
   "outputs": [],
   "source": []
  }
 ],
 "metadata": {
  "kernelspec": {
   "display_name": "myEnv",
   "language": "python",
   "name": "myenv"
  },
  "language_info": {
   "codemirror_mode": {
    "name": "ipython",
    "version": 3
   },
   "file_extension": ".py",
   "mimetype": "text/x-python",
   "name": "python",
   "nbconvert_exporter": "python",
   "pygments_lexer": "ipython3",
   "version": "3.8.8"
  }
 },
 "nbformat": 4,
 "nbformat_minor": 5
}
