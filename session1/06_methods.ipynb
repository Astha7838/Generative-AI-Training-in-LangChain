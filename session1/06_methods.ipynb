{
 "cells": [
  {
   "cell_type": "markdown",
   "id": "114430c7-a83f-4ef0-9448-a4217e29f0c0",
   "metadata": {},
   "source": [
    "# Assembling the Many Pieces of an LLM Application\n",
    "\n",
    "The key components you’ve learned about so far are essential building blocks of the LangChain framework. Which brings us to the critical question: How do you combine them effectively to build your LLM application?\n",
    "\n",
    "\n",
    "### Using the Runnable Interface\n",
    "\n",
    "As you may have noticed, all the code examples used so far utilize a similar interface and the ```invoke()``` method to generate outputs from the model (or prompt template, or output parser). All components have the following:\n",
    "\n",
    "There is a common interface with these methods:\n",
    "\n",
    "- ```invoke```: transforms a single input into an output\n",
    "- ```batch```: efficiently transforms multiple inputs into multiple outputs\n",
    "- ```stream```: streams output from a single input as it’s produced\n",
    "\n",
    "There are built-in utilities for retries, fallbacks, schemas, and runtime configurability.\n",
    "In Python, each of the three methods have ```asyncio``` equivalents.\n",
    "\t\n",
    "As such, all components behave the same way, and the interface learned for one of them applies to all:"
   ]
  },
  {
   "cell_type": "code",
   "execution_count": 1,
   "id": "890db4a2-ebd8-49f2-aa2d-3b7f55e49f92",
   "metadata": {},
   "outputs": [
    {
     "name": "stdout",
     "output_type": "stream",
     "text": [
      "Hello! How can I assist you today?\n"
     ]
    }
   ],
   "source": [
    "from langchain_openai.chat_models import ChatOpenAI\n",
    "\n",
    "model = ChatOpenAI(model=\"gpt-3.5-turbo\")\n",
    "\n",
    "completion = model.invoke(\"Hi there!\")\n",
    "# Hi!\n",
    "\n",
    "print(completion.content)"
   ]
  },
  {
   "cell_type": "code",
   "execution_count": 2,
   "id": "de6f1b01-9414-4e7c-b87e-d2ac69494373",
   "metadata": {},
   "outputs": [
    {
     "name": "stdout",
     "output_type": "stream",
     "text": [
      "Hello! How can I assist you today?\n",
      "Goodbye! Have a great day!\n"
     ]
    }
   ],
   "source": [
    "completions = model.batch([\"Hi there!\", \"Bye!\"])\n",
    "# ['Hi!', 'See you!']\n",
    "\n",
    "for completion in completions:\n",
    "    print(completion.content)"
   ]
  },
  {
   "cell_type": "code",
   "execution_count": 3,
   "id": "0d59e099-8acd-46e6-a17c-d555542d6386",
   "metadata": {},
   "outputs": [
    {
     "name": "stdout",
     "output_type": "stream",
     "text": [
      "\n",
      "Good\n",
      "bye\n",
      "!\n",
      " Have\n",
      " a\n",
      " great\n",
      " day\n",
      "!\n",
      "\n"
     ]
    }
   ],
   "source": [
    "for token in model.stream(\"Bye!\"):\n",
    "    print(token.content)\n",
    "    # Good\n",
    "    # bye\n",
    "    # !\n"
   ]
  },
  {
   "cell_type": "code",
   "execution_count": null,
   "id": "273965ba-d91d-4ec2-af01-002172c4f1e3",
   "metadata": {},
   "outputs": [],
   "source": []
  },
  {
   "cell_type": "markdown",
   "id": "1000b151-6480-4031-90ad-a75ed81f34fa",
   "metadata": {},
   "source": [
    "In this example, you see how the three main methods work:\n",
    "\n",
    "- ```invoke()``` takes a single input and returns a single output.\n",
    "- ```batch()``` takes a list of outputs and returns a list of outputs.\n",
    "- ```stream()``` takes a single input and returns an iterator of parts of the output as they become available.\n",
    "\n",
    "In some cases, where the underlying component doesn’t support iterative output, there will be a single part containing all output.\n",
    "\n",
    "You can combine these components in two ways:\n",
    "\n",
    "<em>Imperative</em>\n",
    "\t\n",
    "- Call your components directly, for example, with ```model.invoke(...)```\n",
    "\t\n",
    "<em>Declarative</em>\n",
    "\t\n",
    "- Use LangChain Expression Language (LCEL), as covered in an upcoming section"
   ]
  },
  {
   "cell_type": "markdown",
   "id": "ff570439-ccb8-4c97-9296-8b825586f096",
   "metadata": {},
   "source": [
    "#\n",
    "# Use Case: Customer Support Chatbot\n",
    "### Purpose\n",
    "Demonstrate how different LLM method interfaces can be used in a customer support application.\n",
    "\n",
    "### Key Methods Illustrated\n",
    "\n",
    "- ```invoke()```: Handles a single customer query\n",
    "- ```batch()```: Processes multiple support queries simultaneously\n",
    "- ```stream()```: Generates real-time, token-by-token responses\n",
    "\n",
    "### Benefits\n",
    "\n",
    "- <b>Efficiency</b>: Process multiple queries quickly\n",
    "- <b>Responsiveness</b>: Provide immediate, streaming responses\n",
    "- <b>Scalability</b>: Handle varying numbers of customer interactions\n",
    "\n",
    "The example shows how a single LLM can flexibly handle different interaction patterns, making it ideal for customer support scenarios where query volumes and response requirements can vary.\n"
   ]
  },
  {
   "cell_type": "code",
   "execution_count": 4,
   "id": "4ffc5f8b-d512-474b-84fa-655aecf1d022",
   "metadata": {},
   "outputs": [],
   "source": [
    "# Customer support scenarios\n",
    "support_queries = [\n",
    "    \"How do I reset my password?\",\n",
    "    \"My device is not charging. Help!\",\n",
    "    \"Can I upgrade my subscription?\"\n",
    "]"
   ]
  },
  {
   "cell_type": "markdown",
   "id": "6f0d05c0-057e-4798-bb9e-7ec4eb39f0e7",
   "metadata": {},
   "source": [
    "### Demonstrate different method interfaces"
   ]
  },
  {
   "cell_type": "code",
   "execution_count": 5,
   "id": "791d972b-e3fa-4258-b70b-00b932e8e9fa",
   "metadata": {},
   "outputs": [
    {
     "name": "stdout",
     "output_type": "stream",
     "text": [
      "Single Query Response: If you need to reset your password, you can typically do so by following these steps:\n",
      "\n",
      "1. Go to the login page of the website or service where you need to reset your password.\n",
      "2. Look for an option that says \"Forgot password\" or \"Need help signing in\" and click on it.\n",
      "3. You may be prompted to enter your email address or username associated with your account. Enter this information and submit.\n",
      "4. Check your email for a password reset link or instructions on how to reset your password.\n",
      "5. Follow the link or instructions provided in the email to reset your password.\n",
      "6. Create a new password that is secure and unique. Make sure to follow any requirements or guidelines provided by the website or service.\n",
      "7. Once your password has been successfully reset, you should be able to log in to your account using your new password.\n",
      "\n",
      "If you have trouble resetting your password, you may need to contact the customer support team of the website or service for further assistance.\n"
     ]
    }
   ],
   "source": [
    "# 1. Single Query (invoke)\n",
    "single_response = model.invoke(\"How do I reset my password?\")\n",
    "print(\"Single Query Response:\", single_response.content)"
   ]
  },
  {
   "cell_type": "code",
   "execution_count": 6,
   "id": "f724b83d-271b-4478-98fb-d80e4a1c5c25",
   "metadata": {},
   "outputs": [
    {
     "name": "stdout",
     "output_type": "stream",
     "text": [
      "\n",
      "Batch Responses:\n",
      "Query: How do I reset my password?\n",
      "Response: To reset your password, you typically need to follow these steps:\n",
      "\n",
      "1. Go to the login page of the website or application where you need to reset your password.\n",
      "2. Look for a \"forgot password\" or \"reset password\" link or button near the login area.\n",
      "3. Click on the link or button and follow the instructions provided. This may involve entering your email address or username.\n",
      "4. Check your email for instructions on how to reset your password. This email may contain a link to create a new password.\n",
      "5. Click on the link in the email and follow the instructions to create a new password.\n",
      "6. Once you have created a new password, make sure to save it in a secure place.\n",
      "7. Log in with your new password to verify that the reset was successful.\n",
      "\n",
      "If you have trouble resetting your password, you may need to contact the customer support team for the website or application for further assistance.\n",
      "\n",
      "Query: My device is not charging. Help!\n",
      "Response: Here are a few steps you can try to troubleshoot the issue with your device not charging:\n",
      "\n",
      "1. Check the charging cable and power adapter: Make sure the charging cable is not damaged or frayed, and that the power adapter is functioning properly. Try using a different charging cable or power adapter to see if that solves the issue.\n",
      "\n",
      "2. Clean the charging port: Dust and debris can accumulate in the charging port, preventing a proper connection. Use a small brush or compressed air to clean out the charging port.\n",
      "\n",
      "3. Restart your device: Sometimes a simple restart can fix charging issues. Try restarting your device and see if it starts charging.\n",
      "\n",
      "4. Check for software updates: Make sure your device is running the latest software updates, as this can sometimes fix charging issues.\n",
      "\n",
      "5. Try a different power source: If you are using a wall outlet to charge your device, try using a different outlet or a different power source, such as a computer or power bank.\n",
      "\n",
      "If none of these steps solve the issue, it may be a hardware problem and you may need to contact the manufacturer or bring your device to a professional for repair.\n",
      "\n",
      "Query: Can I upgrade my subscription?\n",
      "Response: Yes, you can typically upgrade your subscription by contacting the provider or checking the account settings on the platform where you have the subscription. Some providers may offer different subscription tiers or options for upgrading your level of service. It's best to reach out directly to the provider for specific instructions on upgrading your subscription.\n",
      "\n"
     ]
    }
   ],
   "source": [
    "# 2. Multiple Queries (batch)\n",
    "batch_responses = model.batch(support_queries)\n",
    "print(\"\\nBatch Responses:\")\n",
    "for query, response in zip(support_queries, batch_responses):\n",
    "    print(f\"Query: {query}\")\n",
    "    print(f\"Response: {response.content}\\n\")\n"
   ]
  },
  {
   "cell_type": "code",
   "execution_count": 7,
   "id": "0af95269-4bd3-44d7-8aeb-6325aa98ecae",
   "metadata": {},
   "outputs": [
    {
     "name": "stdout",
     "output_type": "stream",
     "text": [
      "Streaming Response:\n",
      "Sure! Our return policy allows customers to return items within a specified time frame for a refund, exchange, or store credit. The length of time available for returns varies depending on the item and the reason for the return. In order to be eligible for a return, the item must be in its original condition and packaging. Some items may have specific return restrictions or requirements. Customers may be responsible for return shipping costs unless the item is defective or the return is due to an error on our part. Please refer to our official return policy for more specific details."
     ]
    }
   ],
   "source": [
    "# 3. Streaming Response (stream)\n",
    "print(\"Streaming Response:\")\n",
    "for token in model.stream(\"Can you explain our return policy?\"):\n",
    "    print(token.content, end='', flush=True)"
   ]
  }
 ],
 "metadata": {
  "kernelspec": {
   "display_name": "Python 3 (ipykernel)",
   "language": "python",
   "name": "python3"
  },
  "language_info": {
   "codemirror_mode": {
    "name": "ipython",
    "version": 3
   },
   "file_extension": ".py",
   "mimetype": "text/x-python",
   "name": "python",
   "nbconvert_exporter": "python",
   "pygments_lexer": "ipython3",
   "version": "3.12.4"
  }
 },
 "nbformat": 4,
 "nbformat_minor": 5
}
