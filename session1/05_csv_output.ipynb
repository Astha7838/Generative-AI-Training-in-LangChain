{
 "cells": [
  {
   "cell_type": "markdown",
   "id": "10f14f14-9122-4988-b8f9-d5c01c7b73e3",
   "metadata": {},
   "source": [
    "# Other Machine-Readable Formats with Output Parsers\n",
    "\n",
    "You can also use an LLM or chat model to produce output in other formats, such as CSV or XML. This is where output parsers come in handy. <em>Output parsers</em> are classes that help you structure large language model responses. They serve two functions:\n",
    "\n",
    "\n",
    "<em>Providing format instructions</em>\n",
    "\t\n",
    "- Output parsers can be used to inject some additional instructions in the prompt that will help guide the LLM to output text in the format it knows how to parse.\n",
    "\t\n",
    "<em>Validating and parsing output</em>\n",
    "\t\n",
    "- The main function is to take the textual output of the LLM or chat model and render it to a more structured format, such as a list, XML, or other format. This can include removing extraneous information, correcting incomplete output, and validating the parsed values.\n",
    "\t\n",
    "\n",
    "\n",
    "Here’s an example of how an output parser works:"
   ]
  },
  {
   "cell_type": "code",
   "execution_count": 2,
   "id": "71ec8b68-9f56-4103-b51e-d3d623cd14d6",
   "metadata": {},
   "outputs": [
    {
     "name": "stdout",
     "output_type": "stream",
     "text": [
      "Your response should be a list of comma separated values, eg: `foo, bar, baz` or `foo,bar,baz`\n",
      "['apple', 'banana', 'cherry']\n"
     ]
    }
   ],
   "source": [
    "from langchain_core.output_parsers import CommaSeparatedListOutputParser\n",
    "\n",
    "parser = CommaSeparatedListOutputParser()\n",
    "\n",
    "print(parser.get_format_instructions())\n",
    "\n",
    "response = parser.invoke(\"apple, banana, cherry\")\n",
    "print(response)"
   ]
  },
  {
   "cell_type": "markdown",
   "id": "577c8626-70eb-4d0b-bbe7-7ab160d3f819",
   "metadata": {},
   "source": [
    "# Use Cases\n",
    "1. Data Extraction from Unstructured Text\n",
    "\n",
    "An LLM with a <b>CSV output parser</b> could extract structured information from unstructured sources like research papers, financial reports, or clinical notes. \n",
    "\n",
    "For example, a medical researcher could process hundreds of patient case reports, having the LLM automatically extract key data points (patient demographics, symptoms, treatments, outcomes) into a <b>comma-separated format</b> that can be directly imported into statistical analysis software or spreadsheets for further analysis."
   ]
  },
  {
   "cell_type": "code",
   "execution_count": 5,
   "id": "1b13740c-d9a7-40f3-b5fc-683455c2e541",
   "metadata": {},
   "outputs": [
    {
     "name": "stdout",
     "output_type": "stream",
     "text": [
      "['42', 'female', 'headaches', 'migraine', 'sumatriptan 50mg']\n"
     ]
    },
    {
     "data": {
      "text/html": [
       "<div>\n",
       "<style scoped>\n",
       "    .dataframe tbody tr th:only-of-type {\n",
       "        vertical-align: middle;\n",
       "    }\n",
       "\n",
       "    .dataframe tbody tr th {\n",
       "        vertical-align: top;\n",
       "    }\n",
       "\n",
       "    .dataframe thead th {\n",
       "        text-align: right;\n",
       "    }\n",
       "</style>\n",
       "<table border=\"1\" class=\"dataframe\">\n",
       "  <thead>\n",
       "    <tr style=\"text-align: right;\">\n",
       "      <th></th>\n",
       "      <th>Age</th>\n",
       "      <th>Gender</th>\n",
       "      <th>Main Symptom</th>\n",
       "      <th>Diagnosis</th>\n",
       "      <th>Treatment</th>\n",
       "    </tr>\n",
       "  </thead>\n",
       "  <tbody>\n",
       "    <tr>\n",
       "      <th>0</th>\n",
       "      <td>42</td>\n",
       "      <td>female</td>\n",
       "      <td>headaches</td>\n",
       "      <td>migraine</td>\n",
       "      <td>sumatriptan 50mg</td>\n",
       "    </tr>\n",
       "  </tbody>\n",
       "</table>\n",
       "</div>"
      ],
      "text/plain": [
       "  Age  Gender Main Symptom Diagnosis         Treatment\n",
       "0  42  female    headaches  migraine  sumatriptan 50mg"
      ]
     },
     "execution_count": 5,
     "metadata": {},
     "output_type": "execute_result"
    }
   ],
   "source": [
    "from langchain_openai import ChatOpenAI\n",
    "from langchain_core.output_parsers import CommaSeparatedListOutputParser\n",
    "from langchain_core.prompts import PromptTemplate\n",
    "\n",
    "# Initialize the parser and LLM\n",
    "csv_parser = CommaSeparatedListOutputParser()\n",
    "llm = ChatOpenAI(model=\"gpt-4o-mini-2024-07-18\", temperature=0)\n",
    "\n",
    "# Create prompt template with format instructions\n",
    "prompt = PromptTemplate(\n",
    "    template=\"Extract the following from this patient note:\\n\"\n",
    "             \"Age, Gender, Main Symptom, Diagnosis, Treatment\\n\\n\"\n",
    "             \"Patient Note:\\n{note}\\n\\n\"\n",
    "             \"{format_instructions}\",\n",
    "    input_variables=[\"note\"],\n",
    "    partial_variables={\"format_instructions\": csv_parser.get_format_instructions()}\n",
    ")\n",
    "\n",
    "# Create chain: prompt -> LLM -> parser\n",
    "extraction_chain = prompt | llm | csv_parser\n",
    "\n",
    "# Simple patient note\n",
    "patient_note = \"\"\"\n",
    "Jane Doe, a 42-year-old female, came in with headaches \n",
    "lasting for 3 days. Patient reports sensitivity to light and sound.\n",
    "Prescribed sumatriptan 50mg as needed and recommended stress reduction techniques.\n",
    "\"\"\"\n",
    "\n",
    "# Extract data\n",
    "extracted_data = extraction_chain.invoke({\"note\": patient_note})\n",
    "print(extracted_data)\n",
    "\n",
    "# Convert to structured format\n",
    "import pandas as pd\n",
    "\n",
    "headers = [\"Age\", \"Gender\", \"Main Symptom\", \"Diagnosis\", \"Treatment\"]\n",
    "df = pd.DataFrame([extracted_data], columns=headers)\n",
    "df"
   ]
  },
  {
   "cell_type": "code",
   "execution_count": null,
   "id": "8b5391ba-de4b-47bb-9421-9225b37b7fb5",
   "metadata": {},
   "outputs": [],
   "source": []
  },
  {
   "cell_type": "code",
   "execution_count": null,
   "id": "ddaebbf6-ecf5-436c-9906-2e02a9279447",
   "metadata": {},
   "outputs": [],
   "source": []
  }
 ],
 "metadata": {
  "kernelspec": {
   "display_name": "Python 3 (ipykernel)",
   "language": "python",
   "name": "python3"
  },
  "language_info": {
   "codemirror_mode": {
    "name": "ipython",
    "version": 3
   },
   "file_extension": ".py",
   "mimetype": "text/x-python",
   "name": "python",
   "nbconvert_exporter": "python",
   "pygments_lexer": "ipython3",
   "version": "3.12.4"
  }
 },
 "nbformat": 4,
 "nbformat_minor": 5
}
